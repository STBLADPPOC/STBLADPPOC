{
 "cells": [
  {
   "cell_type": "code",
   "execution_count": null,
   "metadata": {},
   "outputs": [],
   "source": [
    "from dotenv import load_dotenv\n",
    "import os\n",
    "import utils\n",
    "import pandas as pd\n",
    "from llama_index.llms.azure_openai import AzureOpenAI\n",
    "from llama_index.readers.web import SimpleWebPageReader\n",
    "from llama_index.core.node_parser import TokenTextSplitter\n",
    "from llama_index.embeddings.azure_openai import AzureOpenAIEmbedding\n",
    "from llama_index.core import SummaryIndex\n",
    "from llama_index.core import (\n",
    "    VectorStoreIndex,\n",
    "    Settings,\n",
    "    SimpleDirectoryReader,\n",
    "    load_indices_from_storage,\n",
    "    load_index_from_storage,\n",
    "    StorageContext\n",
    ")"
   ]
  },
  {
   "cell_type": "code",
   "execution_count": 2,
   "metadata": {},
   "outputs": [],
   "source": [
    "load_dotenv()\n",
    "os.environ[\"OPENAI_API_KEY\"] = os.getenv('API_KEY')\n",
    "os.environ[\"AZURE_OPENAI_ENDPOINT\"] = os.getenv('OPENAI_API_BASE')\n",
    "os.environ[\"OPENAI_API_VERSION\"] = \"2023-07-01-preview\""
   ]
  },
  {
   "cell_type": "code",
   "execution_count": 3,
   "metadata": {},
   "outputs": [],
   "source": [
    "openai_embed_model = AzureOpenAIEmbedding(\n",
    "    model=\"text-embedding-ada-002\",\n",
    "    api_key=os.environ[\"OPENAI_API_KEY\"],\n",
    "    azure_endpoint=os.environ[\"AZURE_OPENAI_ENDPOINT\"],\n",
    "    api_version=os.environ[\"OPENAI_API_VERSION\"],\n",
    ")"
   ]
  },
  {
   "cell_type": "code",
   "execution_count": 4,
   "metadata": {},
   "outputs": [],
   "source": [
    "llm = AzureOpenAI(\n",
    "    engine=\"stb-gpt-35-turbo\", model=\"gpt-35-turbo\", temperature=0.0\n",
    "    #engine=\"STB-POC-JUNE\", model=\"gpt-4\", temperature=0.0\n",
    ")"
   ]
  },
  {
   "cell_type": "code",
   "execution_count": 5,
   "metadata": {},
   "outputs": [],
   "source": [
    "#Settings\n",
    "Settings.llm = llm\n",
    "Settings.embed_model = openai_embed_model"
   ]
  },
  {
   "cell_type": "code",
   "execution_count": null,
   "metadata": {},
   "outputs": [],
   "source": [
    "url_list = utils.read_excel_to_list(pd,'data/urls.xlsx')\n",
    "urls = utils.get_values(url_list)\n",
    "print(urls)"
   ]
  },
  {
   "cell_type": "code",
   "execution_count": null,
   "metadata": {},
   "outputs": [],
   "source": [
    "# storage_context = StorageContext.from_defaults(\n",
    "#     docstore=SimpleDocumentStore.from_persist_dir(persist_dir=\"<persist_dir>\"),\n",
    "#     vector_store=SimpleVectorStore.from_persist_dir(persist_dir=\"<persist_dir>\"),\n",
    "#     index_store=SimpleIndexStore.from_persist_dir(persist_dir=\"<persist_dir>\"),\n",
    "# )"
   ]
  },
  {
   "cell_type": "code",
   "execution_count": null,
   "metadata": {},
   "outputs": [],
   "source": [
    "documents = SimpleWebPageReader(html_to_text=True).load_data(urls)\n",
    "index_web = VectorStoreIndex.from_documents(documents)"
   ]
  },
  {
   "cell_type": "code",
   "execution_count": null,
   "metadata": {},
   "outputs": [],
   "source": [
    "documents = SimpleDirectoryReader('data/docs').load_data()\n",
    "index_doc = VectorStoreIndex.from_documents(documents,show_progress=True)"
   ]
  },
  {
   "cell_type": "code",
   "execution_count": null,
   "metadata": {},
   "outputs": [],
   "source": [
    "# load index from disk\n",
    "# rebuild storage context\n",
    "storage_context = StorageContext.from_defaults(persist_dir=\"storage1\")\n",
    "# load index\n",
    "index = load_index_from_storage(storage_context, index_id=[\"index_web\",\"index_doc\"])\n",
    "print(index)"
   ]
  }
 ],
 "metadata": {
  "kernelspec": {
   "display_name": ".venv",
   "language": "python",
   "name": "python3"
  },
  "language_info": {
   "codemirror_mode": {
    "name": "ipython",
    "version": 3
   },
   "file_extension": ".py",
   "mimetype": "text/x-python",
   "name": "python",
   "nbconvert_exporter": "python",
   "pygments_lexer": "ipython3",
   "version": "3.11.3"
  }
 },
 "nbformat": 4,
 "nbformat_minor": 2
}
