{
 "cells": [
  {
   "cell_type": "code",
   "execution_count": 1,
   "metadata": {},
   "outputs": [
    {
     "name": "stderr",
     "output_type": "stream",
     "text": [
      "c:\\VSCode\\stb\\.venv\\Lib\\site-packages\\tqdm\\auto.py:21: TqdmWarning: IProgress not found. Please update jupyter and ipywidgets. See https://ipywidgets.readthedocs.io/en/stable/user_install.html\n",
      "  from .autonotebook import tqdm as notebook_tqdm\n"
     ]
    }
   ],
   "source": [
    "import os\n",
    "from dotenv import load_dotenv\n",
    "from llama_index.core.chat_engine import SimpleChatEngine\n",
    "from llama_index.llms.azure_openai import AzureOpenAI\n",
    "from llama_index.llms.openai import OpenAI"
   ]
  },
  {
   "cell_type": "code",
   "execution_count": 6,
   "metadata": {},
   "outputs": [],
   "source": [
    "load_dotenv()\n",
    "os.environ[\"OPENAI_API_KEY\"] = os.getenv('API_KEY')\n",
    "os.environ[\"AZURE_OPENAI_ENDPOINT\"] = os.getenv('OPENAI_API_BASE')\n",
    "os.environ[\"OPENAI_API_VERSION\"] = \"2023-07-01-preview\""
   ]
  },
  {
   "cell_type": "code",
   "execution_count": null,
   "metadata": {},
   "outputs": [],
   "source": [
    "llm = AzureOpenAI(\n",
    "    engine=\"stb-gpt-35-turbo\", model=\"gpt-35-turbo\", temperature=0.0\n",
    ")\n",
    "response = llm.complete(\"The sky is a beautiful blue and\")\n",
    "print(response)"
   ]
  },
  {
   "cell_type": "markdown",
   "metadata": {},
   "source": [
    "## Create Translation Module"
   ]
  },
  {
   "cell_type": "code",
   "execution_count": 24,
   "metadata": {},
   "outputs": [],
   "source": [
    "translation_prompt = \"\"\"\n",
    "You are a professional translator. Determine whether the text is in English or not.\n",
    "\n",
    "Instructions:\n",
    "1. If the text is not in English, translate it to English.\n",
    "2. If the text is in English, output the original text without translation or changes.\n",
    "3. Refrain from adding any additional comments or information to the text.\n",
    "\"\"\""
   ]
  },
  {
   "cell_type": "code",
   "execution_count": 25,
   "metadata": {},
   "outputs": [],
   "source": [
    "chat_engine = SimpleChatEngine.from_defaults(\n",
    "    llm=llm,\n",
    "    system_prompt=translation_prompt\n",
    ")"
   ]
  },
  {
   "cell_type": "code",
   "execution_count": 27,
   "metadata": {},
   "outputs": [],
   "source": [
    "incoming_email_chinese = \"\"\"\n",
    "在中国境内飞猪平台上购买门票后发现信息有误后无法修改 现门票二维码有被盗用售卖风险 无法联系上商家进行后续处理 望新加坡文旅局帮忙解决问题 要求立即联系商家立即废票并退还门票费用\n",
    "\"\"\""
   ]
  },
  {
   "cell_type": "code",
   "execution_count": 26,
   "metadata": {},
   "outputs": [
    {
     "name": "stdout",
     "output_type": "stream",
     "text": [
      "After purchasing tickets on the Fliggy platform within China, I discovered that the information was incorrect and cannot be modified. Now there is a risk of the ticket QR code being stolen and resold, and I am unable to contact the merchant for further assistance. I hope that the Singapore Tourism Board can help resolve this issue. I request immediate contact with the merchant to cancel the tickets and refund the ticket fees.\n"
     ]
    }
   ],
   "source": [
    "eng_ch_response = chat_engine.chat(incoming_email_chinese)\n",
    "print(eng_ch_response)"
   ]
  },
  {
   "cell_type": "code",
   "execution_count": 9,
   "metadata": {},
   "outputs": [],
   "source": [
    "incoming_email_japanese = \"\"\"\n",
    "マーライオンをモチーフとしたオリジナルキャラクターの使用許可を頂きたいです。\n",
    "\n",
    "はじめまして。\n",
    "イラストレーターの長坂康平(活動名ナガサカ)と申します。\n",
    "\n",
    "toastyandtipsyという、オーダーメイドで結婚式のペーパーアイテムを制作しているショップ様から、マーライオンをモチーフとしたキャラクターデザイン、及びそのキャラクターを使用したペーパーアイテムの制作の業務委託を受けました。\n",
    "\n",
    "シンガポールのことが好きな新郎新婦様から、是非マーライオンのキャラクターで結婚式を行いたいという強いご要望がありました。\n",
    "\n",
    "新郎新婦様へのペーパーアイテムの販売、及び結婚式の使用のみの使用になります。\n",
    "\n",
    "以上の条件の元、マーライオンのデザイン使用を許諾いただけないでしょうか。よろしくお願\n",
    "\"\"\""
   ]
  },
  {
   "cell_type": "code",
   "execution_count": 10,
   "metadata": {},
   "outputs": [
    {
     "name": "stdout",
     "output_type": "stream",
     "text": [
      "Hello,\n",
      "I would like to request permission to use a character design based on the Merlion.\n",
      "\n",
      "My name is Yasuhei Nagasaka, also known as illustrator Nagasaka. I have been commissioned by a shop called toastyandtipsy, which specializes in creating custom wedding paper items, to create a character design based on the Merlion and to produce paper items featuring this character.\n",
      "\n",
      "The bride and groom, who have a strong affinity for Singapore, expressed a strong desire to have a wedding featuring the Merlion character.\n",
      "\n",
      "The use of the paper items will be limited to selling them to the bride and groom and using them for their wedding.\n",
      "\n",
      "Under these conditions, would it be possible to grant permission for the use of the Merlion design? Thank you very much.\n"
     ]
    }
   ],
   "source": [
    "eng_jap_response = chat_engine.chat(incoming_email_japanese)\n",
    "print(eng_jap_response)"
   ]
  },
  {
   "cell_type": "code",
   "execution_count": 11,
   "metadata": {},
   "outputs": [],
   "source": [
    "incoming_email_korean = \"\"\"\n",
    "안녕하십니까\n",
    "\n",
    "저희는 한국산림복지진흥원이라는 기관입니다.\n",
    "\n",
    "한국산림복지진흥원은 숲과 함께 국민행복을 키우는 산림복지전문기관으로 도약하여 온 국민이 산림복지서비스를 향유할 수 있는 시대를 만들기 위해 노력하고 있습니다.\n",
    "\n",
    "2023년에 열린 웰니스 페스티벌에 참여하지 못해 아쉬움이 컸습니다.\n",
    "\n",
    "혹시 2024년에도 제 3회 웰니스 페스티벌이 개최예정인지 문의드립니다.\n",
    "\n",
    "감사합니다.\n",
    "\"\"\""
   ]
  },
  {
   "cell_type": "code",
   "execution_count": 12,
   "metadata": {},
   "outputs": [
    {
     "name": "stdout",
     "output_type": "stream",
     "text": [
      "Hello,\n",
      "\n",
      "We are the Korea Forest Welfare Promotion Institute.\n",
      "\n",
      "The Korea Forest Welfare Promotion Institute is a specialized organization dedicated to promoting forest welfare and enhancing the happiness of the people through forests. We are striving to create an era where all citizens can enjoy forest welfare services.\n",
      "\n",
      "We were disappointed that we couldn't participate in the Wellness Festival held in 2023. We would like to inquire if the 3rd Wellness Festival is scheduled to be held in 2024.\n",
      "\n",
      "Thank you.\n"
     ]
    }
   ],
   "source": [
    "eng_kor_response = chat_engine.chat(incoming_email_korean)\n",
    "print(eng_kor_response)"
   ]
  },
  {
   "cell_type": "markdown",
   "metadata": {},
   "source": [
    "## Email Decomposition"
   ]
  },
  {
   "cell_type": "code",
   "execution_count": 13,
   "metadata": {},
   "outputs": [],
   "source": [
    "from llama_index.core import PromptTemplate"
   ]
  },
  {
   "cell_type": "code",
   "execution_count": 14,
   "metadata": {},
   "outputs": [
    {
     "data": {
      "text/plain": [
       "str"
      ]
     },
     "execution_count": 14,
     "metadata": {},
     "output_type": "execute_result"
    }
   ],
   "source": [
    "type(eng_jap_response.response)"
   ]
  },
  {
   "cell_type": "code",
   "execution_count": 15,
   "metadata": {},
   "outputs": [
    {
     "name": "stdout",
     "output_type": "stream",
     "text": [
      "Hello,\n",
      "I would like to request permission to use a character design based on the Merlion.\n",
      "\n",
      "My name is Yasuhei Nagasaka, also known as illustrator Nagasaka. I have been commissioned by a shop called toastyandtipsy, which specializes in creating custom wedding paper items, to create a character design based on the Merlion and to produce paper items featuring this character.\n",
      "\n",
      "The bride and groom, who have a strong affinity for Singapore, expressed a strong desire to have a wedding featuring the Merlion character.\n",
      "\n",
      "The use of the paper items will be limited to selling them to the bride and groom and using them for their wedding.\n",
      "\n",
      "Under these conditions, would it be possible to grant permission for the use of the Merlion design? Thank you very much.\n"
     ]
    }
   ],
   "source": [
    "print(eng_jap_response.response)"
   ]
  },
  {
   "cell_type": "code",
   "execution_count": 16,
   "metadata": {},
   "outputs": [],
   "source": [
    "query_gen_prompt_str = (\n",
    "    \"You are a helpful assistant that generates multiple search queries based on a \"\n",
    "    \"single input query. Generate {num_queries} search queries, one on each line, \"\n",
    "    \"related to the following input query:\\n\"\n",
    "    \"Query: {query}\\n\"\n",
    "    \"Queries:\\n\"\n",
    ")\n",
    "query_gen_prompt = PromptTemplate(query_gen_prompt_str)"
   ]
  },
  {
   "cell_type": "code",
   "execution_count": 17,
   "metadata": {},
   "outputs": [
    {
     "name": "stdout",
     "output_type": "stream",
     "text": [
      "['1. What is the significance of the Merlion in Singapore?', '2. How can I obtain permission to use a character design for commercial purposes?', '3. Are there any copyright restrictions on using the Merlion design?', '4. What are the legal requirements for selling custom wedding paper items featuring a copyrighted character design?']\n"
     ]
    }
   ],
   "source": [
    "def generate_queries(llm, query_str: str, num_queries: int = 4):\n",
    "    fmt_prompt = query_gen_prompt.format(\n",
    "        num_queries=num_queries, query=query_str\n",
    "    )\n",
    "    response = llm.complete(fmt_prompt)\n",
    "    queries = response.text.split(\"\\n\")\n",
    "    return queries\n",
    "\n",
    "queries = generate_queries(llm, eng_jap_response.response, num_queries=4)\n",
    "\n",
    "print(queries)"
   ]
  },
  {
   "cell_type": "code",
   "execution_count": 18,
   "metadata": {},
   "outputs": [
    {
     "data": {
      "text/plain": [
       "list"
      ]
     },
     "execution_count": 18,
     "metadata": {},
     "output_type": "execute_result"
    }
   ],
   "source": [
    "type(queries)"
   ]
  },
  {
   "cell_type": "markdown",
   "metadata": {},
   "source": [
    "## Build Vector Store"
   ]
  },
  {
   "cell_type": "code",
   "execution_count": 19,
   "metadata": {},
   "outputs": [],
   "source": [
    "# Using a simple vector store\n",
    "from llama_index.core import (\n",
    "    VectorStoreIndex,\n",
    "    SimpleDirectoryReader,\n",
    "    load_index_from_storage,\n",
    "    StorageContext,\n",
    ")\n",
    "from llama_index.embeddings.azure_openai import AzureOpenAIEmbedding"
   ]
  },
  {
   "cell_type": "code",
   "execution_count": 20,
   "metadata": {},
   "outputs": [],
   "source": [
    "embed_model = AzureOpenAIEmbedding(\n",
    "    model=\"text-embedding-ada-002\",\n",
    "    api_key=os.environ[\"OPENAI_API_KEY\"],\n",
    "    azure_endpoint=os.environ[\"AZURE_OPENAI_ENDPOINT\"],\n",
    "    api_version=os.environ[\"OPENAI_API_VERSION\"],\n",
    ")"
   ]
  },
  {
   "cell_type": "code",
   "execution_count": 21,
   "metadata": {},
   "outputs": [
    {
     "data": {
      "text/plain": [
       "AzureOpenAIEmbedding(model_name='text-embedding-ada-002', embed_batch_size=10, callback_manager=<llama_index.core.callbacks.base.CallbackManager object at 0x0000024413202150>, num_workers=None, additional_kwargs={}, api_key='bc436823b2b2405ab95361669b304901', api_base='https://oai-ladp.openai.azure.com/', api_version='2023-07-01-preview', max_retries=10, timeout=60.0, default_headers=None, reuse_client=True, dimensions=None, azure_endpoint='https://oai-ladp.openai.azure.com/', azure_deployment=None, azure_ad_token_provider=None)"
      ]
     },
     "execution_count": 21,
     "metadata": {},
     "output_type": "execute_result"
    }
   ],
   "source": [
    "embed_model"
   ]
  },
  {
   "cell_type": "code",
   "execution_count": 22,
   "metadata": {},
   "outputs": [],
   "source": [
    "from llama_index.core import Settings\n",
    "\n",
    "Settings.llm = llm\n",
    "Settings.embed_model = embed_model"
   ]
  },
  {
   "cell_type": "code",
   "execution_count": null,
   "metadata": {},
   "outputs": [],
   "source": [
    "# load documents\n",
    "documents = SimpleDirectoryReader(\"./data\").load_data()"
   ]
  },
  {
   "cell_type": "code",
   "execution_count": null,
   "metadata": {},
   "outputs": [
    {
     "data": {
      "text/plain": [
       "[Document(id_='c1a62b24-cdb3-4415-bca8-cb39d813c3fa', embedding=None, metadata={'file_path': 'c:\\\\VSCode\\\\stb\\\\data\\\\SOP_Links.txt', 'file_name': 'SOP_Links.txt', 'file_type': 'text/plain', 'file_size': 8304, 'creation_date': '2024-05-23', 'last_modified_date': '2024-05-23'}, excluded_embed_metadata_keys=['file_name', 'file_type', 'file_size', 'creation_date', 'last_modified_date', 'last_accessed_date'], excluded_llm_metadata_keys=['file_name', 'file_type', 'file_size', 'creation_date', 'last_modified_date', 'last_accessed_date'], relationships={}, text=\"Email Enquiries\\r\\n1. Email social media collaborations\\r\\nhttps://orchid.stb.gov.sg/display/INDUSTRY/General+SOP+-+CC (expand social media collaborations)\\r\\nGuidelines\\r\\nStep 1: Filtering\\r\\n•\\tProfiles with 300k followers and up to re-route to STB teams (HQ/RO)\\r\\n•\\tAnything below may proceed with template response (Please refer below)\\r\\n•\\tRequests that come in from legitimate Brands and company profiles may be prioritised and shared with HQ Social team for consideration.\\r\\nStep 2: Actions to take\\r\\n•\\tCollab request from a market that STB has a regional office > Share with RO team to consider opportunities (Please find attached document for RO contact list)\\r\\n•\\tCollab request from a market/country without an STB presence > Share with HQ Social team to consider opportunities\\r\\n\\r\\n2. TA complaints\\r\\nhttps://orchid.stb.gov.sg/display/INDUSTRY/General+SOP+-+CC (expand TATG)\\r\\nI understand that it was listed as point 3, however, Hotel complaints has no official updated SOP, hence, understanding TA complaints SOP first, would help you to understand our current SOP for hotel complaints.\\r\\n\\r\\nHandling TA Complaints (Emails)\\r\\nStep 1: CSO to use initial information given to assess if the complaint is a service issue or breach of TA Act \\r\\n•\\t i. TA or Supplier cancels and did not provide refund; travel product not fully delivered; customer did not accept changes to the Travel product → Potential breach of TA Act\\r\\n•\\t ii. Consumer cancels → No breach; Consumer to refer to cancellation T&Cs in the contract.\\r\\n  Step 2: Request for additional information (where necessary)\\r\\n\\r\\nStep 2: Use below template to ask for more information from MOP (if original email from MOP lacks information to ascertain if it is a service or non-service issue)\\r\\nDear XXX\\r\\nThank you for sharing your experience with us.\\r\\nWe noted that your concerns have been raised with (insert Travel Agent name).  To help us in better understanding of the issue, please provide the following details:\\r\\n•\\tBooking confirmation (PDF format)\\r\\n•\\tInvoices including complete terms and conditions (PDF format)\\r\\n•\\tAll Email/Chat correspondences with (insert Travel Agent name)\\r\\n•\\tAny other related documents such as images/photos/screenshots/videos\\r\\nFollowing the receipt of the above documents, we will share it along with your feedback with the relevant department for review and assessment, where they may also share the information provided with (insert Travel Agent name).\\r\\nWe look forward to hearing from you.\\r\\n  \\r\\nStep 3a. If the case is assessed as a service issue (for local consumer complaints only)\\r\\nFor tourist complaints seeking monetary redress, please follow the current SOPs- forward it to CASE for their handling\\r\\nDear XXX\\r\\nThank you for taking time to share your experience with us, it must have been difficult for you to have your travel plans cancelled.\\r\\nAs much as we understand the challenges you have faced, STB is not in a position to interfere in commercial contracts such as the one you have with (insert Travel Agent name). Nevertheless, there are steps you may take to help with your current situation.\\r\\nWe would advise you to try to independently reach an amicable agreement with (insert Travel Agent name) if you have not already done so.\\r\\nShould you require a professional organisation to mediate with the travel agent on your behalf, please reach out to the Consumers Association of Singapore (CASE). Alternatively, you may file a case directly with the Small Claims Tribunal (SCT).\\r\\nThe contacts for CASE and SCT are as follow:\\r\\nConsumers Association of Singapore\\r\\n•\\tWebsite: www.case.org.sg\\r\\n•\\tHotline: 6100-0315 (Mon - Fri, 9am to 5pm)\\r\\nSmall Claims Tribunals\\r\\n•\\tWebsite: www.judiciary.gov.sg/civil/small-claims\\r\\nWe hope that the information shared has been helpful. \\r\\n\\r\\nStep 3b. If the case is assessed as a breach of TA Act. Forward MOP's correspondence and information to TALRR in below format:\\r\\nSummary of the complaint\\t•\\tName of TA\\r\\n•\\tWhat happened\\r\\n•\\tWhat is the desired outcome? (e.g., MOP wanted STB to investigate the TA)\\r\\n•\\tPDPA consent?\\r\\nWhich party cancelled\\tTA or MOP\\r\\n\\r\\n3. Hotel Complaints\\r\\nWe don’t have an official updated SOP, however hotels team has been extremely helpful in advising us on cases. They also have a very similar process with TA complaints as they are similar in nature. \\r\\n\\r\\nEssentially, hotel complaints follow the above TA complaint SOP stated in point 2. \\r\\n\\r\\nStep 1: Use below template to ask for more information from MOP (if original email from MOP lacks information)\\r\\nDear XXX\\r\\nThank you for sharing your experience with us.\\r\\nWe noted that your concerns have been raised with (insert Hotel name).  To help us in better understanding of the issue, please provide the following details:\\r\\n•\\tBooking confirmation (PDF format)\\r\\n•\\tInvoices including complete terms and conditions (PDF format)\\r\\n•\\tAll Email/Chat correspondences with (insert Hotel name)\\r\\n•\\tAny other related documents such as images/photos/screenshots/videos\\r\\nFollowing the receipt of the above documents, we will share it along with your feedback with the relevant department for review and assessment, where they may also share the information provided with (insert Hotel name).\\r\\nWe look forward to hearing from you.\\r\\n\\r\\nStep 2: Forward email received from MoP with all relevant information to stb_hotels@stb.gov.sg where hotels team would further advice.\\r\\n\\r\\nStep 3: Hotels team normally forwards everything to hotel where they may respond to MoP. Hotel’s team will normally advice STB CC if case has been concluded and STB CC will close the case.\\r\\n\\r\\n4. Attractions enquiries\\r\\nNo SOP for these as they are fairly simple to answer. Examples of these type of enquiries include “What time does Singapore Flyer open?” or “Merlion was closed for renovation works. Has it opened yet? Or “Does STB have discounts or can STB book attractions on MoP’s behalf? Lastly it also includes feedback on the attractions or staff of the attractions which the team gets plenty of.\\r\\n\\r\\n\\r\\n5. Business Proposals\\r\\nThese are normally more complex hence there is no SOP. Business proposals comes in many forms and can easily be confused with a sales email.\\r\\n\\r\\nA sales or spam email will not be forwarded to anyone. However, a business proposal has to go to a Line Unit for their assessment.\\r\\n\\r\\nSimply put, CSO’s SOP for business proposal enquiries is actually only to find the correct Line Unit, and get the Line Unit to takeover the proposal should they assess that they are interested. \\r\\n\\r\\nThe complexity comes in finding the correct Line Unit. Additionally, different Line Units have different SOP’s. \\r\\n\\r\\nFor example case reference: 02-2024-06-00487473(For PS reference), where MoP wrote in wanting to work with STB to build an integrated report dedicated to motorsports in Singapore. The case was sent to Integrated Resorts team, then F1 team, then marketing, then finally ended with the Sports Business Partnership team. \\r\\n\\r\\nThe sports Business Partnership Team’s SOP is to reply directly to MoP while copying STB CC. \\r\\n\\r\\nCall Enquiries\\r\\nDo note that call enquiries are normally simpler and can normally be answered on the spot.\\r\\n1.Attraction Enquiries\\r\\n\\r\\nSimilar SOP as above. Answers can normally be found online. And if enquiry is too complicated, CSO may ask MoP to write in where we may get further advice from LU.\\r\\n\\r\\n2. TG license renewal enquiries\\r\\nSOP is guide MoP to https://trust.stb.gov.sg/ and show MoP where they need to login into their own personal account and follow the given instructions to renew their license. If they do ask for the requirements, CSO would be able to give them the requirements needed to renew their license.\\r\\n\\r\\n3. TG License collection\\r\\nMoP’s many times call in to ask when or how they can collect their TG license. CSO normally informs them to wait for the email that TG team will send to MoP informing them of the collection date/time.\\r\\n\\r\\n4. Marketing/Collaborations\\r\\nSOP is to get MoP to write in with the details of their proposals. Email team will then assess and find the appropriate Line Units responsible for responding to MoP.\\r\\n\\r\\n5. Business proposals\\r\\nSOP is the same as point 4. MoP’s have to write in with the details of their proposals. Email team then finds the appropriate Line Units responsible for responding to MoP.\\r\\n\", start_char_idx=None, end_char_idx=None, text_template='{metadata_str}\\n\\n{content}', metadata_template='{key}: {value}', metadata_seperator='\\n'),\n",
       " Document(id_='c33aa918-3475-455b-95e5-1da802a7bd2c', embedding=None, metadata={'file_path': 'c:\\\\VSCode\\\\stb\\\\data\\\\urls.xlsx', 'file_name': 'urls.xlsx', 'file_type': 'application/vnd.openxmlformats-officedocument.spreadsheetml.sheet', 'file_size': 11707, 'creation_date': '2024-05-26', 'last_modified_date': '2024-05-29'}, excluded_embed_metadata_keys=['file_name', 'file_type', 'file_size', 'creation_date', 'last_modified_date', 'last_accessed_date'], excluded_llm_metadata_keys=['file_name', 'file_type', 'file_size', 'creation_date', 'last_modified_date', 'last_accessed_date'], relationships={}, text='PK\\x03\\x04\\x14\\x00\\x06\\x00\\x08\\x00\\x00\\x00!\\x00A7n\\x01\\x00\\x00\\x04\\x05\\x00\\x00\\x13\\x00\\x08\\x02[Content_Types].xml \\x04\\x02(\\x00\\x02\\x00\\x00\\x00\\x00\\x00\\x00\\x00\\x00\\x00\\x00\\x00\\x00\\x00\\x00\\x00\\x00\\x00\\x00\\x00\\x00\\x00\\x00\\x00\\x00\\x00\\x00\\x00\\x00\\x00\\x00\\x00\\x00\\x00\\x00\\x00\\x00\\x00\\x00\\x00\\x00\\x00\\x00\\x00\\x00\\x00\\x00\\x00\\x00\\x00\\x00\\x00\\x00\\x00\\x00\\x00\\x00\\x00\\x00\\x00\\x00\\x00\\x00\\x00\\x00\\x00\\x00\\x00\\x00\\x00\\x00\\x00\\x00\\x00\\x00\\x00\\x00\\x00\\x00\\x00\\x00\\x00\\x00\\x00\\x00\\x00\\x00\\x00\\x00\\x00\\x00\\x00\\x00\\x00\\x00\\x00\\x00\\x00\\x00\\x00\\x00\\x00\\x00\\x00\\x00\\x00\\x00\\x00\\x00\\x00\\x00\\x00\\x00\\x00\\x00\\x00\\x00\\x00\\x00\\x00\\x00\\x00\\x00\\x00\\x00\\x00\\x00\\x00\\x00\\x00\\x00\\x00\\x00\\x00\\x00\\x00\\x00\\x00\\x00\\x00\\x00\\x00\\x00\\x00\\x00\\x00\\x00\\x00\\x00\\x00\\x00\\x00\\x00\\x00\\x00\\x00\\x00\\x00\\x00\\x00\\x00\\x00\\x00\\x00\\x00\\x00\\x00\\x00\\x00\\x00\\x00\\x00\\x00\\x00\\x00\\x00\\x00\\x00\\x00\\x00\\x00\\x00\\x00\\x00\\x00\\x00\\x00\\x00\\x00\\x00\\x00\\x00\\x00\\x00\\x00\\x00\\x00\\x00\\x00\\x00\\x00\\x00\\x00\\x00\\x00\\x00\\x00\\x00\\x00\\x00\\x00\\x00\\x00\\x00\\x00\\x00\\x00\\x00\\x00\\x00\\x00\\x00\\x00\\x00\\x00\\x00\\x00\\x00\\x00\\x00\\x00\\x00\\x00\\x00\\x00\\x00\\x00\\x00\\x00\\x00\\x00\\x00\\x00\\x00\\x00\\x00\\x00\\x00\\x00\\x00\\x00\\x00\\x00\\x00\\x00\\x00\\x00\\x00\\x00\\x00\\x00\\x00\\x00\\x00\\x00\\x00\\x00\\x00\\x00\\x00\\x00\\x00\\x00\\x00\\x00\\x00\\x00\\x00\\x00\\x00\\x00\\x00\\x00\\x00\\x00\\x00\\x00\\x00\\x00\\x00\\x00\\x00\\x00\\x00\\x00\\x00\\x00\\x00\\x00\\x00\\x00\\x00\\x00\\x00\\x00\\x00\\x00\\x00\\x00\\x00\\x00\\x00\\x00\\x00\\x00\\x00\\x00\\x00\\x00\\x00\\x00\\x00\\x00\\x00\\x00\\x00\\x00\\x00\\x00\\x00\\x00\\x00\\x00\\x00\\x00\\x00\\x00\\x00\\x00\\x00\\x00\\x00\\x00\\x00\\x00\\x00\\x00\\x00\\x00\\x00\\x00\\x00\\x00\\x00\\x00\\x00\\x00\\x00\\x00\\x00\\x00\\x00\\x00\\x00\\x00\\x00\\x00\\x00\\x00\\x00\\x00\\x00\\x00\\x00\\x00\\x00\\x00\\x00\\x00\\x00\\x00\\x00\\x00\\x00\\x00\\x00\\x00\\x00\\x00\\x00\\x00\\x00\\x00\\x00\\x00\\x00\\x00\\x00\\x00\\x00\\x00\\x00\\x00\\x00\\x00\\x00\\x00\\x00\\x00\\x00\\x00\\x00\\x00\\x00\\x00\\x00\\x00\\x00\\x00\\x00\\x00\\x00\\x00\\x00\\x00\\x00\\x00\\x00\\x00\\x00\\x00\\x00\\x00\\x00\\x00\\x00\\x00\\x00\\x00\\x00\\x00\\x00\\x00\\x00\\x00\\x00\\x00\\x00\\x00\\x00\\x00\\x00\\x00\\x00\\x00\\x00\\x00\\x00\\x00\\x00\\x00\\x00\\x00\\x00\\x00\\x00\\x00\\x00\\x00\\x00\\x00\\x00\\x00\\x00\\x00\\x00\\x00\\x00\\x00\\x00\\x00\\x00\\x00\\x00\\x00\\x00\\x00\\x00\\x00\\x00\\x00\\x00\\x00\\x00\\x00\\x00\\x00\\x00\\x00\\x00\\x00\\x00\\x00\\x00\\x00\\x00\\x00\\x00\\x00\\x00\\x00\\x00\\x00Tn0\\x10W?DV\\x08\\x1c\\x1c[$\\x07xX$\\x19(}\\'fQU\\x08%Ql[&<\\x18&YB@l.YO$`\\x0br=HEV5\\x18\\r\\x06ӵ\\x07Lb.j\"\"%\\x165\\n3NB?C%*\\x02=Y\\x02K)u\\x18b8xR-\\x1aJWQ23V$s\\x1dU.)\\x14P\\x1fI\\x14]h\\x19:C\\x1f@i\\x01m2\\x1f\\x0c3\\t\\x101\\x14 g\\x06/#ݺʸ2\\nx|`G\\x18㮶u_;ѐUOղwj\\x0bs4ȥ-ZeN\\tx\\x18e|o,\\x17 1y\\x08s\\x10i\\x00\\u07ba\\x11\\x1cs\\x02\\tV7\\x17\\x17\\x0e88\\x00wa\\x17:\\x0c\\x04\\x0cCrh\\x1c\\x0eݝA\\x1f\\x0e\\x1b\\x02\\x00\\x00\\x03\\x00PK\\x03\\x04\\x14\\x00\\x06\\x00\\x08\\x00\\x00\\x00!\\x00U0#\\x00\\x00\\x00L\\x02\\x00\\x00\\x0b\\x00\\x08\\x02_rels/.rels \\x04\\x02(\\x00\\x02\\x00\\x00\\x00\\x00\\x00\\x00\\x00\\x00\\x00\\x00\\x00\\x00\\x00\\x00\\x00\\x00\\x00\\x00\\x00\\x00\\x00\\x00\\x00\\x00\\x00\\x00\\x00\\x00\\x00\\x00\\x00\\x00\\x00\\x00\\x00\\x00\\x00\\x00\\x00\\x00\\x00\\x00\\x00\\x00\\x00\\x00\\x00\\x00\\x00\\x00\\x00\\x00\\x00\\x00\\x00\\x00\\x00\\x00\\x00\\x00\\x00\\x00\\x00\\x00\\x00\\x00\\x00\\x00\\x00\\x00\\x00\\x00\\x00\\x00\\x00\\x00\\x00\\x00\\x00\\x00\\x00\\x00\\x00\\x00\\x00\\x00\\x00\\x00\\x00\\x00\\x00\\x00\\x00\\x00\\x00\\x00\\x00\\x00\\x00\\x00\\x00\\x00\\x00\\x00\\x00\\x00\\x00\\x00\\x00\\x00\\x00\\x00\\x00\\x00\\x00\\x00\\x00\\x00\\x00\\x00\\x00\\x00\\x00\\x00\\x00\\x00\\x00\\x00\\x00\\x00\\x00\\x00\\x00\\x00\\x00\\x00\\x00\\x00\\x00\\x00\\x00\\x00\\x00\\x00\\x00\\x00\\x00\\x00\\x00\\x00\\x00\\x00\\x00\\x00\\x00\\x00\\x00\\x00\\x00\\x00\\x00\\x00\\x00\\x00\\x00\\x00\\x00\\x00\\x00\\x00\\x00\\x00\\x00\\x00\\x00\\x00\\x00\\x00\\x00\\x00\\x00\\x00\\x00\\x00\\x00\\x00\\x00\\x00\\x00\\x00\\x00\\x00\\x00\\x00\\x00\\x00\\x00\\x00\\x00\\x00\\x00\\x00\\x00\\x00\\x00\\x00\\x00\\x00\\x00\\x00\\x00\\x00\\x00\\x00\\x00\\x00\\x00\\x00\\x00\\x00\\x00\\x00\\x00\\x00\\x00\\x00\\x00\\x00\\x00\\x00\\x00\\x00\\x00\\x00\\x00\\x00\\x00\\x00\\x00\\x00\\x00\\x00\\x00\\x00\\x00\\x00\\x00\\x00\\x00\\x00\\x00\\x00\\x00\\x00\\x00\\x00\\x00\\x00\\x00\\x00\\x00\\x00\\x00\\x00\\x00\\x00\\x00\\x00\\x00\\x00\\x00\\x00\\x00\\x00\\x00\\x00\\x00\\x00\\x00\\x00\\x00\\x00\\x00\\x00\\x00\\x00\\x00\\x00\\x00\\x00\\x00\\x00\\x00\\x00\\x00\\x00\\x00\\x00\\x00\\x00\\x00\\x00\\x00\\x00\\x00\\x00\\x00\\x00\\x00\\x00\\x00\\x00\\x00\\x00\\x00\\x00\\x00\\x00\\x00\\x00\\x00\\x00\\x00\\x00\\x00\\x00\\x00\\x00\\x00\\x00\\x00\\x00\\x00\\x00\\x00\\x00\\x00\\x00\\x00\\x00\\x00\\x00\\x00\\x00\\x00\\x00\\x00\\x00\\x00\\x00\\x00\\x00\\x00\\x00\\x00\\x00\\x00\\x00\\x00\\x00\\x00\\x00\\x00\\x00\\x00\\x00\\x00\\x00\\x00\\x00\\x00\\x00\\x00\\x00\\x00\\x00\\x00\\x00\\x00\\x00\\x00\\x00\\x00\\x00\\x00\\x00\\x00\\x00\\x00\\x00\\x00\\x00\\x00\\x00\\x00\\x00\\x00\\x00\\x00\\x00\\x00\\x00\\x00\\x00\\x00\\x00\\x00\\x00\\x00\\x00\\x00\\x00\\x00\\x00\\x00\\x00\\x00\\x00\\x00\\x00\\x00\\x00\\x00\\x00\\x00\\x00\\x00\\x00\\x00\\x00\\x00\\x00\\x00\\x00\\x00\\x00\\x00\\x00\\x00\\x00\\x00\\x00\\x00\\x00\\x00\\x00\\x00\\x00\\x00\\x00\\x00\\x00\\x00\\x00\\x00\\x00\\x00\\x00\\x00\\x00\\x00\\x00\\x00\\x00\\x00\\x00\\x00\\x00\\x00\\x00\\x00\\x00\\x00\\x00\\x00\\x00\\x00\\x00\\x00\\x00\\x00\\x00\\x00\\x00\\x00\\x00\\x00\\x00\\x00\\x00\\x00\\x00\\x00\\x00\\x00\\x00\\x00\\x00\\x00\\x00\\x00\\x00\\x00\\x00\\x00\\x00\\x00\\x00\\x00\\x00\\x00\\x00MO0\\x0cHݐ\\x10BKwAH!T~I\\x0f$\\x1bݿ\\'\\x1c\\x10T\\x1a\\x03G\\x7f~<!4\\x12\\x14;#wqu\\x07*&rFq\\x11vGJy(v*K#FD\\x10.W\\x1a\\t\\x13\\x1c\\x16=ZMYb\\x01BS7ϛ\\x7fז\\r?9Lҙ\\x15sbgٮ|l!\\x1aUSh9ibr:\"y_dlD\\x13|-NR\"4\\x122G%\\x7fZ4˝y7\\tëɂ\\x1f\\x01\\x00\\x00\\x03\\x00PK\\x03\\x04\\x14\\x00\\x06\\x00\\x08\\x00\\x00\\x00!\\x00\\x0b\\x11t\\x03\\x00\\x00\\x08\\x00\\x00\\x0f\\x00\\x00\\x00xl/workbook.xmlUmo8\\x10\\x07wM \\x04t\\x15tڪJsTr\\x14YcT\\x1bCH^رgx*g*Z빎O:\\x19\\x1f_ĘZ+ItVzǗ\\r\\x17OkΟ4\\x00۹^H٦\\x05H{\\x1bZ%\"\\x12l\\x1bAI\\x16ʪ4-fEX\\x0f\\x088\\x069KiӮ\\x1c@\\x04-\\x04mvDc*\"Hy\\x00ĚLVc\\x05Y\\x10\\x16;Vw\\n?`ƓtpTR[\\x136\\x07\\x07cdb!\\x05\\x1c\\x1cd>3U=+1$\\x1ek\\x06oaV\\x15\\x1fI4gNsVA\\x1ai+RJVV\\x194.,~\\x10]\\x13t\\x04:\\x13g{9_\\x0b-9J\\x02!\\tB\\x13(%\\x1554\\x04\\x1d]aAڒ~\\uf620p@_\\x10+$ɺ&:Qп\\tyF[ψ$4I\\x0e/\\x7fP%IU&:\\x19\\x1c7\\x12k)4\\x7f\\x1e]@o3\\x02*9$\\x1bO\\x1eTAZqb$1\\x0c;J,K\\x08]\\x17\\'A8Kf\\x03\\x11S?夓Ů\\nzP\\x03%َ\\x16eo4^caP\\x01v}\\x13Zj;Vg|3\\rdqw,\\x05\\x04\\x16\\x0c{\\x7fRX\\x00cxTP+\\x0ep.\\x11GQh.\\rρ,^aɴgdԷNZFS\\x0c=Z}uM\\x0cq6RR o5\\x1eF[y~\\x06e1EF\\x0b\\x17yc32f2B;bǍ8Z\\x7f4^NQ,\\x0b\"J\\tDK\\x07\\x05A\\r\\x01\\x01d\\x03g\\x16\\tP\\x13\\x186\\x11\\x04Spd8\\nc\\'Qb\\x1aȪO?Mj[ٯ}5&f>lH}9@%=9=1\\\\]\\x1e{\\x11\\x1ec\\x17A8\\x7f\\\\.^#_&\\x0b^(\\x7f\\x00\\x00\\x00\\x03\\x00PK\\x03\\x04\\x14\\x00\\x06\\x00\\x08\\x00\\x00\\x00!\\x00>\\x00\\x00\\x00\\x02\\x00\\x00\\x1a\\x00\\x08\\x01xl/_rels/workbook.xml.rels \\x04\\x01(\\x00\\x01\\x00\\x00\\x00\\x00\\x00\\x00\\x00\\x00\\x00\\x00\\x00\\x00\\x00\\x00\\x00\\x00\\x00\\x00\\x00\\x00\\x00\\x00\\x00\\x00\\x00\\x00\\x00\\x00\\x00\\x00\\x00\\x00\\x00\\x00\\x00\\x00\\x00\\x00\\x00\\x00\\x00\\x00\\x00\\x00\\x00\\x00\\x00\\x00\\x00\\x00\\x00\\x00\\x00\\x00\\x00\\x00\\x00\\x00\\x00\\x00\\x00\\x00\\x00\\x00\\x00\\x00\\x00\\x00\\x00\\x00\\x00\\x00\\x00\\x00\\x00\\x00\\x00\\x00\\x00\\x00\\x00\\x00\\x00\\x00\\x00\\x00\\x00\\x00\\x00\\x00\\x00\\x00\\x00\\x00\\x00\\x00\\x00\\x00\\x00\\x00\\x00\\x00\\x00\\x00\\x00\\x00\\x00\\x00\\x00\\x00\\x00\\x00\\x00\\x00\\x00\\x00\\x00\\x00\\x00\\x00\\x00\\x00\\x00\\x00\\x00\\x00\\x00\\x00\\x00\\x00\\x00\\x00\\x00\\x00\\x00\\x00\\x00\\x00\\x00\\x00\\x00\\x00\\x00\\x00\\x00\\x00\\x00\\x00\\x00\\x00\\x00\\x00\\x00\\x00\\x00\\x00\\x00\\x00\\x00\\x00\\x00\\x00\\x00\\x00\\x00\\x00\\x00\\x00\\x00\\x00\\x00\\x00\\x00\\x00\\x00\\x00\\x00\\x00\\x00\\x00\\x00\\x00\\x00\\x00\\x00\\x00\\x00\\x00\\x00\\x00\\x00\\x00\\x00\\x00\\x00\\x00\\x00\\x00\\x00\\x00\\x00\\x00\\x00\\x00\\x00\\x00\\x00\\x00\\x00\\x00\\x00\\x00\\x00\\x00\\x00\\x00\\x00\\x00\\x00\\x00\\x00\\x00\\x00\\x00\\x00\\x00\\x00\\x00\\x00\\x00\\x00\\x00\\x00\\x00\\x00\\x00\\x00\\x00\\x00\\x00\\x00\\x00\\x00\\x00\\x00\\x00\\x00\\x00\\x00\\x00\\x00\\x00\\x00\\x00\\x00\\x00RMK0\\x10\\x0b0wv\\x15\\x11t/\"U\\x0f\\x08ɴ)&!3~\\x1b*]XK/\\x03oyv5\\x0e\\x03\\x13+\\x12\\x04z\\x13l;\\x05o\\x03\\x08b\\x1eG\\x05\\x13\\x12\\x0b\\x0es\\x13>,\\x148(%\\x19\"D҆4j0u2js\\x1dMY˴S쭂 )fC\\x06y\\x1f\\x19\\tI<\\ry\\x00!+E\\x08fMyk\\x0c\\x1cK\\x1e5=|t G\\x1f\\x7f)s墙UtB),f\\x00\\x00\\x00\\x03\\x00PK\\x03\\x04\\x14\\x00\\x06\\x00\\x08\\x00\\x00\\x00!\\x00\\x19ǈ\\x05\\x00\\x00\\x18\\x00\\x00\\x18\\x00\\x00\\x00xl/worksheets/sheet1.xmlɎ0\\x10#; D!\\x10:f=;\\x08V0flgh\\u07bd\\x0b[aX\\n*gxs\\x00mj3\\x12x>q\\x146#?\\x7f\\tqem\\x1aBF`Q革\\x01dQjx\\r\\x19OuNd\\x16\\x1fN\\x03+dCCOd%#aa\\x12\\x1c\\n\\x12Z;B44b\\x16$\\x07\\';+!b#\\x1aa\\x038Ϟl`ߧ f9i<B<̰~$\\x05ʨzHcͷO2~%\\x7f\\x17&\\x07\\n?VR\\\\Y\\x1b, ,ϥg{Qfoy\\x14+(\\x1bj~NH\\'?\\x02\\'wh2\\x0cfy\\x1c\\x11\\x0f\\x06%hŎe\\x00\"\\x01qz\\x7fnϸ#\\x0c\\t=q+\\x0eH\\x1eM\\x7f\\x06>F\\tzx\\x1f_փj\\x1bM\\x1d\\x16c/^{s\\x01KQ܋U\\x10:R\\x1brEi댄\\x17Q8\\tBlص{c=f\\x05\\x1a(x?S!L\\x14:\\x02\\x00\\x00\\x00\\x00\\x00N*A\\x10_\\x03\\x08\\x03f%\"\\x04IR\\x12ԷwZT\\x0fXw\\x1e\\r\\x0cg_M\\x1fo!\\x0c}:\\ny\\x7f{~:·~Xݤ\\x0e}([MnZ\\x1eGyj#ƲŲR\\x0bfQ\\x1ebb\\x16K.b[*56\\\\Z3[\\\\nVmomRO͂\\x02~Ȭ)t>ʓ\\x10Pe6KY7\\x15&\\x10-Vʺ0\\\\ T`-?=\\x0b<KS\\x07y\\x15K\\x7f:\\x18\\x15\\'|CJ+J`\\x12(H[z\\x05S,Ru\\x05SG/u\\x06R\\x0f\\x1aJ2\\x15IꠁԃLhE:h $\\x13Z$k\\x19L\\x1d\\x043ۊ\\x06S42uP\\rSE\\n\\x13ib( u\\x055MV,\\x10RD&%B\\x03ML#\\x19f\\x0b\\r\\x1e4iblMcHFz\\'적ԃ2Ml]1ML#m}C{<a\\x1cO2u\\x1eO:SL#m\\x1d`@(H\\x0en,4:$4A\\x0b\\r\\x17%RkM]\\tR\\x07DF\\x16\\x1aL=h(Ӕ`\\x07\\r\\x1e4iR뒱\\x06R\\x0f\\x1a45A\\x03\\x07\\reԚf\\x13(HB3\\tSxʔiNsɔi]\\x07\\x16\\x1aL\\x1dh2e\\x1ai렽`i2e\\x1ai5\\r4K?\\x1f\\x00\\x00\\x00\\x00\\x00\\x00ln \\x14F_Ű\\x02d\\x04A.\\'\\x11T\\x082_IŹ~ӛpe>\\x1d\\x1f9\\t@A\\x12\\x0e@x\\x11\\x0ekF<\\x12\\x13\\x0ci!\\x14\\x14(n.K\\x13]d? +$;\\x1fFf\\ngDC`\\x01\\x0b\\x081J0\\x150\\t\\x11W*VB7\\x0cR\\x15\\x08A<W\\x0cI}\\x17};6\\x0cvc\\x05Ӻ\\x0e㖣)\\x03ɫѽm43a\\u07b9R=xoT\\x04\\x0bLM\\x15.ڸ\\x1d.\\\\јx\\x05\\x00\\x00\\x03\\x00PK\\x03\\x04\\x14\\x00\\x06\\x00\\x08\\x00\\x00\\x00!\\x00`A\\x07\\x00\\x00\\x11\"\\x00\\x00\\x13\\x00\\x00\\x00xl/theme/theme1.xmlZ͏\\x1b\\x15\\x07@]{a9Ч7z]HI^p@R+\\x14\\x01\\nK\\x02iKz(\\x06h\\x061`#M<rFኊ@bw/3=7s\\x0b\"$I\\x0b\\x1e\"ɌizO&JCRd\\x19OH[\\x13}r\\x03\\x15 O\\x01zRA*g0\\x1d\\x04~[p\\x11c\\x05bY\\x0b|\\tzcV\\r}Y1M<\\x18>Z,茠V(\\x1f1M\\x033&δjbI\\x18<\\x08\\x03&\\x05f]\\x0f\\tR\\x1ebX*ϫ\\u07bb[\\x07\\x10S{dKrc\\x02)(l׃~\\x03`j\\x177j>\\x03\\x19<iƥ3h4vcKҡ\\nj694ao@3;a\\x1bPo{~,\\x01e\\x0e>\\x917|\\x17l\\x1c,8;t;ͦ\\x1a\\x02\\x05Ѱ.=ł\\'j_\\x19\\x17c\\x00h Ê&HS3^DC*S\\x1eJq%\\x0ca\\x10@po,\\x0f\\x08.Ik^D\\x0ci>H\\x04MU{\\x00Z\\x127\\u07fcxy\\x17/\\x0b\\x1de2U!Ne\\x1fw\\x0f_ɍe\\x7fշzXj)^W_\\x7f/\\x7f\\x1f_:\\x04\\x13\\x1a\\x13N%zcx@c\\n?IL\"L-\\t\\x1cnꑊ,\\x1a3\\x17Ol\\x13>\\x15e\\\\g\\x16׳H\\x14u0-1υ\\x00\\x0f\\\\%\\x0bOV=Xq1p=*J]*\\x07\\x11h2($\\tQH\\tq<gZv=3%_(\\x19E}L&Щ\\x15H!/k\\x17Ape㧨ϙ멇F²A~BexpR91+\\x1b\\x08El-feH*0Fs\"K摀-9!t1[6R(zy9/#|\\x108urIT~*!D1:\\x05?\\n\\x07uSJ,w>\\x11<\\x04WT\\x04e%\\x1cO\\x1el+Dleמ诖Vh\\x1f\\x11%\\x13|`e\\x08!q\\x05\\x03lǪO2I5)J+dȒsx8ا\\x04nTbtPxfe\\t\\x0fiG\\x12t{OiKKw7Yc.t]\\x0c\\x0c$7\\x043k\"`&#W\\x05\\x11W)\\x17m\\x06(z\\'늟\\x13,\\x04yj\\x0fV\\x15K/\\x1c^r~\\x10S\\x02n-mnK\\x1bٷo\\x0bۂ涠q}a)Z=\\x13,(cgjȑ4\\x1f\\t51\\x0ciLni\\x04y`\\x02\\x0b\\x14 o\"B\\x7f(0]̥U/%J\\x196TrMi>c>ڝg&X\\x15~\\x03\\x1aO8TnAoCݰ]V놀\\td6Dk3\\x1a\\x12s~Xt\\x1c,ZU;\\x00j[{7רg#\\x075\\\\)sƻ9\\x11\\x00]Ow4\\u05fd.\\x0b7E8%\\x0b+)d\\x04oyt?\\x15p7upEOb\\x1a\\n\\x1aN\"r\\x03Kʙ%\\x12x\\x08C3v\\x052N!x~l\\t/3%\\x156%\\x15R\\r2\\'\\x08hoÁ%&d:t\\x7fB~i붗bAf҈tv\\x0b)>K\\x16_ۃ$_Ϣ%x!\\x1a@{wN%\\x1c\\x1f\\x04\\x14ök;SC\"\\x1fcF8R<\\reKmmP˟\\x19\\x0ckR~֖+NiZiEolv\\x12b\\x17Xezl\\x1d\\x04sxD̢\\x19aQ{\\x08JOsݶ\\x12o;Ħ4o\\x0eg|\\x0c\\x10N\\x11W,;f\\tܙ2=\\x15ƷS>_Lf&.JT,\\x10_uU9y5\\x12@\\x17VVYقzE\\x05\\x15k-\\x1cnMkE[]mNunf\\x0e˞ڤac)ڵ\"\\x059;r/+WpVv^}\\x106\\x06\\x15\\x18U굺_i7zJѨ\\x05F\\x0f@OEqȾ|\\x18i\\x10[?o ́ם\\x19|P57@\\x04o @+\\x1c\\x05\\x17\\x0e*aЬanzA\\x1c=ش\\x1e0?\\x1cǍ\\x1c\\x00\\x1a^64ۣ~8\\x0eF\\x0f|\\x18ss[uG\\x00\\x00\\x00\\x03\\x00PK\\x03\\x04\\x14\\x00\\x06\\x00\\x08\\x00\\x00\\x00!\\x00xn\\x0e\\x03\\x00\\x00\\x07\\x00\\x00\\r\\x00\\x00\\x00xl/styles.xmlUo8\\x0c~?`wW\\x1bv456`W\\x14h\\x0fثb˩P0ds6\\x7f?J\\x1b\\r^\\x12\\x14ɏH:@O̴\\\\\\x0cGg!FL`QkЊeZ|#mQ\\x07,\\x02\\x17͆|`ga\\n46Z\\x03i\\x1bh:#)H\\x1cK\")Wx8<vMPjP\\\\p{0AiC\\x02т&Fxwq$/num/uK=5Y\\x13Z<y\\x12\\x12/r+=-aOчʶԝ\\x19\\x01+QϪp*`x|\\x17D\\x05H\"LB\\x1bd:(*ⲱE7\\x18ٽ8b\\'\\U000143cf%\\x07\\x0280\\x03<ܫ\\x04\\x0co\\x03\\x10\\x0b1+ S\\x1aˌ*@\\x154\\x00\\x1cT`1\\x01\\x01tM\\x05\\x035*>TB\\x1f\\x1eܿ\\r\\ued75tyZqzЊ\\nWb<@:%\\x13\\rݧEV}T\\'\\x0bi?T\\x19uex\\x1c\\r\\x17_F\\x11\\x08Ѧ\\x11ǛN)Lh^jym}\\x07%kI\\rn~x<!7-\\x0e~\\x14<:3#\\x05\\x05k\\x0c~2G@\\x01ʺ︰\\\\9D+?p\\x13͍\\x0cP3\\x7f\\x08pT\\tֺ\\x19\\x19XM;a\\uf7d5\\x19>b\\x15$l-\\x7fֻjtYo?0:3zzw]*ܮ9Ku\\x05j\\x150\\x0e6\\x1bP@FM+`;1\\x11Ie\\x14`ϱexDaPQXUZ\\'ADn^\\'E2Þr?$M\\'\\x1b%֘\\x18K$$\\t21AN_\\x1f\\x00\\x00\\x00\\x03\\x00PK\\x03\\x04\\x14\\x00\\x06\\x00\\x08\\x00\\x00\\x00!\\x00j\"\\x04\\x00\\x00\\x15\\x00\\x00\\x14\\x00\\x00\\x00xl/sharedStrings.xmlX8\\x0c/\\x10hX$a\\x05z(Pݽ\\ṉڒ+/ee6JZ۽%\\x16E=R{7f5@@ݶcP\\x19_ZWm%\\x15+$Jx\\x07\\x05x\\r\"xmQ\\x13u\\x7fJVwxɇV\\x13\\r..\\x06o\\x1e\\x1eV[W\\x1dmwoU\\x1e\\x1eO\\x0fv\\x1b\\r-l$62>;?|pZD\\x0cp8y\\x1a+i#p$\\x04\\'$W?Mr6}\\x05ס\\x14I6!\\x1fۘ/\\x05mt\\x00nA_r.P݊\\x00X*\\x04S٨m\\x01U4PigQ\\x13\\x170\\x0eH!P\\x1f¡t\\x14\\x03/r\\x16\\x06&\\u05cd\\x17A\\x0f\\x16l\\x1dC\\x1dw\\\\k\\x06*`3fpn\\x1e]e\\x19\\x1f:\\x04ig\\x07.9qHڭ\\x1b\\x00IXw7RYKƤ\\x11\\x13\\\\[kmF/\\x0b\\x1bT\\x07ja\\x03\\'@\\x03\\'УJ{\\x7fN=g\\x1bkƺ̟>VӅ\\x02\\x08\\x1c\\x1c\\x01\"l6\\x0ed=$dM\"V\\x10k\\rmUSd[DjOԇ_H),~X%M5\\'\\x12\\x1dQĹE\\x00n<=\\x1f1EOCl]3[@yy?[gk!⎀@QE_Z&\\x7f<+DA(m\\x13Ͼ\\x1cz\\x13\\x19\"\\x19$|ዧȨ|q\\x08@6YR%k\\x17Y{iE5K\\x18x\\n\"_~\\tx>\"q.o\\x08\\x1b\\x14<vo)glN:2\\x1fEZA,KQ\\\\%c$|NK\\x04CmyCώf*?5\\x01\\x1a8)gT8!đj\\x16N`wԙ,udAnc\\n`{q\\x11y\\x14\\x0eW1\\x1f;`na鮘\\'\\x0f?Ojr2%M\\x08g\\x1e_ix!\\x07\\x1cx\\x17ظWމBS珟kKNCcTC<\"8\\x1a/|̼vMY\\x0c\\x7fp*e\\x1f\\x1a1bD\\ne1(A@4-JP~^#&m|o˟\\\\o.\\x0cտ\\x11wKq\\x1dx!)IjaLQ?\\x01\\x1bGU&\\rb!}\\x13sn$_\\x00\\x00\\x00\\x03\\x00PK\\x03\\x04\\x14\\x00\\x06\\x00\\x08\\x00\\x00\\x00!\\x00\\x0e\\x05)\\x01\\x00\\x00\\x03\\x00\\x00#\\x00\\x00\\x00xl/worksheets/_rels/sheet1.xml.rels̓AK\\x031\\x10a}tۋ\\n=x\\x03t74Y3w\\x14Ǘ!\\u07fc\\x17^m\\x13\\x1e\\x12y\\x1a :,}\\n|UFlci\\x03F(\\x0eHgWW\\x08\\x12վL(\\nU3\\x0fƐ(5ƲTֺLF;~3쀙-BEy宕\\x7fq\\x0e\\x1eu\\rD>BJǍ@m$a+]a2\\x0e#!rd \\x1a\\x8e\\U000fdc2e\\x1f\\rw9c<5&|s_\\x14O[\\x14mPtɅeC)Ba8#\\x12?}Kk\\x1b0KAdZٱ\\x1e땏5\\x04\\x00\\x00\\x03\\x00PK\\x03\\x04\\x14\\x00\\x06\\x00\\x08\\x00\\x00\\x00!\\x00\\x0b\\x01\\x00\\x00,\\x15\\x00\\x00\\'\\x00\\x00\\x00xl/printerSettings/printerSettings1.binJP\\x14ib,\\x08nf1\\x14Wb\\x19KNK:Ƅ\\x157(6B&%M\\x19\\x19A-\\x07,]\\x00v%>\\x1b\"\\x14)F87{>\\x1c\\x0b>\\x0e\\x10!Dr\\x18\\x11$v̨`&p/\\x1a4nTz?s.\\x18uAmM\\x14E{\\x18\\x12rfKM&I7U)\\x08\\x0c8|$j9\\tVW^s.\"2P`,G1/ǜ\\x02eZ+\\ry\\x12\\x02V\\x13\\'+ˮY\\x19SzP4`G\\x17ĭ\\x0f\\x038vQ/V\\x1b{Ob4(0¶h\\x7f\\x0cg\\x17\\'Ptʝfcׅ?gW\\x06kH?S_\\x1ahoQ?\\x07?d\\x08^Y7\\x1e\\x16\\x1e\\x1e\\x7f3m\\x05cX;\\\\.wT\\'\\x19!\\x04\\x10\\x10\\x02B@\\x08\\x08\\x01! \\x04\\x10\\x10\\x02B@\\x08\\x08q\\x08<\\x00\\x00\\x00\\x03\\x00PK\\x03\\x04\\x14\\x00\\x06\\x00\\x08\\x00\\x00\\x00!\\x00Qe\\x19K\\x01\\x00\\x00k\\x02\\x00\\x00\\x11\\x00\\x08\\x01docProps/core.xml \\x04\\x01(\\x00\\x01\\x00\\x00\\x00\\x00\\x00\\x00\\x00\\x00\\x00\\x00\\x00\\x00\\x00\\x00\\x00\\x00\\x00\\x00\\x00\\x00\\x00\\x00\\x00\\x00\\x00\\x00\\x00\\x00\\x00\\x00\\x00\\x00\\x00\\x00\\x00\\x00\\x00\\x00\\x00\\x00\\x00\\x00\\x00\\x00\\x00\\x00\\x00\\x00\\x00\\x00\\x00\\x00\\x00\\x00\\x00\\x00\\x00\\x00\\x00\\x00\\x00\\x00\\x00\\x00\\x00\\x00\\x00\\x00\\x00\\x00\\x00\\x00\\x00\\x00\\x00\\x00\\x00\\x00\\x00\\x00\\x00\\x00\\x00\\x00\\x00\\x00\\x00\\x00\\x00\\x00\\x00\\x00\\x00\\x00\\x00\\x00\\x00\\x00\\x00\\x00\\x00\\x00\\x00\\x00\\x00\\x00\\x00\\x00\\x00\\x00\\x00\\x00\\x00\\x00\\x00\\x00\\x00\\x00\\x00\\x00\\x00\\x00\\x00\\x00\\x00\\x00\\x00\\x00\\x00\\x00\\x00\\x00\\x00\\x00\\x00\\x00\\x00\\x00\\x00\\x00\\x00\\x00\\x00\\x00\\x00\\x00\\x00\\x00\\x00\\x00\\x00\\x00\\x00\\x00\\x00\\x00\\x00\\x00\\x00\\x00\\x00\\x00\\x00\\x00\\x00\\x00\\x00\\x00\\x00\\x00\\x00\\x00\\x00\\x00\\x00\\x00\\x00\\x00\\x00\\x00\\x00\\x00\\x00\\x00\\x00\\x00\\x00\\x00\\x00\\x00\\x00\\x00\\x00\\x00\\x00\\x00\\x00\\x00\\x00\\x00\\x00\\x00\\x00\\x00\\x00\\x00\\x00\\x00\\x00\\x00\\x00\\x00\\x00\\x00\\x00\\x00\\x00\\x00\\x00\\x00\\x00\\x00\\x00\\x00\\x00\\x00\\x00\\x00\\x00\\x00\\x00\\x00\\x00\\x00\\x00\\x00\\x00\\x00\\x00\\x00\\x00\\x00\\x00\\x00\\x00\\x00\\x00\\x00\\x00\\x00\\x00\\x00\\x00\\x00\\x00\\x00_O0\\x14M\\x0eK߷1\\x10m$jx\\'\\x02k`c{*O0VV:C\\x004\\x0c=\\x15p\\x02\\x164dh\\x0f\\x16ˋהW\\x06\\x1eLUq\\x12lIR^gh\\\\M1|\\x03;\\x17WQY\\x0f\\x06\\x1c\\x132\\n\\x1c\\x131\\x02z \\x03R\\x01YoM\\x01\\x04P\\x02,\\x1eE#u`sSNJ};\\x1d➲\\x05r06M\\x135.?¯Ǯj(u+\\x0e(O\\x05\\x00sɟDa}Mnd-W\\x12]\\x1e\\x0f\"h_䨼o\\x05c\\x12\\'! 3L(\\x19o\\x17?\\\\1IrB<\\x02\\x14}\\x0b\\x00\\x00\\x03\\x00PK\\x03\\x04\\x14\\x00\\x06\\x00\\x08\\x00\\x00\\x00!\\x00aI\\t\\x10\\x01\\x00\\x00\\x11\\x03\\x00\\x00\\x10\\x00\\x08\\x01docProps/app.xml \\x04\\x01(\\x00\\x01\\x00\\x00\\x00\\x00\\x00\\x00\\x00\\x00\\x00\\x00\\x00\\x00\\x00\\x00\\x00\\x00\\x00\\x00\\x00\\x00\\x00\\x00\\x00\\x00\\x00\\x00\\x00\\x00\\x00\\x00\\x00\\x00\\x00\\x00\\x00\\x00\\x00\\x00\\x00\\x00\\x00\\x00\\x00\\x00\\x00\\x00\\x00\\x00\\x00\\x00\\x00\\x00\\x00\\x00\\x00\\x00\\x00\\x00\\x00\\x00\\x00\\x00\\x00\\x00\\x00\\x00\\x00\\x00\\x00\\x00\\x00\\x00\\x00\\x00\\x00\\x00\\x00\\x00\\x00\\x00\\x00\\x00\\x00\\x00\\x00\\x00\\x00\\x00\\x00\\x00\\x00\\x00\\x00\\x00\\x00\\x00\\x00\\x00\\x00\\x00\\x00\\x00\\x00\\x00\\x00\\x00\\x00\\x00\\x00\\x00\\x00\\x00\\x00\\x00\\x00\\x00\\x00\\x00\\x00\\x00\\x00\\x00\\x00\\x00\\x00\\x00\\x00\\x00\\x00\\x00\\x00\\x00\\x00\\x00\\x00\\x00\\x00\\x00\\x00\\x00\\x00\\x00\\x00\\x00\\x00\\x00\\x00\\x00\\x00\\x00\\x00\\x00\\x00\\x00\\x00\\x00\\x00\\x00\\x00\\x00\\x00\\x00\\x00\\x00\\x00\\x00\\x00\\x00\\x00\\x00\\x00\\x00\\x00\\x00\\x00\\x00\\x00\\x00\\x00\\x00\\x00\\x00\\x00\\x00\\x00\\x00\\x00\\x00\\x00\\x00\\x00\\x00\\x00\\x00\\x00\\x00\\x00\\x00\\x00\\x00\\x00\\x00\\x00\\x00\\x00\\x00\\x00\\x00\\x00\\x00\\x00\\x00\\x00\\x00\\x00\\x00\\x00\\x00\\x00\\x00\\x00\\x00\\x00\\x00\\x00\\x00\\x00\\x00\\x00\\x00\\x00\\x00\\x00\\x00\\x00\\x00\\x00\\x00\\x00\\x00\\x00\\x00\\x00\\x00\\x00\\x00\\x00\\x00\\x00\\x00\\x00\\x00\\x00\\x00\\x00\\x00Ao0\\x0c\\x03\\x1f\\x0c\\x1b9P\\x0cbHWa\\x01gMc$\\u05cfz{xDI\\x1c:_P\\x14\\x05\\x04\\x1bk\\x17x]~\\x15\\x05\\t1@%F_|R\\x1c\\x13dr\\x05G\\x04DKVRm3`9\\x196el\\x1ag6ڗ\\x0e\\x02ɫp \\x085ԗ\\x14(UO\\x1f\\r\\x1dqwL\\x0cշ9bl~`_.jk5\\x07x\\x04%\\x06\\x1ḛq\\x19iՃ\\x0bt\\x7fxmWm\\x10\\x06J&;\\x13\\x06ԌOHY?-\\x00lc9kE/G\\x03\\x17!`\\x02a\\x1cq\\x03j6&;90N8ہo:s7^O\\'{\\x1dd\\x91SÅg|Hxk\\x08^y>Td\\x05N>\\r=o2!dݚ0<zQ~.]g3%\\x0b\\x00\\x00\\x03\\x00PK\\x01\\x02-\\x00\\x14\\x00\\x06\\x00\\x08\\x00\\x00\\x00!\\x00A7n\\x01\\x00\\x00\\x04\\x05\\x00\\x00\\x13\\x00\\x00\\x00\\x00\\x00\\x00\\x00\\x00\\x00\\x00\\x00\\x00\\x00\\x00\\x00\\x00\\x00[Content_Types].xmlPK\\x01\\x02-\\x00\\x14\\x00\\x06\\x00\\x08\\x00\\x00\\x00!\\x00U0#\\x00\\x00\\x00L\\x02\\x00\\x00\\x0b\\x00\\x00\\x00\\x00\\x00\\x00\\x00\\x00\\x00\\x00\\x00\\x00\\x00\\x03\\x00\\x00_rels/.relsPK\\x01\\x02-\\x00\\x14\\x00\\x06\\x00\\x08\\x00\\x00\\x00!\\x00\\x0b\\x11t\\x03\\x00\\x00\\x08\\x00\\x00\\x0f\\x00\\x00\\x00\\x00\\x00\\x00\\x00\\x00\\x00\\x00\\x00\\x00\\x00\\x06\\x00\\x00xl/workbook.xmlPK\\x01\\x02-\\x00\\x14\\x00\\x06\\x00\\x08\\x00\\x00\\x00!\\x00>\\x00\\x00\\x00\\x02\\x00\\x00\\x1a\\x00\\x00\\x00\\x00\\x00\\x00\\x00\\x00\\x00\\x00\\x00\\x00\\x00m\\n\\x00\\x00xl/_rels/workbook.xml.relsPK\\x01\\x02-\\x00\\x14\\x00\\x06\\x00\\x08\\x00\\x00\\x00!\\x00\\x19ǈ\\x05\\x00\\x00\\x18\\x00\\x00\\x18\\x00\\x00\\x00\\x00\\x00\\x00\\x00\\x00\\x00\\x00\\x00\\x00\\x00\\x0c\\x00\\x00xl/worksheets/sheet1.xmlPK\\x01\\x02-\\x00\\x14\\x00\\x06\\x00\\x08\\x00\\x00\\x00!\\x00`A\\x07\\x00\\x00\\x11\"\\x00\\x00\\x13\\x00\\x00\\x00\\x00\\x00\\x00\\x00\\x00\\x00\\x00\\x00\\x00\\x00^\\x12\\x00\\x00xl/theme/theme1.xmlPK\\x01\\x02-\\x00\\x14\\x00\\x06\\x00\\x08\\x00\\x00\\x00!\\x00xn\\x0e\\x03\\x00\\x00\\x07\\x00\\x00\\r\\x00\\x00\\x00\\x00\\x00\\x00\\x00\\x00\\x00\\x00\\x00\\x00\\x00G\\x1a\\x00\\x00xl/styles.xmlPK\\x01\\x02-\\x00\\x14\\x00\\x06\\x00\\x08\\x00\\x00\\x00!\\x00j\"\\x04\\x00\\x00\\x15\\x00\\x00\\x14\\x00\\x00\\x00\\x00\\x00\\x00\\x00\\x00\\x00\\x00\\x00\\x00\\x00\\x1d\\x00\\x00xl/sharedStrings.xmlPK\\x01\\x02-\\x00\\x14\\x00\\x06\\x00\\x08\\x00\\x00\\x00!\\x00\\x0e\\x05)\\x01\\x00\\x00\\x03\\x00\\x00#\\x00\\x00\\x00\\x00\\x00\\x00\\x00\\x00\\x00\\x00\\x00\\x00\\x00!\\x00\\x00xl/worksheets/_rels/sheet1.xml.relsPK\\x01\\x02-\\x00\\x14\\x00\\x06\\x00\\x08\\x00\\x00\\x00!\\x00\\x0b\\x01\\x00\\x00,\\x15\\x00\\x00\\'\\x00\\x00\\x00\\x00\\x00\\x00\\x00\\x00\\x00\\x00\\x00\\x00\\x00>#\\x00\\x00xl/printerSettings/printerSettings1.binPK\\x01\\x02-\\x00\\x14\\x00\\x06\\x00\\x08\\x00\\x00\\x00!\\x00Qe\\x19K\\x01\\x00\\x00k\\x02\\x00\\x00\\x11\\x00\\x00\\x00\\x00\\x00\\x00\\x00\\x00\\x00\\x00\\x00\\x00\\x00>%\\x00\\x00docProps/core.xmlPK\\x01\\x02-\\x00\\x14\\x00\\x06\\x00\\x08\\x00\\x00\\x00!\\x00aI\\t\\x10\\x01\\x00\\x00\\x11\\x03\\x00\\x00\\x10\\x00\\x00\\x00\\x00\\x00\\x00\\x00\\x00\\x00\\x00\\x00\\x00\\x00\\'\\x00\\x00docProps/app.xmlPK\\x05\\x06\\x00\\x00\\x00\\x00\\x0c\\x00\\x0c\\x00&\\x03\\x00\\x00\\x7f*\\x00\\x00\\x00\\x00', start_char_idx=None, end_char_idx=None, text_template='{metadata_str}\\n\\n{content}', metadata_template='{key}: {value}', metadata_seperator='\\n')]"
      ]
     },
     "execution_count": 25,
     "metadata": {},
     "output_type": "execute_result"
    }
   ],
   "source": [
    "documents"
   ]
  },
  {
   "cell_type": "code",
   "execution_count": null,
   "metadata": {},
   "outputs": [],
   "source": [
    "index = VectorStoreIndex.from_documents(documents, embed_model=embed_model)"
   ]
  },
  {
   "cell_type": "code",
   "execution_count": null,
   "metadata": {},
   "outputs": [
    {
     "name": "stdout",
     "output_type": "stream",
     "text": [
      "Query was: What is the tour offered by Singapore Airlines?\n",
      "Answer was: I'm sorry, but the given context information does not provide any information about the tour offered by Singapore Airlines.\n"
     ]
    }
   ],
   "source": [
    "# Check that the retriever is working\n",
    "\n",
    "query = \"What is the tour offered by Singapore Airlines?\"\n",
    "query_engine = index.as_query_engine()\n",
    "answer = query_engine.query(query)\n",
    "\n",
    "print(\"Query was:\", query)\n",
    "print(\"Answer was:\", answer)"
   ]
  },
  {
   "cell_type": "code",
   "execution_count": null,
   "metadata": {},
   "outputs": [
    {
     "name": "stdout",
     "output_type": "stream",
     "text": [
      "> Source (Doc id: c8e5d426-5b8e-4635-a5fd-ccc347c9a52e): Email Enquiries\n",
      "1. Email social media collaborations\n",
      "https://orchid.stb.gov.sg/display/INDUSTRY...\n",
      "\n",
      "> Source (Doc id: a74e9fe9-5704-45a7-a185-6f49d559dc44): Step 3b. If the case is assessed as a breach of TA Act. Forward MOP's correspondence and informat...\n"
     ]
    }
   ],
   "source": [
    "# Show evidence - currently default k is 2 so 2 sources are shown\n",
    "print(answer.get_formatted_sources())"
   ]
  },
  {
   "cell_type": "code",
   "execution_count": null,
   "metadata": {},
   "outputs": [],
   "source": [
    "# save index to disk - already done\n",
    "# index.set_index_id(\"vector_index\")\n",
    "# index.storage_context.persist(\"./storage\")"
   ]
  },
  {
   "cell_type": "code",
   "execution_count": null,
   "metadata": {},
   "outputs": [],
   "source": [
    "# load index from disk\n",
    "# rebuild storage context\n",
    "storage_context = StorageContext.from_defaults(persist_dir=\"storage\")\n",
    "# load index\n",
    "index = load_index_from_storage(storage_context, index_id=\"vector_index\")"
   ]
  },
  {
   "cell_type": "markdown",
   "metadata": {},
   "source": [
    "## Run Queries Over Vector Store"
   ]
  },
  {
   "cell_type": "code",
   "execution_count": 34,
   "metadata": {},
   "outputs": [],
   "source": [
    "from tqdm.asyncio import tqdm\n",
    "\n",
    "async def run_queries(queries, retrievers):\n",
    "    \"\"\"Run queries against retrievers.\"\"\"\n",
    "    tasks = []\n",
    "    for query in queries:\n",
    "        for i, retriever in enumerate(retrievers):\n",
    "            tasks.append(retriever.aretrieve(query))\n",
    "\n",
    "    task_results = await tqdm.gather(*tasks)\n",
    "\n",
    "    results_dict = {}\n",
    "    for i, (query, query_result) in enumerate(zip(queries, task_results)):\n",
    "        results_dict[(query, i)] = query_result\n",
    "\n",
    "    return results_dict"
   ]
  },
  {
   "cell_type": "code",
   "execution_count": 35,
   "metadata": {},
   "outputs": [
    {
     "ename": "NameError",
     "evalue": "name 'index' is not defined",
     "output_type": "error",
     "traceback": [
      "\u001b[1;31m---------------------------------------------------------------------------\u001b[0m",
      "\u001b[1;31mNameError\u001b[0m                                 Traceback (most recent call last)",
      "Cell \u001b[1;32mIn[35], line 2\u001b[0m\n\u001b[0;32m      1\u001b[0m \u001b[38;5;66;03m# Create a retriever, increased k to 5 from the default of 2\u001b[39;00m\n\u001b[1;32m----> 2\u001b[0m vector_retriever \u001b[38;5;241m=\u001b[39m \u001b[43mindex\u001b[49m\u001b[38;5;241m.\u001b[39mas_retriever(similarity_top_k\u001b[38;5;241m=\u001b[39m\u001b[38;5;241m2\u001b[39m)\n",
      "\u001b[1;31mNameError\u001b[0m: name 'index' is not defined"
     ]
    }
   ],
   "source": [
    "# Create a retriever, increased k to 5 from the default of 2\n",
    "vector_retriever = index.as_retriever(similarity_top_k=2)"
   ]
  },
  {
   "cell_type": "code",
   "execution_count": null,
   "metadata": {},
   "outputs": [
    {
     "name": "stderr",
     "output_type": "stream",
     "text": [
      "100%|██████████| 4/4 [00:01<00:00,  3.16it/s]\n"
     ]
    }
   ],
   "source": [
    "results_dict = await run_queries(queries, [vector_retriever])"
   ]
  },
  {
   "cell_type": "code",
   "execution_count": null,
   "metadata": {},
   "outputs": [
    {
     "data": {
      "text/plain": [
       "{('1. What is the significance of the Merlion in Singapore?',\n",
       "  0): [NodeWithScore(node=TextNode(id_='cd70823c-fb09-4819-b605-1fb511cae0dc', embedding=None, metadata={'file_name': 'Attrations enquiries.docx', 'file_path': 'c:\\\\Users\\\\Admin\\\\Desktop\\\\Admin\\\\Work\\\\Coding\\\\ladp\\\\stb\\\\data\\\\Attrations enquiries.docx', 'file_type': 'application/vnd.openxmlformats-officedocument.wordprocessingml.document', 'file_size': 20068, 'creation_date': '2024-05-19', 'last_modified_date': '2024-05-23'}, excluded_embed_metadata_keys=['file_name', 'file_type', 'file_size', 'creation_date', 'last_modified_date', 'last_accessed_date'], excluded_llm_metadata_keys=['file_name', 'file_type', 'file_size', 'creation_date', 'last_modified_date', 'last_accessed_date'], relationships={<NodeRelationship.SOURCE: '1'>: RelatedNodeInfo(node_id='48fa7c67-05d9-4120-ad7c-5d773acd443e', node_type=<ObjectType.DOCUMENT: '4'>, metadata={'file_name': 'Attrations enquiries.docx', 'file_path': 'c:\\\\Users\\\\Admin\\\\Desktop\\\\Admin\\\\Work\\\\Coding\\\\ladp\\\\stb\\\\data\\\\Attrations enquiries.docx', 'file_type': 'application/vnd.openxmlformats-officedocument.wordprocessingml.document', 'file_size': 20068, 'creation_date': '2024-05-19', 'last_modified_date': '2024-05-23'}, hash='713a897c033e9f0c631438a7859ec3964a5beca6a76dde2a0a1185dc0d8e3ac2'), <NodeRelationship.PREVIOUS: '2'>: RelatedNodeInfo(node_id='85915090-efca-4394-ac92-5fd829157bb5', node_type=<ObjectType.TEXT: '1'>, metadata={'file_name': 'Attrations enquiries.docx', 'file_path': 'c:\\\\Users\\\\Admin\\\\Desktop\\\\Admin\\\\Work\\\\Coding\\\\ladp\\\\stb\\\\data\\\\Attrations enquiries.docx', 'file_type': 'application/vnd.openxmlformats-officedocument.wordprocessingml.document', 'file_size': 20068, 'creation_date': '2024-05-19', 'last_modified_date': '2024-05-23'}, hash='dd8be86e8a1738cc61a2f2ba952172d11edc52038f14509c10d5095eba645560')}, text='--------------- Original Message ---------------\\nFrom:\\xa0wilhelmina knobben [5929wilma@gmail.com]\\nSent:\\xa031/7/2023, 4:18 pm\\nTo:\\xa0stbfeedback@bizengage.gov.sg\\nSubject:\\xa0Re: Case #07-2023-29-00479327 Enquiry- Go city and Singapore zoo and attractions\\n\\xa0\\n\\nThankyou for your reply, does the Go City Pass, cover this we are seeing if this is good value we will be in Singapore for 5 days in August 2024\\n\\n\\xa0\\n\\nOn Mon, 31 July 2023, 5:42 pm BizEngage STB Feedback, <stbfeedback@bizengage.gov.sg> wrote:\\n\\nDear\\xa0Wilhelmina\\n\\nGreetings from the Singapore Tourism Board (STB).\\nThank you for your email.\\n\\nWe are pleased to share that Singapore Zoo, River Wonders, Night Safar and Bird Paradise are all located at the same location.\\n\\nHowever, the operation hours of Night Safari are as follows-\\n7.15pm – 12:00am (Last entry at 11:15pm)\\n\\nYou may refer to the Mandai Wildlife Reserves\\xa0for their contact details and operating hours at\\xa0https://www.mandai.com/en/mandai.html\\xa0for other infromation.\\n\\nWe hope this helps!\\n\\nWe look forward to welcoming you to Singapore soon.', start_char_idx=7898, end_char_idx=8941, text_template='{metadata_str}\\n\\n{content}', metadata_template='{key}: {value}', metadata_seperator='\\n'), score=0.7705202904171266), NodeWithScore(node=TextNode(id_='57744c8e-81c8-4a05-a858-34ca301f8e9b', embedding=None, metadata={'page_label': '35', 'file_name': 'General SOP CC.pdf', 'file_path': 'c:\\\\Users\\\\Admin\\\\Desktop\\\\Admin\\\\Work\\\\Coding\\\\ladp\\\\stb\\\\data\\\\General SOP CC.pdf', 'file_type': 'application/pdf', 'file_size': 988532, 'creation_date': '2024-05-19', 'last_modified_date': '2024-05-23'}, excluded_embed_metadata_keys=['file_name', 'file_type', 'file_size', 'creation_date', 'last_modified_date', 'last_accessed_date'], excluded_llm_metadata_keys=['file_name', 'file_type', 'file_size', 'creation_date', 'last_modified_date', 'last_accessed_date'], relationships={<NodeRelationship.SOURCE: '1'>: RelatedNodeInfo(node_id='eefd9fd9-7a83-4403-86e6-2606e6f9fb06', node_type=<ObjectType.DOCUMENT: '4'>, metadata={'page_label': '35', 'file_name': 'General SOP CC.pdf', 'file_path': 'c:\\\\Users\\\\Admin\\\\Desktop\\\\Admin\\\\Work\\\\Coding\\\\ladp\\\\stb\\\\data\\\\General SOP CC.pdf', 'file_type': 'application/pdf', 'file_size': 988532, 'creation_date': '2024-05-19', 'last_modified_date': '2024-05-23'}, hash='6dbfb26fdbcc8fae08b051734065fbbc1d9c433cbff60f1d7a41cf084ba5bf45')}, text='Religious Cruiseoperators also have a role in our efforts to preserve religious\\nharmony in Singapore. To this end, we seek your cooperation\\ninform the Singapore Tourism Board (STB) via\\nSTB_CRUISE@stb.gov.sg (Please take note not to\\nthis email address, pending for Joseph to confirm\\nas of 27/9) \\xa0immediately if:\\na) Your cruise ship(s) is(are) chartered for the purpose\\nreligious- themed cruise on board, regardless of the number\\ncabins being chartered, or if you are aware of any religious-\\nthemed event on board involving religious speaker(s)\\n(Excluding private weddings with religious ceremonies);\\nb) Singapore is included in the itinerary (i.e. the cruise\\ndock in Singapore).\\nPlease provide the following information to STB as soon\\nare aware of the above, and in any event no later than\\nmonths before the date that the cruise ship is scheduled\\nthe relevant voyage:\\na) Name, date of birth, passport number, and nationality\\nreligious speaker(s) involved;\\nb) Name and contact of the event organiser;\\nc) Name and contact of the shipping agent;\\nd) Sailing itinerary, including date of sailing, and last \\nport of call;\\ne) Number of cruise cabins chartered and estimated number\\npassengers involved in the religious- themed cruise;\\nf) Programme details, including synopses of talks to be\\ndelivered by speaker(s) involved.\\nIf there are any changes to the above information after\\nprovided them to STB, please inform STB of the details\\nchanges immediately.\\nIf you require any clarification, please contact MHA at\\nMHA_Feedback@mha.gov.sg or Cruise Division from\\nSTB_CRUISE@stb.gov.sg (Please take note not to\\nthis email address, pending for Joseph to confirm\\nas of 27/9). Thank you.\\nDining & Retail\\nScenario 1: If the case is about feedback on cleanliness/service → Thank MoP for the feedback → route to LU for\\nFYI.', start_char_idx=0, end_char_idx=1805, text_template='{metadata_str}\\n\\n{content}', metadata_template='{key}: {value}', metadata_seperator='\\n'), score=0.7700392264041926)],\n",
       " ('2. How can I obtain permission to use a character design for commercial purposes?',\n",
       "  1): [NodeWithScore(node=TextNode(id_='d44bfd68-82cf-4136-8dc7-3eeb86f564b5', embedding=None, metadata={'file_name': 'Japanese 2.docx', 'file_path': 'c:\\\\Users\\\\Admin\\\\Desktop\\\\Admin\\\\Work\\\\Coding\\\\ladp\\\\stb\\\\data\\\\Japanese 2.docx', 'file_type': 'application/vnd.openxmlformats-officedocument.wordprocessingml.document', 'file_size': 17002, 'creation_date': '2024-05-19', 'last_modified_date': '2024-05-23'}, excluded_embed_metadata_keys=['file_name', 'file_type', 'file_size', 'creation_date', 'last_modified_date', 'last_accessed_date'], excluded_llm_metadata_keys=['file_name', 'file_type', 'file_size', 'creation_date', 'last_modified_date', 'last_accessed_date'], relationships={<NodeRelationship.SOURCE: '1'>: RelatedNodeInfo(node_id='83195a88-923a-4ee3-af32-1e5cb3886238', node_type=<ObjectType.DOCUMENT: '4'>, metadata={'file_name': 'Japanese 2.docx', 'file_path': 'c:\\\\Users\\\\Admin\\\\Desktop\\\\Admin\\\\Work\\\\Coding\\\\ladp\\\\stb\\\\data\\\\Japanese 2.docx', 'file_type': 'application/vnd.openxmlformats-officedocument.wordprocessingml.document', 'file_size': 17002, 'creation_date': '2024-05-19', 'last_modified_date': '2024-05-23'}, hash='91dddf2cb46ef9269bfd38036a0b468b867ce26b64d8ddefec7702eed8b559c9')}, text='Japanese Enquiry 1 – In this case, RO was unable to answer MoP’s enquiry, hence, CSO replied MoP in English\\n\\nマーライオンをモチーフとしたオリジナルキャラクターの使用許可を頂きたいです。\\n\\nはじめまして。\\nイラストレーターの長坂康平(活動名ナガサカ)と申します。\\n\\ntoastyandtipsyという、オーダーメイドで結婚式のペーパーアイテムを制作しているショップ様から、マーライオンをモチーフとしたキャラクターデザイン、及びそのキャラクターを使用したペーパーアイテムの制作の業務委託を受けました。\\n\\nシンガポールのことが好きな新郎新婦様から、是非マーライオンのキャラクターで結婚式を行いたいという強いご要望がありました。\\n\\n新郎新婦様へのペーパーアイテムの販売、及び結婚式の使用のみの使用になります。\\n\\n以上の条件の元、マーライオンのデザイン使用を許諾いただけないでしょうか。よろしくお願いいたします。\\n\\nTranslated\\n\\nnice to meet you.\\nMy name is Kohei Nagasaka (active name: Nagasaka) and I am an illustrator.\\n\\nWe were commissioned by toastyandtipsy, a shop that produces custom-made paper items for weddings, to design a character with a Merlion motif and produce paper items using that character.\\n\\nWe received a strong request from a bride and groom who love Singapore to have their wedding ceremony featuring the Merlion character.\\n\\nPaper items will be sold to brides and grooms and will only be used at weddings.\\n\\nCould you please give me permission to use the Merlion design under the above conditions? Thank you.\\n\\n\\n\\nCSO forwarded the case to RO Japan\\n\\nTo RO Japan Colleagues,\\n\\nWe refer to our enquiry CASE ID: 04-2024-10-00490410 - Enquiry -\\xa0マーライオンをモチーフとしたオリジナルキャラクターの使用許可を頂きたいです\\n\\nWe have received an email which is in Japanese.\\n\\nWe need your assistance to translate the text so that we can address the feedback accurately.\\n\\nThank you.\\n\\n\\n\\nRO Japan’s reply to inform that they will assist to respond to MoP\\n\\nHi\\n\\n\\xa0\\n\\nThis sender’s e-mail said that they would like to develop a product with\\n\\nan original character based on the Merlion and they would like to have\\n\\na permission to use the Merlion.\\n\\n\\xa0\\n\\nWe are going to inform them of the Merlion page on the corporate site\\n\\nand they need to apply for the use of the Merlion.\\n\\n\\xa0\\n\\nThank you', start_char_idx=0, end_char_idx=1791, text_template='{metadata_str}\\n\\n{content}', metadata_template='{key}: {value}', metadata_seperator='\\n'), score=0.7956599054244266),\n",
       "  NodeWithScore(node=TextNode(id_='d919063c-540b-4a0c-b944-a77e94270e35', embedding=None, metadata={'page_label': '3', 'file_name': 'General SOP CC.pdf', 'file_path': 'c:\\\\Users\\\\Admin\\\\Desktop\\\\Admin\\\\Work\\\\Coding\\\\ladp\\\\stb\\\\data\\\\General SOP CC.pdf', 'file_type': 'application/pdf', 'file_size': 988532, 'creation_date': '2024-05-19', 'last_modified_date': '2024-05-23'}, excluded_embed_metadata_keys=['file_name', 'file_type', 'file_size', 'creation_date', 'last_modified_date', 'last_accessed_date'], excluded_llm_metadata_keys=['file_name', 'file_type', 'file_size', 'creation_date', 'last_modified_date', 'last_accessed_date'], relationships={<NodeRelationship.SOURCE: '1'>: RelatedNodeInfo(node_id='f47f477d-d988-4b89-a019-5d54a6b1c724', node_type=<ObjectType.DOCUMENT: '4'>, metadata={'page_label': '3', 'file_name': 'General SOP CC.pdf', 'file_path': 'c:\\\\Users\\\\Admin\\\\Desktop\\\\Admin\\\\Work\\\\Coding\\\\ladp\\\\stb\\\\data\\\\General SOP CC.pdf', 'file_type': 'application/pdf', 'file_size': 988532, 'creation_date': '2024-05-19', 'last_modified_date': '2024-05-23'}, hash='115e60b2e0d9b9fd634dd0f51e7a94c0df66eeff6669e7d30a9c96255b2610b1')}, text='App  Store .\\nThis e-mail and its attachment(s), if any (\"communication\"), may contain confidential\\nand/or privileged information. If you are not the intended recipient, you should not\\nuse, disclose, copy, distribute or deliver this communication in whole or in part to\\nanyone. Kindly notify us of the error and delete it (including copies) immediately.\\nThank you.\\nGeneral (HQ) General (RO)\\nInterim response Sample  - Interim  reply  - May2022.docx Info on Americas STB Americas.docx\\nSeeking consent from senderSample  - Seek  for consent  from  sender  -\\nMay2022.docxInfo on Greater ChinaSTB Greater\\nSeeking consent from sender +\\nAsking for more detailsSample  - Request  for details  from\\nsender  (without  consent).docxInfo on India, Middle East\\nand South AsiaSTB India\\nAsia.docx\\nSeeking consent from sender +\\nAsking for more detailsSample  Asking  for more  details  and\\nconsent.docxInfo on North AsiaSTB North\\nRequest for more detailsSample  - Request  more  detail  from\\nsender  - May2022.docxInfo on OceaniaSTB OCEANIA.docx\\nIncomplete Information Sample  - Incomplete  Info.docx Info on Europe STB Europe.docx\\nSharing feedback with Line\\nUnit (Internal)Sample  Internal  dept  email.docxInfo on Southeast AsiaSTB Southeast\\nReminder to senderSample  - Reminder  to the writer  -\\nMay2022.docxRequest to RO for\\ntranslation help\\n(Internal)Sample\\ntranslation.docx\\nReminder to Line Unit\\n(Internal)Sample  - Template  for Line  Unit\\n(Reminder)1.docxRO e-mail translation\\n(Internal)Sample\\ntranslation\\nMatter not under STBSample  - Matter  not under  STB\\npurview  - May2022.docxRO e-mail translation (to\\nSender) Template\\ntranslation.docx\\nRequest for staff contact Sample  - Asking  for staff  contact.docxReminder to RO (Internal)Sample\\nRO.docx', start_char_idx=0, end_char_idx=1740, text_template='{metadata_str}\\n\\n{content}', metadata_template='{key}: {value}', metadata_seperator='\\n'), score=0.7623318806900786)],\n",
       " ('3. Are there any copyright restrictions on using the Merlion design for wedding paper items?',\n",
       "  2): [NodeWithScore(node=TextNode(id_='d44bfd68-82cf-4136-8dc7-3eeb86f564b5', embedding=None, metadata={'file_name': 'Japanese 2.docx', 'file_path': 'c:\\\\Users\\\\Admin\\\\Desktop\\\\Admin\\\\Work\\\\Coding\\\\ladp\\\\stb\\\\data\\\\Japanese 2.docx', 'file_type': 'application/vnd.openxmlformats-officedocument.wordprocessingml.document', 'file_size': 17002, 'creation_date': '2024-05-19', 'last_modified_date': '2024-05-23'}, excluded_embed_metadata_keys=['file_name', 'file_type', 'file_size', 'creation_date', 'last_modified_date', 'last_accessed_date'], excluded_llm_metadata_keys=['file_name', 'file_type', 'file_size', 'creation_date', 'last_modified_date', 'last_accessed_date'], relationships={<NodeRelationship.SOURCE: '1'>: RelatedNodeInfo(node_id='83195a88-923a-4ee3-af32-1e5cb3886238', node_type=<ObjectType.DOCUMENT: '4'>, metadata={'file_name': 'Japanese 2.docx', 'file_path': 'c:\\\\Users\\\\Admin\\\\Desktop\\\\Admin\\\\Work\\\\Coding\\\\ladp\\\\stb\\\\data\\\\Japanese 2.docx', 'file_type': 'application/vnd.openxmlformats-officedocument.wordprocessingml.document', 'file_size': 17002, 'creation_date': '2024-05-19', 'last_modified_date': '2024-05-23'}, hash='91dddf2cb46ef9269bfd38036a0b468b867ce26b64d8ddefec7702eed8b559c9')}, text='Japanese Enquiry 1 – In this case, RO was unable to answer MoP’s enquiry, hence, CSO replied MoP in English\\n\\nマーライオンをモチーフとしたオリジナルキャラクターの使用許可を頂きたいです。\\n\\nはじめまして。\\nイラストレーターの長坂康平(活動名ナガサカ)と申します。\\n\\ntoastyandtipsyという、オーダーメイドで結婚式のペーパーアイテムを制作しているショップ様から、マーライオンをモチーフとしたキャラクターデザイン、及びそのキャラクターを使用したペーパーアイテムの制作の業務委託を受けました。\\n\\nシンガポールのことが好きな新郎新婦様から、是非マーライオンのキャラクターで結婚式を行いたいという強いご要望がありました。\\n\\n新郎新婦様へのペーパーアイテムの販売、及び結婚式の使用のみの使用になります。\\n\\n以上の条件の元、マーライオンのデザイン使用を許諾いただけないでしょうか。よろしくお願いいたします。\\n\\nTranslated\\n\\nnice to meet you.\\nMy name is Kohei Nagasaka (active name: Nagasaka) and I am an illustrator.\\n\\nWe were commissioned by toastyandtipsy, a shop that produces custom-made paper items for weddings, to design a character with a Merlion motif and produce paper items using that character.\\n\\nWe received a strong request from a bride and groom who love Singapore to have their wedding ceremony featuring the Merlion character.\\n\\nPaper items will be sold to brides and grooms and will only be used at weddings.\\n\\nCould you please give me permission to use the Merlion design under the above conditions? Thank you.\\n\\n\\n\\nCSO forwarded the case to RO Japan\\n\\nTo RO Japan Colleagues,\\n\\nWe refer to our enquiry CASE ID: 04-2024-10-00490410 - Enquiry -\\xa0マーライオンをモチーフとしたオリジナルキャラクターの使用許可を頂きたいです\\n\\nWe have received an email which is in Japanese.\\n\\nWe need your assistance to translate the text so that we can address the feedback accurately.\\n\\nThank you.\\n\\n\\n\\nRO Japan’s reply to inform that they will assist to respond to MoP\\n\\nHi\\n\\n\\xa0\\n\\nThis sender’s e-mail said that they would like to develop a product with\\n\\nan original character based on the Merlion and they would like to have\\n\\na permission to use the Merlion.\\n\\n\\xa0\\n\\nWe are going to inform them of the Merlion page on the corporate site\\n\\nand they need to apply for the use of the Merlion.\\n\\n\\xa0\\n\\nThank you', start_char_idx=0, end_char_idx=1791, text_template='{metadata_str}\\n\\n{content}', metadata_template='{key}: {value}', metadata_seperator='\\n'), score=0.7914279798048559),\n",
       "  NodeWithScore(node=TextNode(id_='d22fe58f-93eb-4d0b-b309-ebe790a78667', embedding=None, metadata={'page_label': '4', 'file_name': 'General SOP CC.pdf', 'file_path': 'c:\\\\Users\\\\Admin\\\\Desktop\\\\Admin\\\\Work\\\\Coding\\\\ladp\\\\stb\\\\data\\\\General SOP CC.pdf', 'file_type': 'application/pdf', 'file_size': 988532, 'creation_date': '2024-05-19', 'last_modified_date': '2024-05-23'}, excluded_embed_metadata_keys=['file_name', 'file_type', 'file_size', 'creation_date', 'last_modified_date', 'last_accessed_date'], excluded_llm_metadata_keys=['file_name', 'file_type', 'file_size', 'creation_date', 'last_modified_date', 'last_accessed_date'], relationships={<NodeRelationship.SOURCE: '1'>: RelatedNodeInfo(node_id='0f7b423f-4f4e-40d4-9760-1e4f4aa11c63', node_type=<ObjectType.DOCUMENT: '4'>, metadata={'page_label': '4', 'file_name': 'General SOP CC.pdf', 'file_path': 'c:\\\\Users\\\\Admin\\\\Desktop\\\\Admin\\\\Work\\\\Coding\\\\ladp\\\\stb\\\\data\\\\General SOP CC.pdf', 'file_type': 'application/pdf', 'file_size': 988532, 'creation_date': '2024-05-19', 'last_modified_date': '2024-05-23'}, hash='895ccf0bdee58787158ef7fb3072935951ddf7f6df7bba7245dd8b166042a823')}, text='Interview, invite or\\nsponsorship (Internal)Sample  - Interview,  Invite  or\\nsponsorship  request  (to line unit).docxIncomplete information\\n(RO)Sample\\n(RO).docx\\nSponsorship request for\\nschoolsRequest  for Sponsorship.docxEmail\\nSign- Off\\xa0Sample\\nMay2022.2.docx\\nJob opportunities in STBJob Opportunity.docxCall Back RequestSample\\nemail  - \\nResponses to the writer\\n(Enquiry cases)DOC  1.docx Request for Flag /\\nSouvenirsSample\\nMay2022.docx\\nResponses to the line units\\n(Enquiry cases)Doc 2.docx\\nPromo/ Collaborations/ Listings/ Collaterals/ STB Assets Attractions, Sightseeing \\nRequest to list event on STB\\nwebsiteSample  Event  Listing  on STB\\nweb.docxMaintenance of\\nAttractionsSample  -Attractions\\nMaintenance.docx\\nRequest to be featured on STB\\nwebsiteSample  - Interest  to be feature  in Visit\\nSingapore.docxSightseeingSample  - Enquiry\\nSingapore.docx\\nListing on STB websiteSample  - Enquiry  on Listing  on STB\\nweb.docxMuseumsSample  - Enquiry\\nListing on\\xa0VS.comListing  on the website.docx Food Festival - Store\\napplicationSample  - Enquiry\\nfood  stall  at Food\\nRequest for BrochuresSample  - Brochure  Enquiry.docx Photo- taking at\\nlandmarksSample  - Enquiry\\nSingapore  landmark.docx\\nRequest for Brochures from\\nLocal (Ad- hoc request only)Request  for Brochures.docx Invitation to\\nconferenceSample  Conference\\nRequest for Maps Sample  - Map  Enquiry.docx\\nMerlion symbol and useSample  - Enquiry  On copy  right  of\\nIcon.docx\\nEvent collaboration Sample  - Collboration  for Event.docx\\nGeBIZ collaborationSample  - Collboration  Gebiz  -\\nMay2022.docx\\nMedical collaborationSample  - Collaboration  for\\nMedical.docx\\nSingapore Travel Guides\\nDownloadSample  - Suggest  destination  &\\ndownload  Singapore  Travel\\nGuide.docx', start_char_idx=0, end_char_idx=1717, text_template='{metadata_str}\\n\\n{content}', metadata_template='{key}: {value}', metadata_seperator='\\n'), score=0.7612246693719332)],\n",
       " (\"4. Can I use the Merlion design exclusively for the sale of paper items to a specific couple's wedding?\",\n",
       "  3): [NodeWithScore(node=TextNode(id_='d44bfd68-82cf-4136-8dc7-3eeb86f564b5', embedding=None, metadata={'file_name': 'Japanese 2.docx', 'file_path': 'c:\\\\Users\\\\Admin\\\\Desktop\\\\Admin\\\\Work\\\\Coding\\\\ladp\\\\stb\\\\data\\\\Japanese 2.docx', 'file_type': 'application/vnd.openxmlformats-officedocument.wordprocessingml.document', 'file_size': 17002, 'creation_date': '2024-05-19', 'last_modified_date': '2024-05-23'}, excluded_embed_metadata_keys=['file_name', 'file_type', 'file_size', 'creation_date', 'last_modified_date', 'last_accessed_date'], excluded_llm_metadata_keys=['file_name', 'file_type', 'file_size', 'creation_date', 'last_modified_date', 'last_accessed_date'], relationships={<NodeRelationship.SOURCE: '1'>: RelatedNodeInfo(node_id='83195a88-923a-4ee3-af32-1e5cb3886238', node_type=<ObjectType.DOCUMENT: '4'>, metadata={'file_name': 'Japanese 2.docx', 'file_path': 'c:\\\\Users\\\\Admin\\\\Desktop\\\\Admin\\\\Work\\\\Coding\\\\ladp\\\\stb\\\\data\\\\Japanese 2.docx', 'file_type': 'application/vnd.openxmlformats-officedocument.wordprocessingml.document', 'file_size': 17002, 'creation_date': '2024-05-19', 'last_modified_date': '2024-05-23'}, hash='91dddf2cb46ef9269bfd38036a0b468b867ce26b64d8ddefec7702eed8b559c9')}, text='Japanese Enquiry 1 – In this case, RO was unable to answer MoP’s enquiry, hence, CSO replied MoP in English\\n\\nマーライオンをモチーフとしたオリジナルキャラクターの使用許可を頂きたいです。\\n\\nはじめまして。\\nイラストレーターの長坂康平(活動名ナガサカ)と申します。\\n\\ntoastyandtipsyという、オーダーメイドで結婚式のペーパーアイテムを制作しているショップ様から、マーライオンをモチーフとしたキャラクターデザイン、及びそのキャラクターを使用したペーパーアイテムの制作の業務委託を受けました。\\n\\nシンガポールのことが好きな新郎新婦様から、是非マーライオンのキャラクターで結婚式を行いたいという強いご要望がありました。\\n\\n新郎新婦様へのペーパーアイテムの販売、及び結婚式の使用のみの使用になります。\\n\\n以上の条件の元、マーライオンのデザイン使用を許諾いただけないでしょうか。よろしくお願いいたします。\\n\\nTranslated\\n\\nnice to meet you.\\nMy name is Kohei Nagasaka (active name: Nagasaka) and I am an illustrator.\\n\\nWe were commissioned by toastyandtipsy, a shop that produces custom-made paper items for weddings, to design a character with a Merlion motif and produce paper items using that character.\\n\\nWe received a strong request from a bride and groom who love Singapore to have their wedding ceremony featuring the Merlion character.\\n\\nPaper items will be sold to brides and grooms and will only be used at weddings.\\n\\nCould you please give me permission to use the Merlion design under the above conditions? Thank you.\\n\\n\\n\\nCSO forwarded the case to RO Japan\\n\\nTo RO Japan Colleagues,\\n\\nWe refer to our enquiry CASE ID: 04-2024-10-00490410 - Enquiry -\\xa0マーライオンをモチーフとしたオリジナルキャラクターの使用許可を頂きたいです\\n\\nWe have received an email which is in Japanese.\\n\\nWe need your assistance to translate the text so that we can address the feedback accurately.\\n\\nThank you.\\n\\n\\n\\nRO Japan’s reply to inform that they will assist to respond to MoP\\n\\nHi\\n\\n\\xa0\\n\\nThis sender’s e-mail said that they would like to develop a product with\\n\\nan original character based on the Merlion and they would like to have\\n\\na permission to use the Merlion.\\n\\n\\xa0\\n\\nWe are going to inform them of the Merlion page on the corporate site\\n\\nand they need to apply for the use of the Merlion.\\n\\n\\xa0\\n\\nThank you', start_char_idx=0, end_char_idx=1791, text_template='{metadata_str}\\n\\n{content}', metadata_template='{key}: {value}', metadata_seperator='\\n'), score=0.7852774412123109),\n",
       "  NodeWithScore(node=TextNode(id_='57744c8e-81c8-4a05-a858-34ca301f8e9b', embedding=None, metadata={'page_label': '35', 'file_name': 'General SOP CC.pdf', 'file_path': 'c:\\\\Users\\\\Admin\\\\Desktop\\\\Admin\\\\Work\\\\Coding\\\\ladp\\\\stb\\\\data\\\\General SOP CC.pdf', 'file_type': 'application/pdf', 'file_size': 988532, 'creation_date': '2024-05-19', 'last_modified_date': '2024-05-23'}, excluded_embed_metadata_keys=['file_name', 'file_type', 'file_size', 'creation_date', 'last_modified_date', 'last_accessed_date'], excluded_llm_metadata_keys=['file_name', 'file_type', 'file_size', 'creation_date', 'last_modified_date', 'last_accessed_date'], relationships={<NodeRelationship.SOURCE: '1'>: RelatedNodeInfo(node_id='eefd9fd9-7a83-4403-86e6-2606e6f9fb06', node_type=<ObjectType.DOCUMENT: '4'>, metadata={'page_label': '35', 'file_name': 'General SOP CC.pdf', 'file_path': 'c:\\\\Users\\\\Admin\\\\Desktop\\\\Admin\\\\Work\\\\Coding\\\\ladp\\\\stb\\\\data\\\\General SOP CC.pdf', 'file_type': 'application/pdf', 'file_size': 988532, 'creation_date': '2024-05-19', 'last_modified_date': '2024-05-23'}, hash='6dbfb26fdbcc8fae08b051734065fbbc1d9c433cbff60f1d7a41cf084ba5bf45')}, text='Religious Cruiseoperators also have a role in our efforts to preserve religious\\nharmony in Singapore. To this end, we seek your cooperation\\ninform the Singapore Tourism Board (STB) via\\nSTB_CRUISE@stb.gov.sg (Please take note not to\\nthis email address, pending for Joseph to confirm\\nas of 27/9) \\xa0immediately if:\\na) Your cruise ship(s) is(are) chartered for the purpose\\nreligious- themed cruise on board, regardless of the number\\ncabins being chartered, or if you are aware of any religious-\\nthemed event on board involving religious speaker(s)\\n(Excluding private weddings with religious ceremonies);\\nb) Singapore is included in the itinerary (i.e. the cruise\\ndock in Singapore).\\nPlease provide the following information to STB as soon\\nare aware of the above, and in any event no later than\\nmonths before the date that the cruise ship is scheduled\\nthe relevant voyage:\\na) Name, date of birth, passport number, and nationality\\nreligious speaker(s) involved;\\nb) Name and contact of the event organiser;\\nc) Name and contact of the shipping agent;\\nd) Sailing itinerary, including date of sailing, and last \\nport of call;\\ne) Number of cruise cabins chartered and estimated number\\npassengers involved in the religious- themed cruise;\\nf) Programme details, including synopses of talks to be\\ndelivered by speaker(s) involved.\\nIf there are any changes to the above information after\\nprovided them to STB, please inform STB of the details\\nchanges immediately.\\nIf you require any clarification, please contact MHA at\\nMHA_Feedback@mha.gov.sg or Cruise Division from\\nSTB_CRUISE@stb.gov.sg (Please take note not to\\nthis email address, pending for Joseph to confirm\\nas of 27/9). Thank you.\\nDining & Retail\\nScenario 1: If the case is about feedback on cleanliness/service → Thank MoP for the feedback → route to LU for\\nFYI.', start_char_idx=0, end_char_idx=1805, text_template='{metadata_str}\\n\\n{content}', metadata_template='{key}: {value}', metadata_seperator='\\n'), score=0.7661911051867759)]}"
      ]
     },
     "execution_count": 34,
     "metadata": {},
     "output_type": "execute_result"
    }
   ],
   "source": [
    "results_dict"
   ]
  },
  {
   "cell_type": "code",
   "execution_count": null,
   "metadata": {},
   "outputs": [],
   "source": [
    "# Function to extract text from nodes\n",
    "def extract_text_from_results(results_dict):\n",
    "    extracted_text = {}\n",
    "    for key, nodes in results_dict.items():\n",
    "        extracted_text[key] = [node.node.text for node in nodes]\n",
    "    return extracted_text\n",
    "\n",
    "# Extract the text\n",
    "extracted_text = extract_text_from_results(results_dict)"
   ]
  },
  {
   "cell_type": "code",
   "execution_count": null,
   "metadata": {},
   "outputs": [
    {
     "ename": "KeyError",
     "evalue": "('1. \"Merlion character design for wedding paper items\"', 0)",
     "output_type": "error",
     "traceback": [
      "\u001b[1;31m---------------------------------------------------------------------------\u001b[0m",
      "\u001b[1;31mKeyError\u001b[0m                                  Traceback (most recent call last)",
      "Cell \u001b[1;32mIn[36], line 2\u001b[0m\n\u001b[0;32m      1\u001b[0m \u001b[38;5;66;03m# Print the extracted text for the first key\u001b[39;00m\n\u001b[1;32m----> 2\u001b[0m \u001b[38;5;28;01mfor\u001b[39;00m text \u001b[38;5;129;01min\u001b[39;00m \u001b[43mextracted_text\u001b[49m\u001b[43m[\u001b[49m\u001b[43m(\u001b[49m\u001b[38;5;124;43m'\u001b[39;49m\u001b[38;5;124;43m1. \u001b[39;49m\u001b[38;5;124;43m\"\u001b[39;49m\u001b[38;5;124;43mMerlion character design for wedding paper items\u001b[39;49m\u001b[38;5;124;43m\"\u001b[39;49m\u001b[38;5;124;43m'\u001b[39;49m\u001b[43m,\u001b[49m\u001b[43m \u001b[49m\u001b[38;5;241;43m0\u001b[39;49m\u001b[43m)\u001b[49m\u001b[43m]\u001b[49m:\n\u001b[0;32m      3\u001b[0m     \u001b[38;5;28mprint\u001b[39m(text)\n",
      "\u001b[1;31mKeyError\u001b[0m: ('1. \"Merlion character design for wedding paper items\"', 0)"
     ]
    }
   ],
   "source": [
    "# Print the extracted text for the first key\n",
    "for text in extracted_text[('1. \"Merlion character design for wedding paper items\"', 0)]:\n",
    "    print(text)"
   ]
  },
  {
   "cell_type": "code",
   "execution_count": null,
   "metadata": {},
   "outputs": [
    {
     "name": "stdout",
     "output_type": "stream",
     "text": [
      "Japanese Enquiry 1 – In this case, RO was unable to answer MoP’s enquiry, hence, CSO replied MoP in English\n",
      "\n",
      "マーライオンをモチーフとしたオリジナルキャラクターの使用許可を頂きたいです。\n",
      "\n",
      "はじめまして。\n",
      "イラストレーターの長坂康平(活動名ナガサカ)と申します。\n",
      "\n",
      "toastyandtipsyという、オーダーメイドで結婚式のペーパーアイテムを制作しているショップ様から、マーライオンをモチーフとしたキャラクターデザイン、及びそのキャラクターを使用したペーパーアイテムの制作の業務委託を受けました。\n",
      "\n",
      "シンガポールのことが好きな新郎新婦様から、是非マーライオンのキャラクターで結婚式を行いたいという強いご要望がありました。\n",
      "\n",
      "新郎新婦様へのペーパーアイテムの販売、及び結婚式の使用のみの使用になります。\n",
      "\n",
      "以上の条件の元、マーライオンのデザイン使用を許諾いただけないでしょうか。よろしくお願いいたします。\n",
      "\n",
      "Translated\n",
      "\n",
      "nice to meet you.\n",
      "My name is Kohei Nagasaka (active name: Nagasaka) and I am an illustrator.\n",
      "\n",
      "We were commissioned by toastyandtipsy, a shop that produces custom-made paper items for weddings, to design a character with a Merlion motif and produce paper items using that character.\n",
      "\n",
      "We received a strong request from a bride and groom who love Singapore to have their wedding ceremony featuring the Merlion character.\n",
      "\n",
      "Paper items will be sold to brides and grooms and will only be used at weddings.\n",
      "\n",
      "Could you please give me permission to use the Merlion design under the above conditions? Thank you.\n",
      "\n",
      "\n",
      "\n",
      "CSO forwarded the case to RO Japan\n",
      "\n",
      "To RO Japan Colleagues,\n",
      "\n",
      "We refer to our enquiry CASE ID: 04-2024-10-00490410 - Enquiry - マーライオンをモチーフとしたオリジナルキャラクターの使用許可を頂きたいです\n",
      "\n",
      "We have received an email which is in Japanese.\n",
      "\n",
      "We need your assistance to translate the text so that we can address the feedback accurately.\n",
      "\n",
      "Thank you.\n",
      "\n",
      "\n",
      "\n",
      "RO Japan’s reply to inform that they will assist to respond to MoP\n",
      "\n",
      "Hi\n",
      "\n",
      " \n",
      "\n",
      "This sender’s e-mail said that they would like to develop a product with\n",
      "\n",
      "an original character based on the Merlion and they would like to have\n",
      "\n",
      "a permission to use the Merlion.\n",
      "\n",
      " \n",
      "\n",
      "We are going to inform them of the Merlion page on the corporate site\n",
      "\n",
      "and they need to apply for the use of the Merlion.\n",
      "\n",
      " \n",
      "\n",
      "Thank you\n",
      "Interview, invite or\n",
      "sponsorship (Internal)Sample  - Interview,  Invite  or\n",
      "sponsorship  request  (to line unit).docxIncomplete information\n",
      "(RO)Sample\n",
      "(RO).docx\n",
      "Sponsorship request for\n",
      "schoolsRequest  for Sponsorship.docxEmail\n",
      "Sign- Off Sample\n",
      "May2022.2.docx\n",
      "Job opportunities in STBJob Opportunity.docxCall Back RequestSample\n",
      "email  - \n",
      "Responses to the writer\n",
      "(Enquiry cases)DOC  1.docx Request for Flag /\n",
      "SouvenirsSample\n",
      "May2022.docx\n",
      "Responses to the line units\n",
      "(Enquiry cases)Doc 2.docx\n",
      "Promo/ Collaborations/ Listings/ Collaterals/ STB Assets Attractions, Sightseeing \n",
      "Request to list event on STB\n",
      "websiteSample  Event  Listing  on STB\n",
      "web.docxMaintenance of\n",
      "AttractionsSample  -Attractions\n",
      "Maintenance.docx\n",
      "Request to be featured on STB\n",
      "websiteSample  - Interest  to be feature  in Visit\n",
      "Singapore.docxSightseeingSample  - Enquiry\n",
      "Singapore.docx\n",
      "Listing on STB websiteSample  - Enquiry  on Listing  on STB\n",
      "web.docxMuseumsSample  - Enquiry\n",
      "Listing on VS.comListing  on the website.docx Food Festival - Store\n",
      "applicationSample  - Enquiry\n",
      "food  stall  at Food\n",
      "Request for BrochuresSample  - Brochure  Enquiry.docx Photo- taking at\n",
      "landmarksSample  - Enquiry\n",
      "Singapore  landmark.docx\n",
      "Request for Brochures from\n",
      "Local (Ad- hoc request only)Request  for Brochures.docx Invitation to\n",
      "conferenceSample  Conference\n",
      "Request for Maps Sample  - Map  Enquiry.docx\n",
      "Merlion symbol and useSample  - Enquiry  On copy  right  of\n",
      "Icon.docx\n",
      "Event collaboration Sample  - Collboration  for Event.docx\n",
      "GeBIZ collaborationSample  - Collboration  Gebiz  -\n",
      "May2022.docx\n",
      "Medical collaborationSample  - Collaboration  for\n",
      "Medical.docx\n",
      "Singapore Travel Guides\n",
      "DownloadSample  - Suggest  destination  &\n",
      "download  Singapore  Travel\n",
      "Guide.docx\n"
     ]
    }
   ],
   "source": [
    "# Print the extracted text for the first key\n",
    "for text in extracted_text[('2. \"Permission to use Merlion design for wedding paper items\"', 1)]:\n",
    "    print(text)"
   ]
  },
  {
   "cell_type": "code",
   "execution_count": null,
   "metadata": {},
   "outputs": [
    {
     "name": "stdout",
     "output_type": "stream",
     "text": [
      "Japanese Enquiry 1 – In this case, RO was unable to answer MoP’s enquiry, hence, CSO replied MoP in English\n",
      "\n",
      "マーライオンをモチーフとしたオリジナルキャラクターの使用許可を頂きたいです。\n",
      "\n",
      "はじめまして。\n",
      "イラストレーターの長坂康平(活動名ナガサカ)と申します。\n",
      "\n",
      "toastyandtipsyという、オーダーメイドで結婚式のペーパーアイテムを制作しているショップ様から、マーライオンをモチーフとしたキャラクターデザイン、及びそのキャラクターを使用したペーパーアイテムの制作の業務委託を受けました。\n",
      "\n",
      "シンガポールのことが好きな新郎新婦様から、是非マーライオンのキャラクターで結婚式を行いたいという強いご要望がありました。\n",
      "\n",
      "新郎新婦様へのペーパーアイテムの販売、及び結婚式の使用のみの使用になります。\n",
      "\n",
      "以上の条件の元、マーライオンのデザイン使用を許諾いただけないでしょうか。よろしくお願いいたします。\n",
      "\n",
      "Translated\n",
      "\n",
      "nice to meet you.\n",
      "My name is Kohei Nagasaka (active name: Nagasaka) and I am an illustrator.\n",
      "\n",
      "We were commissioned by toastyandtipsy, a shop that produces custom-made paper items for weddings, to design a character with a Merlion motif and produce paper items using that character.\n",
      "\n",
      "We received a strong request from a bride and groom who love Singapore to have their wedding ceremony featuring the Merlion character.\n",
      "\n",
      "Paper items will be sold to brides and grooms and will only be used at weddings.\n",
      "\n",
      "Could you please give me permission to use the Merlion design under the above conditions? Thank you.\n",
      "\n",
      "\n",
      "\n",
      "CSO forwarded the case to RO Japan\n",
      "\n",
      "To RO Japan Colleagues,\n",
      "\n",
      "We refer to our enquiry CASE ID: 04-2024-10-00490410 - Enquiry - マーライオンをモチーフとしたオリジナルキャラクターの使用許可を頂きたいです\n",
      "\n",
      "We have received an email which is in Japanese.\n",
      "\n",
      "We need your assistance to translate the text so that we can address the feedback accurately.\n",
      "\n",
      "Thank you.\n",
      "\n",
      "\n",
      "\n",
      "RO Japan’s reply to inform that they will assist to respond to MoP\n",
      "\n",
      "Hi\n",
      "\n",
      " \n",
      "\n",
      "This sender’s e-mail said that they would like to develop a product with\n",
      "\n",
      "an original character based on the Merlion and they would like to have\n",
      "\n",
      "a permission to use the Merlion.\n",
      "\n",
      " \n",
      "\n",
      "We are going to inform them of the Merlion page on the corporate site\n",
      "\n",
      "and they need to apply for the use of the Merlion.\n",
      "\n",
      " \n",
      "\n",
      "Thank you\n",
      "\n",
      "Interview, invite or\n",
      "sponsorship (Internal)Sample  - Interview,  Invite  or\n",
      "sponsorship  request  (to line unit).docxIncomplete information\n",
      "(RO)Sample\n",
      "(RO).docx\n",
      "Sponsorship request for\n",
      "schoolsRequest  for Sponsorship.docxEmail\n",
      "Sign- Off Sample\n",
      "May2022.2.docx\n",
      "Job opportunities in STBJob Opportunity.docxCall Back RequestSample\n",
      "email  - \n",
      "Responses to the writer\n",
      "(Enquiry cases)DOC  1.docx Request for Flag /\n",
      "SouvenirsSample\n",
      "May2022.docx\n",
      "Responses to the line units\n",
      "(Enquiry cases)Doc 2.docx\n",
      "Promo/ Collaborations/ Listings/ Collaterals/ STB Assets Attractions, Sightseeing \n",
      "Request to list event on STB\n",
      "websiteSample  Event  Listing  on STB\n",
      "web.docxMaintenance of\n",
      "AttractionsSample  -Attractions\n",
      "Maintenance.docx\n",
      "Request to be featured on STB\n",
      "websiteSample  - Interest  to be feature  in Visit\n",
      "Singapore.docxSightseeingSample  - Enquiry\n",
      "Singapore.docx\n",
      "Listing on STB websiteSample  - Enquiry  on Listing  on STB\n",
      "web.docxMuseumsSample  - Enquiry\n",
      "Listing on VS.comListing  on the website.docx Food Festival - Store\n",
      "applicationSample  - Enquiry\n",
      "food  stall  at Food\n",
      "Request for BrochuresSample  - Brochure  Enquiry.docx Photo- taking at\n",
      "landmarksSample  - Enquiry\n",
      "Singapore  landmark.docx\n",
      "Request for Brochures from\n",
      "Local (Ad- hoc request only)Request  for Brochures.docx Invitation to\n",
      "conferenceSample  Conference\n",
      "Request for Maps Sample  - Map  Enquiry.docx\n",
      "Merlion symbol and useSample  - Enquiry  On copy  right  of\n",
      "Icon.docx\n",
      "Event collaboration Sample  - Collboration  for Event.docx\n",
      "GeBIZ collaborationSample  - Collboration  Gebiz  -\n",
      "May2022.docx\n",
      "Medical collaborationSample  - Collaboration  for\n",
      "Medical.docx\n",
      "Singapore Travel Guides\n",
      "DownloadSample  - Suggest  destination  &\n",
      "download  Singapore  Travel\n",
      "Guide.docx\n",
      "\n",
      "Japanese Enquiry 1 – In this case, RO was unable to answer MoP’s enquiry, hence, CSO replied MoP in English\n",
      "\n",
      "マーライオンをモチーフとしたオリジナルキャラクターの使用許可を頂きたいです。\n",
      "\n",
      "はじめまして。\n",
      "イラストレーターの長坂康平(活動名ナガサカ)と申します。\n",
      "\n",
      "toastyandtipsyという、オーダーメイドで結婚式のペーパーアイテムを制作しているショップ様から、マーライオンをモチーフとしたキャラクターデザイン、及びそのキャラクターを使用したペーパーアイテムの制作の業務委託を受けました。\n",
      "\n",
      "シンガポールのことが好きな新郎新婦様から、是非マーライオンのキャラクターで結婚式を行いたいという強いご要望がありました。\n",
      "\n",
      "新郎新婦様へのペーパーアイテムの販売、及び結婚式の使用のみの使用になります。\n",
      "\n",
      "以上の条件の元、マーライオンのデザイン使用を許諾いただけないでしょうか。よろしくお願いいたします。\n",
      "\n",
      "Translated\n",
      "\n",
      "nice to meet you.\n",
      "My name is Kohei Nagasaka (active name: Nagasaka) and I am an illustrator.\n",
      "\n",
      "We were commissioned by toastyandtipsy, a shop that produces custom-made paper items for weddings, to design a character with a Merlion motif and produce paper items using that character.\n",
      "\n",
      "We received a strong request from a bride and groom who love Singapore to have their wedding ceremony featuring the Merlion character.\n",
      "\n",
      "Paper items will be sold to brides and grooms and will only be used at weddings.\n",
      "\n",
      "Could you please give me permission to use the Merlion design under the above conditions? Thank you.\n",
      "\n",
      "\n",
      "\n",
      "CSO forwarded the case to RO Japan\n",
      "\n",
      "To RO Japan Colleagues,\n",
      "\n",
      "We refer to our enquiry CASE ID: 04-2024-10-00490410 - Enquiry - マーライオンをモチーフとしたオリジナルキャラクターの使用許可を頂きたいです\n",
      "\n",
      "We have received an email which is in Japanese.\n",
      "\n",
      "We need your assistance to translate the text so that we can address the feedback accurately.\n",
      "\n",
      "Thank you.\n",
      "\n",
      "\n",
      "\n",
      "RO Japan’s reply to inform that they will assist to respond to MoP\n",
      "\n",
      "Hi\n",
      "\n",
      " \n",
      "\n",
      "This sender’s e-mail said that they would like to develop a product with\n",
      "\n",
      "an original character based on the Merlion and they would like to have\n",
      "\n",
      "a permission to use the Merlion.\n",
      "\n",
      " \n",
      "\n",
      "We are going to inform them of the Merlion page on the corporate site\n",
      "\n",
      "and they need to apply for the use of the Merlion.\n",
      "\n",
      " \n",
      "\n",
      "Thank you\n",
      "\n",
      "Interview, invite or\n",
      "sponsorship (Internal)Sample  - Interview,  Invite  or\n",
      "sponsorship  request  (to line unit).docxIncomplete information\n",
      "(RO)Sample\n",
      "(RO).docx\n",
      "Sponsorship request for\n",
      "schoolsRequest  for Sponsorship.docxEmail\n",
      "Sign- Off Sample\n",
      "May2022.2.docx\n",
      "Job opportunities in STBJob Opportunity.docxCall Back RequestSample\n",
      "email  - \n",
      "Responses to the writer\n",
      "(Enquiry cases)DOC  1.docx Request for Flag /\n",
      "SouvenirsSample\n",
      "May2022.docx\n",
      "Responses to the line units\n",
      "(Enquiry cases)Doc 2.docx\n",
      "Promo/ Collaborations/ Listings/ Collaterals/ STB Assets Attractions, Sightseeing \n",
      "Request to list event on STB\n",
      "websiteSample  Event  Listing  on STB\n",
      "web.docxMaintenance of\n",
      "AttractionsSample  -Attractions\n",
      "Maintenance.docx\n",
      "Request to be featured on STB\n",
      "websiteSample  - Interest  to be feature  in Visit\n",
      "Singapore.docxSightseeingSample  - Enquiry\n",
      "Singapore.docx\n",
      "Listing on STB websiteSample  - Enquiry  on Listing  on STB\n",
      "web.docxMuseumsSample  - Enquiry\n",
      "Listing on VS.comListing  on the website.docx Food Festival - Store\n",
      "applicationSample  - Enquiry\n",
      "food  stall  at Food\n",
      "Request for BrochuresSample  - Brochure  Enquiry.docx Photo- taking at\n",
      "landmarksSample  - Enquiry\n",
      "Singapore  landmark.docx\n",
      "Request for Brochures from\n",
      "Local (Ad- hoc request only)Request  for Brochures.docx Invitation to\n",
      "conferenceSample  Conference\n",
      "Request for Maps Sample  - Map  Enquiry.docx\n",
      "Merlion symbol and useSample  - Enquiry  On copy  right  of\n",
      "Icon.docx\n",
      "Event collaboration Sample  - Collboration  for Event.docx\n",
      "GeBIZ collaborationSample  - Collboration  Gebiz  -\n",
      "May2022.docx\n",
      "Medical collaborationSample  - Collaboration  for\n",
      "Medical.docx\n",
      "Singapore Travel Guides\n",
      "DownloadSample  - Suggest  destination  &\n",
      "download  Singapore  Travel\n",
      "Guide.docx\n",
      "\n",
      "Japanese Enquiry 1 – In this case, RO was unable to answer MoP’s enquiry, hence, CSO replied MoP in English\n",
      "\n",
      "マーライオンをモチーフとしたオリジナルキャラクターの使用許可を頂きたいです。\n",
      "\n",
      "はじめまして。\n",
      "イラストレーターの長坂康平(活動名ナガサカ)と申します。\n",
      "\n",
      "toastyandtipsyという、オーダーメイドで結婚式のペーパーアイテムを制作しているショップ様から、マーライオンをモチーフとしたキャラクターデザイン、及びそのキャラクターを使用したペーパーアイテムの制作の業務委託を受けました。\n",
      "\n",
      "シンガポールのことが好きな新郎新婦様から、是非マーライオンのキャラクターで結婚式を行いたいという強いご要望がありました。\n",
      "\n",
      "新郎新婦様へのペーパーアイテムの販売、及び結婚式の使用のみの使用になります。\n",
      "\n",
      "以上の条件の元、マーライオンのデザイン使用を許諾いただけないでしょうか。よろしくお願いいたします。\n",
      "\n",
      "Translated\n",
      "\n",
      "nice to meet you.\n",
      "My name is Kohei Nagasaka (active name: Nagasaka) and I am an illustrator.\n",
      "\n",
      "We were commissioned by toastyandtipsy, a shop that produces custom-made paper items for weddings, to design a character with a Merlion motif and produce paper items using that character.\n",
      "\n",
      "We received a strong request from a bride and groom who love Singapore to have their wedding ceremony featuring the Merlion character.\n",
      "\n",
      "Paper items will be sold to brides and grooms and will only be used at weddings.\n",
      "\n",
      "Could you please give me permission to use the Merlion design under the above conditions? Thank you.\n",
      "\n",
      "\n",
      "\n",
      "CSO forwarded the case to RO Japan\n",
      "\n",
      "To RO Japan Colleagues,\n",
      "\n",
      "We refer to our enquiry CASE ID: 04-2024-10-00490410 - Enquiry - マーライオンをモチーフとしたオリジナルキャラクターの使用許可を頂きたいです\n",
      "\n",
      "We have received an email which is in Japanese.\n",
      "\n",
      "We need your assistance to translate the text so that we can address the feedback accurately.\n",
      "\n",
      "Thank you.\n",
      "\n",
      "\n",
      "\n",
      "RO Japan’s reply to inform that they will assist to respond to MoP\n",
      "\n",
      "Hi\n",
      "\n",
      " \n",
      "\n",
      "This sender’s e-mail said that they would like to develop a product with\n",
      "\n",
      "an original character based on the Merlion and they would like to have\n",
      "\n",
      "a permission to use the Merlion.\n",
      "\n",
      " \n",
      "\n",
      "We are going to inform them of the Merlion page on the corporate site\n",
      "\n",
      "and they need to apply for the use of the Merlion.\n",
      "\n",
      " \n",
      "\n",
      "Thank you\n",
      "\n",
      "Religious Cruiseoperators also have a role in our efforts to preserve religious\n",
      "harmony in Singapore. To this end, we seek your cooperation\n",
      "inform the Singapore Tourism Board (STB) via\n",
      "STB_CRUISE@stb.gov.sg (Please take note not to\n",
      "this email address, pending for Joseph to confirm\n",
      "as of 27/9)  immediately if:\n",
      "a) Your cruise ship(s) is(are) chartered for the purpose\n",
      "religious- themed cruise on board, regardless of the number\n",
      "cabins being chartered, or if you are aware of any religious-\n",
      "themed event on board involving religious speaker(s)\n",
      "(Excluding private weddings with religious ceremonies);\n",
      "b) Singapore is included in the itinerary (i.e. the cruise\n",
      "dock in Singapore).\n",
      "Please provide the following information to STB as soon\n",
      "are aware of the above, and in any event no later than\n",
      "months before the date that the cruise ship is scheduled\n",
      "the relevant voyage:\n",
      "a) Name, date of birth, passport number, and nationality\n",
      "religious speaker(s) involved;\n",
      "b) Name and contact of the event organiser;\n",
      "c) Name and contact of the shipping agent;\n",
      "d) Sailing itinerary, including date of sailing, and last \n",
      "port of call;\n",
      "e) Number of cruise cabins chartered and estimated number\n",
      "passengers involved in the religious- themed cruise;\n",
      "f) Programme details, including synopses of talks to be\n",
      "delivered by speaker(s) involved.\n",
      "If there are any changes to the above information after\n",
      "provided them to STB, please inform STB of the details\n",
      "changes immediately.\n",
      "If you require any clarification, please contact MHA at\n",
      "MHA_Feedback@mha.gov.sg or Cruise Division from\n",
      "STB_CRUISE@stb.gov.sg (Please take note not to\n",
      "this email address, pending for Joseph to confirm\n",
      "as of 27/9). Thank you.\n",
      "Dining & Retail\n",
      "Scenario 1: If the case is about feedback on cleanliness/service → Thank MoP for the feedback → route to LU for\n",
      "FYI.\n",
      "\n",
      "Japanese Enquiry 1 – In this case, RO was unable to answer MoP’s enquiry, hence, CSO replied MoP in English\n",
      "\n",
      "マーライオンをモチーフとしたオリジナルキャラクターの使用許可を頂きたいです。\n",
      "\n",
      "はじめまして。\n",
      "イラストレーターの長坂康平(活動名ナガサカ)と申します。\n",
      "\n",
      "toastyandtipsyという、オーダーメイドで結婚式のペーパーアイテムを制作しているショップ様から、マーライオンをモチーフとしたキャラクターデザイン、及びそのキャラクターを使用したペーパーアイテムの制作の業務委託を受けました。\n",
      "\n",
      "シンガポールのことが好きな新郎新婦様から、是非マーライオンのキャラクターで結婚式を行いたいという強いご要望がありました。\n",
      "\n",
      "新郎新婦様へのペーパーアイテムの販売、及び結婚式の使用のみの使用になります。\n",
      "\n",
      "以上の条件の元、マーライオンのデザイン使用を許諾いただけないでしょうか。よろしくお願いいたします。\n",
      "\n",
      "Translated\n",
      "\n",
      "nice to meet you.\n",
      "My name is Kohei Nagasaka (active name: Nagasaka) and I am an illustrator.\n",
      "\n",
      "We were commissioned by toastyandtipsy, a shop that produces custom-made paper items for weddings, to design a character with a Merlion motif and produce paper items using that character.\n",
      "\n",
      "We received a strong request from a bride and groom who love Singapore to have their wedding ceremony featuring the Merlion character.\n",
      "\n",
      "Paper items will be sold to brides and grooms and will only be used at weddings.\n",
      "\n",
      "Could you please give me permission to use the Merlion design under the above conditions? Thank you.\n",
      "\n",
      "\n",
      "\n",
      "CSO forwarded the case to RO Japan\n",
      "\n",
      "To RO Japan Colleagues,\n",
      "\n",
      "We refer to our enquiry CASE ID: 04-2024-10-00490410 - Enquiry - マーライオンをモチーフとしたオリジナルキャラクターの使用許可を頂きたいです\n",
      "\n",
      "We have received an email which is in Japanese.\n",
      "\n",
      "We need your assistance to translate the text so that we can address the feedback accurately.\n",
      "\n",
      "Thank you.\n",
      "\n",
      "\n",
      "\n",
      "RO Japan’s reply to inform that they will assist to respond to MoP\n",
      "\n",
      "Hi\n",
      "\n",
      " \n",
      "\n",
      "This sender’s e-mail said that they would like to develop a product with\n",
      "\n",
      "an original character based on the Merlion and they would like to have\n",
      "\n",
      "a permission to use the Merlion.\n",
      "\n",
      " \n",
      "\n",
      "We are going to inform them of the Merlion page on the corporate site\n",
      "\n",
      "and they need to apply for the use of the Merlion.\n",
      "\n",
      " \n",
      "\n",
      "Thank you\n",
      "\n",
      "Religious Cruiseoperators also have a role in our efforts to preserve religious\n",
      "harmony in Singapore. To this end, we seek your cooperation\n",
      "inform the Singapore Tourism Board (STB) via\n",
      "STB_CRUISE@stb.gov.sg (Please take note not to\n",
      "this email address, pending for Joseph to confirm\n",
      "as of 27/9)  immediately if:\n",
      "a) Your cruise ship(s) is(are) chartered for the purpose\n",
      "religious- themed cruise on board, regardless of the number\n",
      "cabins being chartered, or if you are aware of any religious-\n",
      "themed event on board involving religious speaker(s)\n",
      "(Excluding private weddings with religious ceremonies);\n",
      "b) Singapore is included in the itinerary (i.e. the cruise\n",
      "dock in Singapore).\n",
      "Please provide the following information to STB as soon\n",
      "are aware of the above, and in any event no later than\n",
      "months before the date that the cruise ship is scheduled\n",
      "the relevant voyage:\n",
      "a) Name, date of birth, passport number, and nationality\n",
      "religious speaker(s) involved;\n",
      "b) Name and contact of the event organiser;\n",
      "c) Name and contact of the shipping agent;\n",
      "d) Sailing itinerary, including date of sailing, and last \n",
      "port of call;\n",
      "e) Number of cruise cabins chartered and estimated number\n",
      "passengers involved in the religious- themed cruise;\n",
      "f) Programme details, including synopses of talks to be\n",
      "delivered by speaker(s) involved.\n",
      "If there are any changes to the above information after\n",
      "provided them to STB, please inform STB of the details\n",
      "changes immediately.\n",
      "If you require any clarification, please contact MHA at\n",
      "MHA_Feedback@mha.gov.sg or Cruise Division from\n",
      "STB_CRUISE@stb.gov.sg (Please take note not to\n",
      "this email address, pending for Joseph to confirm\n",
      "as of 27/9). Thank you.\n",
      "Dining & Retail\n",
      "Scenario 1: If the case is about feedback on cleanliness/service → Thank MoP for the feedback → route to LU for\n",
      "FYI.\n",
      "\n",
      "\n"
     ]
    }
   ],
   "source": [
    "# Warning, this function will concatenate all the text from the results. This may be a lot of text!\n",
    "\n",
    "def concatenate_text_from_results(results_dict):\n",
    "    concatenated_text = \"\"\n",
    "    for key, nodes in results_dict.items():\n",
    "        for node in nodes:\n",
    "            concatenated_text += node.node.text + \"\\n\\n\"  # Adding some spacing between entries\n",
    "    return concatenated_text\n",
    "\n",
    "# Extract the concatenated text\n",
    "concatenated_text = concatenate_text_from_results(results_dict)\n",
    "\n",
    "# Print the concatenated text\n",
    "print(concatenated_text)"
   ]
  },
  {
   "cell_type": "markdown",
   "metadata": {},
   "source": [
    "## Synthesise Final Response"
   ]
  },
  {
   "cell_type": "code",
   "execution_count": null,
   "metadata": {},
   "outputs": [],
   "source": [
    "from string import Template\n",
    "reply_prompt_template =Template(\"\"\"\n",
    "Based on the email content provided below, and the closest relevant information retrieved from our data,\n",
    "please provide an appropriate response to the email.\n",
    "\n",
    "Instructions:\n",
    "1. The tone of the response should be friendly and professional.\n",
    "2. The response should be relevant to the email content.\n",
    "3. The response should be concise and clear.\n",
    "4. The response should be written in English.\n",
    "\n",
    "Email: \n",
    "$email_content\n",
    "\n",
    "Closest Relevant Information: \n",
    "$closest_relevant_info\n",
    "\"\"\")"
   ]
  },
  {
   "cell_type": "code",
   "execution_count": null,
   "metadata": {},
   "outputs": [],
   "source": [
    "stb_system_prompt = \"\"\"\n",
    "You are a customer service officer representing the Singapore Tourism Board.\n",
    "\"\"\""
   ]
  },
  {
   "cell_type": "code",
   "execution_count": null,
   "metadata": {},
   "outputs": [],
   "source": [
    "# Create new instance of chat engine\n",
    "reply_chat_engine = SimpleChatEngine.from_defaults(\n",
    "    llm=llm,\n",
    "    system_prompt=stb_system_prompt\n",
    ")"
   ]
  },
  {
   "cell_type": "code",
   "execution_count": null,
   "metadata": {},
   "outputs": [],
   "source": [
    "email_content = eng_jap_response.response"
   ]
  },
  {
   "cell_type": "code",
   "execution_count": null,
   "metadata": {},
   "outputs": [
    {
     "data": {
      "text/plain": [
       "'Japanese Enquiry 1 – In this case, RO was unable to answer MoP’s enquiry, hence, CSO replied MoP in English\\n\\nマーライオンをモチーフとしたオリジナルキャラクターの使用許可を頂きたいです。\\n\\nはじめまして。\\nイラストレーターの長坂康平(活動名ナガサカ)と申します。\\n\\ntoastyandtipsyという、オーダーメイドで結婚式のペーパーアイテムを制作しているショップ様から、マーライオンをモチーフとしたキャラクターデザイン、及びそのキャラクターを使用したペーパーアイテムの制作の業務委託を受けました。\\n\\nシンガポールのことが好きな新郎新婦様から、是非マーライオンのキャラクターで結婚式を行いたいという強いご要望がありました。\\n\\n新郎新婦様へのペーパーアイテムの販売、及び結婚式の使用のみの使用になります。\\n\\n以上の条件の元、マーライオンのデザイン使用を許諾いただけないでしょうか。よろしくお願いいたします。\\n\\nTranslated\\n\\nnice to meet you.\\nMy name is Kohei Nagasaka (active name: Nagasaka) and I am an illustrator.\\n\\nWe were commissioned by toastyandtipsy, a shop that produces custom-made paper items for weddings, to design a character with a Merlion motif and produce paper items using that character.\\n\\nWe received a strong request from a bride and groom who love Singapore to have their wedding ceremony featuring the Merlion character.\\n\\nPaper items will be sold to brides and grooms and will only be used at weddings.\\n\\nCould you please give me permission to use the Merlion design under the above conditions? Thank you.\\n\\n\\n\\nCSO forwarded the case to RO Japan\\n\\nTo RO Japan Colleagues,\\n\\nWe refer to our enquiry CASE ID: 04-2024-10-00490410 - Enquiry -\\xa0マーライオンをモチーフとしたオリジナルキャラクターの使用許可を頂きたいです\\n\\nWe have received an email which is in Japanese.\\n\\nWe need your assistance to translate the text so that we can address the feedback accurately.\\n\\nThank you.\\n\\n\\n\\nRO Japan’s reply to inform that they will assist to respond to MoP\\n\\nHi\\n\\n\\xa0\\n\\nThis sender’s e-mail said that they would like to develop a product with\\n\\nan original character based on the Merlion and they would like to have\\n\\na permission to use the Merlion.\\n\\n\\xa0\\n\\nWe are going to inform them of the Merlion page on the corporate site\\n\\nand they need to apply for the use of the Merlion.\\n\\n\\xa0\\n\\nThank you\\n\\nInterview, invite or\\nsponsorship (Internal)Sample  - Interview,  Invite  or\\nsponsorship  request  (to line unit).docxIncomplete information\\n(RO)Sample\\n(RO).docx\\nSponsorship request for\\nschoolsRequest  for Sponsorship.docxEmail\\nSign- Off\\xa0Sample\\nMay2022.2.docx\\nJob opportunities in STBJob Opportunity.docxCall Back RequestSample\\nemail  - \\nResponses to the writer\\n(Enquiry cases)DOC  1.docx Request for Flag /\\nSouvenirsSample\\nMay2022.docx\\nResponses to the line units\\n(Enquiry cases)Doc 2.docx\\nPromo/ Collaborations/ Listings/ Collaterals/ STB Assets Attractions, Sightseeing \\nRequest to list event on STB\\nwebsiteSample  Event  Listing  on STB\\nweb.docxMaintenance of\\nAttractionsSample  -Attractions\\nMaintenance.docx\\nRequest to be featured on STB\\nwebsiteSample  - Interest  to be feature  in Visit\\nSingapore.docxSightseeingSample  - Enquiry\\nSingapore.docx\\nListing on STB websiteSample  - Enquiry  on Listing  on STB\\nweb.docxMuseumsSample  - Enquiry\\nListing on\\xa0VS.comListing  on the website.docx Food Festival - Store\\napplicationSample  - Enquiry\\nfood  stall  at Food\\nRequest for BrochuresSample  - Brochure  Enquiry.docx Photo- taking at\\nlandmarksSample  - Enquiry\\nSingapore  landmark.docx\\nRequest for Brochures from\\nLocal (Ad- hoc request only)Request  for Brochures.docx Invitation to\\nconferenceSample  Conference\\nRequest for Maps Sample  - Map  Enquiry.docx\\nMerlion symbol and useSample  - Enquiry  On copy  right  of\\nIcon.docx\\nEvent collaboration Sample  - Collboration  for Event.docx\\nGeBIZ collaborationSample  - Collboration  Gebiz  -\\nMay2022.docx\\nMedical collaborationSample  - Collaboration  for\\nMedical.docx\\nSingapore Travel Guides\\nDownloadSample  - Suggest  destination  &\\ndownload  Singapore  Travel\\nGuide.docx\\n\\nJapanese Enquiry 1 – In this case, RO was unable to answer MoP’s enquiry, hence, CSO replied MoP in English\\n\\nマーライオンをモチーフとしたオリジナルキャラクターの使用許可を頂きたいです。\\n\\nはじめまして。\\nイラストレーターの長坂康平(活動名ナガサカ)と申します。\\n\\ntoastyandtipsyという、オーダーメイドで結婚式のペーパーアイテムを制作しているショップ様から、マーライオンをモチーフとしたキャラクターデザイン、及びそのキャラクターを使用したペーパーアイテムの制作の業務委託を受けました。\\n\\nシンガポールのことが好きな新郎新婦様から、是非マーライオンのキャラクターで結婚式を行いたいという強いご要望がありました。\\n\\n新郎新婦様へのペーパーアイテムの販売、及び結婚式の使用のみの使用になります。\\n\\n以上の条件の元、マーライオンのデザイン使用を許諾いただけないでしょうか。よろしくお願いいたします。\\n\\nTranslated\\n\\nnice to meet you.\\nMy name is Kohei Nagasaka (active name: Nagasaka) and I am an illustrator.\\n\\nWe were commissioned by toastyandtipsy, a shop that produces custom-made paper items for weddings, to design a character with a Merlion motif and produce paper items using that character.\\n\\nWe received a strong request from a bride and groom who love Singapore to have their wedding ceremony featuring the Merlion character.\\n\\nPaper items will be sold to brides and grooms and will only be used at weddings.\\n\\nCould you please give me permission to use the Merlion design under the above conditions? Thank you.\\n\\n\\n\\nCSO forwarded the case to RO Japan\\n\\nTo RO Japan Colleagues,\\n\\nWe refer to our enquiry CASE ID: 04-2024-10-00490410 - Enquiry -\\xa0マーライオンをモチーフとしたオリジナルキャラクターの使用許可を頂きたいです\\n\\nWe have received an email which is in Japanese.\\n\\nWe need your assistance to translate the text so that we can address the feedback accurately.\\n\\nThank you.\\n\\n\\n\\nRO Japan’s reply to inform that they will assist to respond to MoP\\n\\nHi\\n\\n\\xa0\\n\\nThis sender’s e-mail said that they would like to develop a product with\\n\\nan original character based on the Merlion and they would like to have\\n\\na permission to use the Merlion.\\n\\n\\xa0\\n\\nWe are going to inform them of the Merlion page on the corporate site\\n\\nand they need to apply for the use of the Merlion.\\n\\n\\xa0\\n\\nThank you\\n\\nInterview, invite or\\nsponsorship (Internal)Sample  - Interview,  Invite  or\\nsponsorship  request  (to line unit).docxIncomplete information\\n(RO)Sample\\n(RO).docx\\nSponsorship request for\\nschoolsRequest  for Sponsorship.docxEmail\\nSign- Off\\xa0Sample\\nMay2022.2.docx\\nJob opportunities in STBJob Opportunity.docxCall Back RequestSample\\nemail  - \\nResponses to the writer\\n(Enquiry cases)DOC  1.docx Request for Flag /\\nSouvenirsSample\\nMay2022.docx\\nResponses to the line units\\n(Enquiry cases)Doc 2.docx\\nPromo/ Collaborations/ Listings/ Collaterals/ STB Assets Attractions, Sightseeing \\nRequest to list event on STB\\nwebsiteSample  Event  Listing  on STB\\nweb.docxMaintenance of\\nAttractionsSample  -Attractions\\nMaintenance.docx\\nRequest to be featured on STB\\nwebsiteSample  - Interest  to be feature  in Visit\\nSingapore.docxSightseeingSample  - Enquiry\\nSingapore.docx\\nListing on STB websiteSample  - Enquiry  on Listing  on STB\\nweb.docxMuseumsSample  - Enquiry\\nListing on\\xa0VS.comListing  on the website.docx Food Festival - Store\\napplicationSample  - Enquiry\\nfood  stall  at Food\\nRequest for BrochuresSample  - Brochure  Enquiry.docx Photo- taking at\\nlandmarksSample  - Enquiry\\nSingapore  landmark.docx\\nRequest for Brochures from\\nLocal (Ad- hoc request only)Request  for Brochures.docx Invitation to\\nconferenceSample  Conference\\nRequest for Maps Sample  - Map  Enquiry.docx\\nMerlion symbol and useSample  - Enquiry  On copy  right  of\\nIcon.docx\\nEvent collaboration Sample  - Collboration  for Event.docx\\nGeBIZ collaborationSample  - Collboration  Gebiz  -\\nMay2022.docx\\nMedical collaborationSample  - Collaboration  for\\nMedical.docx\\nSingapore Travel Guides\\nDownloadSample  - Suggest  destination  &\\ndownload  Singapore  Travel\\nGuide.docx\\n\\nJapanese Enquiry 1 – In this case, RO was unable to answer MoP’s enquiry, hence, CSO replied MoP in English\\n\\nマーライオンをモチーフとしたオリジナルキャラクターの使用許可を頂きたいです。\\n\\nはじめまして。\\nイラストレーターの長坂康平(活動名ナガサカ)と申します。\\n\\ntoastyandtipsyという、オーダーメイドで結婚式のペーパーアイテムを制作しているショップ様から、マーライオンをモチーフとしたキャラクターデザイン、及びそのキャラクターを使用したペーパーアイテムの制作の業務委託を受けました。\\n\\nシンガポールのことが好きな新郎新婦様から、是非マーライオンのキャラクターで結婚式を行いたいという強いご要望がありました。\\n\\n新郎新婦様へのペーパーアイテムの販売、及び結婚式の使用のみの使用になります。\\n\\n以上の条件の元、マーライオンのデザイン使用を許諾いただけないでしょうか。よろしくお願いいたします。\\n\\nTranslated\\n\\nnice to meet you.\\nMy name is Kohei Nagasaka (active name: Nagasaka) and I am an illustrator.\\n\\nWe were commissioned by toastyandtipsy, a shop that produces custom-made paper items for weddings, to design a character with a Merlion motif and produce paper items using that character.\\n\\nWe received a strong request from a bride and groom who love Singapore to have their wedding ceremony featuring the Merlion character.\\n\\nPaper items will be sold to brides and grooms and will only be used at weddings.\\n\\nCould you please give me permission to use the Merlion design under the above conditions? Thank you.\\n\\n\\n\\nCSO forwarded the case to RO Japan\\n\\nTo RO Japan Colleagues,\\n\\nWe refer to our enquiry CASE ID: 04-2024-10-00490410 - Enquiry -\\xa0マーライオンをモチーフとしたオリジナルキャラクターの使用許可を頂きたいです\\n\\nWe have received an email which is in Japanese.\\n\\nWe need your assistance to translate the text so that we can address the feedback accurately.\\n\\nThank you.\\n\\n\\n\\nRO Japan’s reply to inform that they will assist to respond to MoP\\n\\nHi\\n\\n\\xa0\\n\\nThis sender’s e-mail said that they would like to develop a product with\\n\\nan original character based on the Merlion and they would like to have\\n\\na permission to use the Merlion.\\n\\n\\xa0\\n\\nWe are going to inform them of the Merlion page on the corporate site\\n\\nand they need to apply for the use of the Merlion.\\n\\n\\xa0\\n\\nThank you\\n\\nReligious Cruiseoperators also have a role in our efforts to preserve religious\\nharmony in Singapore. To this end, we seek your cooperation\\ninform the Singapore Tourism Board (STB) via\\nSTB_CRUISE@stb.gov.sg (Please take note not to\\nthis email address, pending for Joseph to confirm\\nas of 27/9) \\xa0immediately if:\\na) Your cruise ship(s) is(are) chartered for the purpose\\nreligious- themed cruise on board, regardless of the number\\ncabins being chartered, or if you are aware of any religious-\\nthemed event on board involving religious speaker(s)\\n(Excluding private weddings with religious ceremonies);\\nb) Singapore is included in the itinerary (i.e. the cruise\\ndock in Singapore).\\nPlease provide the following information to STB as soon\\nare aware of the above, and in any event no later than\\nmonths before the date that the cruise ship is scheduled\\nthe relevant voyage:\\na) Name, date of birth, passport number, and nationality\\nreligious speaker(s) involved;\\nb) Name and contact of the event organiser;\\nc) Name and contact of the shipping agent;\\nd) Sailing itinerary, including date of sailing, and last \\nport of call;\\ne) Number of cruise cabins chartered and estimated number\\npassengers involved in the religious- themed cruise;\\nf) Programme details, including synopses of talks to be\\ndelivered by speaker(s) involved.\\nIf there are any changes to the above information after\\nprovided them to STB, please inform STB of the details\\nchanges immediately.\\nIf you require any clarification, please contact MHA at\\nMHA_Feedback@mha.gov.sg or Cruise Division from\\nSTB_CRUISE@stb.gov.sg (Please take note not to\\nthis email address, pending for Joseph to confirm\\nas of 27/9). Thank you.\\nDining & Retail\\nScenario 1: If the case is about feedback on cleanliness/service → Thank MoP for the feedback → route to LU for\\nFYI.\\n\\nJapanese Enquiry 1 – In this case, RO was unable to answer MoP’s enquiry, hence, CSO replied MoP in English\\n\\nマーライオンをモチーフとしたオリジナルキャラクターの使用許可を頂きたいです。\\n\\nはじめまして。\\nイラストレーターの長坂康平(活動名ナガサカ)と申します。\\n\\ntoastyandtipsyという、オーダーメイドで結婚式のペーパーアイテムを制作しているショップ様から、マーライオンをモチーフとしたキャラクターデザイン、及びそのキャラクターを使用したペーパーアイテムの制作の業務委託を受けました。\\n\\nシンガポールのことが好きな新郎新婦様から、是非マーライオンのキャラクターで結婚式を行いたいという強いご要望がありました。\\n\\n新郎新婦様へのペーパーアイテムの販売、及び結婚式の使用のみの使用になります。\\n\\n以上の条件の元、マーライオンのデザイン使用を許諾いただけないでしょうか。よろしくお願いいたします。\\n\\nTranslated\\n\\nnice to meet you.\\nMy name is Kohei Nagasaka (active name: Nagasaka) and I am an illustrator.\\n\\nWe were commissioned by toastyandtipsy, a shop that produces custom-made paper items for weddings, to design a character with a Merlion motif and produce paper items using that character.\\n\\nWe received a strong request from a bride and groom who love Singapore to have their wedding ceremony featuring the Merlion character.\\n\\nPaper items will be sold to brides and grooms and will only be used at weddings.\\n\\nCould you please give me permission to use the Merlion design under the above conditions? Thank you.\\n\\n\\n\\nCSO forwarded the case to RO Japan\\n\\nTo RO Japan Colleagues,\\n\\nWe refer to our enquiry CASE ID: 04-2024-10-00490410 - Enquiry -\\xa0マーライオンをモチーフとしたオリジナルキャラクターの使用許可を頂きたいです\\n\\nWe have received an email which is in Japanese.\\n\\nWe need your assistance to translate the text so that we can address the feedback accurately.\\n\\nThank you.\\n\\n\\n\\nRO Japan’s reply to inform that they will assist to respond to MoP\\n\\nHi\\n\\n\\xa0\\n\\nThis sender’s e-mail said that they would like to develop a product with\\n\\nan original character based on the Merlion and they would like to have\\n\\na permission to use the Merlion.\\n\\n\\xa0\\n\\nWe are going to inform them of the Merlion page on the corporate site\\n\\nand they need to apply for the use of the Merlion.\\n\\n\\xa0\\n\\nThank you\\n\\nReligious Cruiseoperators also have a role in our efforts to preserve religious\\nharmony in Singapore. To this end, we seek your cooperation\\ninform the Singapore Tourism Board (STB) via\\nSTB_CRUISE@stb.gov.sg (Please take note not to\\nthis email address, pending for Joseph to confirm\\nas of 27/9) \\xa0immediately if:\\na) Your cruise ship(s) is(are) chartered for the purpose\\nreligious- themed cruise on board, regardless of the number\\ncabins being chartered, or if you are aware of any religious-\\nthemed event on board involving religious speaker(s)\\n(Excluding private weddings with religious ceremonies);\\nb) Singapore is included in the itinerary (i.e. the cruise\\ndock in Singapore).\\nPlease provide the following information to STB as soon\\nare aware of the above, and in any event no later than\\nmonths before the date that the cruise ship is scheduled\\nthe relevant voyage:\\na) Name, date of birth, passport number, and nationality\\nreligious speaker(s) involved;\\nb) Name and contact of the event organiser;\\nc) Name and contact of the shipping agent;\\nd) Sailing itinerary, including date of sailing, and last \\nport of call;\\ne) Number of cruise cabins chartered and estimated number\\npassengers involved in the religious- themed cruise;\\nf) Programme details, including synopses of talks to be\\ndelivered by speaker(s) involved.\\nIf there are any changes to the above information after\\nprovided them to STB, please inform STB of the details\\nchanges immediately.\\nIf you require any clarification, please contact MHA at\\nMHA_Feedback@mha.gov.sg or Cruise Division from\\nSTB_CRUISE@stb.gov.sg (Please take note not to\\nthis email address, pending for Joseph to confirm\\nas of 27/9). Thank you.\\nDining & Retail\\nScenario 1: If the case is about feedback on cleanliness/service → Thank MoP for the feedback → route to LU for\\nFYI.\\n\\n'"
      ]
     },
     "execution_count": 156,
     "metadata": {},
     "output_type": "execute_result"
    }
   ],
   "source": [
    "concatenated_text"
   ]
  },
  {
   "cell_type": "code",
   "execution_count": null,
   "metadata": {},
   "outputs": [
    {
     "data": {
      "text/plain": [
       "4624"
      ]
     },
     "execution_count": 164,
     "metadata": {},
     "output_type": "execute_result"
    }
   ],
   "source": [
    "# Check the number of tokens from retrieved source, we realise that it explodes gpt-3.5 4k context length\n",
    "\n",
    "import tiktoken\n",
    "\n",
    "encoding = tiktoken.encoding_for_model(\"gpt-3.5-turbo\")\n",
    "\n",
    "def num_tokens_from_string(string: str) -> int:\n",
    "    \"\"\"Returns the number of tokens in a text string.\"\"\"\n",
    "    encoding = tiktoken.encoding_for_model(\"gpt-3.5-turbo\")\n",
    "    num_tokens = len(encoding.encode(string))\n",
    "    return num_tokens\n",
    "\n",
    "num_tokens_from_string(concatenated_text)"
   ]
  },
  {
   "cell_type": "code",
   "execution_count": null,
   "metadata": {},
   "outputs": [
    {
     "data": {
      "text/plain": [
       "2377"
      ]
     },
     "execution_count": 165,
     "metadata": {},
     "output_type": "execute_result"
    }
   ],
   "source": [
    "# Do a naive truncation of the retrieved sources\n",
    "\n",
    "half_length = len(concatenated_text) // 2\n",
    "truncated_text = concatenated_text[:half_length]\n",
    "\n",
    "num_tokens_from_string(truncated_text)"
   ]
  },
  {
   "cell_type": "code",
   "execution_count": null,
   "metadata": {},
   "outputs": [
    {
     "data": {
      "text/plain": [
       "'Japanese Enquiry 1 – In this case, RO was unable to answer MoP’s enquiry, hence, CSO replied MoP in English\\n\\nマーライオンをモチーフとしたオリジナルキャラクターの使用許可を頂きたいです。\\n\\nはじめまして。\\nイラストレーターの長坂康平(活動名ナガサカ)と申します。\\n\\ntoastyandtipsyという、オーダーメイドで結婚式のペーパーアイテムを制作しているショップ様から、マーライオンをモチーフとしたキャラクターデザイン、及びそのキャラクターを使用したペーパーアイテムの制作の業務委託を受けました。\\n\\nシンガポールのことが好きな新郎新婦様から、是非マーライオンのキャラクターで結婚式を行いたいという強いご要望がありました。\\n\\n新郎新婦様へのペーパーアイテムの販売、及び結婚式の使用のみの使用になります。\\n\\n以上の条件の元、マーライオンのデザイン使用を許諾いただけないでしょうか。よろしくお願いいたします。\\n\\nTranslated\\n\\nnice to meet you.\\nMy name is Kohei Nagasaka (active name: Nagasaka) and I am an illustrator.\\n\\nWe were commissioned by toastyandtipsy, a shop that produces custom-made paper items for weddings, to design a character with a Merlion motif and produce paper items using that character.\\n\\nWe received a strong request from a bride and groom who love Singapore to have their wedding ceremony featuring the Merlion character.\\n\\nPaper items will be sold to brides and grooms and will only be used at weddings.\\n\\nCould you please give me permission to use the Merlion design under the above conditions? Thank you.\\n\\n\\n\\nCSO forwarded the case to RO Japan\\n\\nTo RO Japan Colleagues,\\n\\nWe refer to our enquiry CASE ID: 04-2024-10-00490410 - Enquiry -\\xa0マーライオンをモチーフとしたオリジナルキャラクターの使用許可を頂きたいです\\n\\nWe have received an email which is in Japanese.\\n\\nWe need your assistance to translate the text so that we can address the feedback accurately.\\n\\nThank you.\\n\\n\\n\\nRO Japan’s reply to inform that they will assist to respond to MoP\\n\\nHi\\n\\n\\xa0\\n\\nThis sender’s e-mail said that they would like to develop a product with\\n\\nan original character based on the Merlion and they would like to have\\n\\na permission to use the Merlion.\\n\\n\\xa0\\n\\nWe are going to inform them of the Merlion page on the corporate site\\n\\nand they need to apply for the use of the Merlion.\\n\\n\\xa0\\n\\nThank you\\n\\nInterview, invite or\\nsponsorship (Internal)Sample  - Interview,  Invite  or\\nsponsorship  request  (to line unit).docxIncomplete information\\n(RO)Sample\\n(RO).docx\\nSponsorship request for\\nschoolsRequest  for Sponsorship.docxEmail\\nSign- Off\\xa0Sample\\nMay2022.2.docx\\nJob opportunities in STBJob Opportunity.docxCall Back RequestSample\\nemail  - \\nResponses to the writer\\n(Enquiry cases)DOC  1.docx Request for Flag /\\nSouvenirsSample\\nMay2022.docx\\nResponses to the line units\\n(Enquiry cases)Doc 2.docx\\nPromo/ Collaborations/ Listings/ Collaterals/ STB Assets Attractions, Sightseeing \\nRequest to list event on STB\\nwebsiteSample  Event  Listing  on STB\\nweb.docxMaintenance of\\nAttractionsSample  -Attractions\\nMaintenance.docx\\nRequest to be featured on STB\\nwebsiteSample  - Interest  to be feature  in Visit\\nSingapore.docxSightseeingSample  - Enquiry\\nSingapore.docx\\nListing on STB websiteSample  - Enquiry  on Listing  on STB\\nweb.docxMuseumsSample  - Enquiry\\nListing on\\xa0VS.comListing  on the website.docx Food Festival - Store\\napplicationSample  - Enquiry\\nfood  stall  at Food\\nRequest for BrochuresSample  - Brochure  Enquiry.docx Photo- taking at\\nlandmarksSample  - Enquiry\\nSingapore  landmark.docx\\nRequest for Brochures from\\nLocal (Ad- hoc request only)Request  for Brochures.docx Invitation to\\nconferenceSample  Conference\\nRequest for Maps Sample  - Map  Enquiry.docx\\nMerlion symbol and useSample  - Enquiry  On copy  right  of\\nIcon.docx\\nEvent collaboration Sample  - Collboration  for Event.docx\\nGeBIZ collaborationSample  - Collboration  Gebiz  -\\nMay2022.docx\\nMedical collaborationSample  - Collaboration  for\\nMedical.docx\\nSingapore Travel Guides\\nDownloadSample  - Suggest  destination  &\\ndownload  Singapore  Travel\\nGuide.docx\\n\\nJapanese Enquiry 1 – In this case, RO was unable to answer MoP’s enquiry, hence, CSO replied MoP in English\\n\\nマーライオンをモチーフとしたオリジナルキャラクターの使用許可を頂きたいです。\\n\\nはじめまして。\\nイラストレーターの長坂康平(活動名ナガサカ)と申します。\\n\\ntoastyandtipsyという、オーダーメイドで結婚式のペーパーアイテムを制作しているショップ様から、マーライオンをモチーフとしたキャラクターデザイン、及びそのキャラクターを使用したペーパーアイテムの制作の業務委託を受けました。\\n\\nシンガポールのことが好きな新郎新婦様から、是非マーライオンのキャラクターで結婚式を行いたいという強いご要望がありました。\\n\\n新郎新婦様へのペーパーアイテムの販売、及び結婚式の使用のみの使用になります。\\n\\n以上の条件の元、マーライオンのデザイン使用を許諾いただけないでしょうか。よろしくお願いいたします。\\n\\nTranslated\\n\\nnice to meet you.\\nMy name is Kohei Nagasaka (active name: Nagasaka) and I am an illustrator.\\n\\nWe were commissioned by toastyandtipsy, a shop that produces custom-made paper items for weddings, to design a character with a Merlion motif and produce paper items using that character.\\n\\nWe received a strong request from a bride and groom who love Singapore to have their wedding ceremony featuring the Merlion character.\\n\\nPaper items will be sold to brides and grooms and will only be used at weddings.\\n\\nCould you please give me permission to use the Merlion design under the above conditions? Thank you.\\n\\n\\n\\nCSO forwarded the case to RO Japan\\n\\nTo RO Japan Colleagues,\\n\\nWe refer to our enquiry CASE ID: 04-2024-10-00490410 - Enquiry -\\xa0マーライオンをモチーフとしたオリジナルキャラクターの使用許可を頂きたいです\\n\\nWe have received an email which is in Japanese.\\n\\nWe need your assistance to translate the text so that we can address the feedback accurately.\\n\\nThank you.\\n\\n\\n\\nRO Japan’s reply to inform that they will assist to respond to MoP\\n\\nHi\\n\\n\\xa0\\n\\nThis sender’s e-mail said that they would like to develop a product with\\n\\nan original character based on the Merlion and they would like to have\\n\\na permission to use the Merlion.\\n\\n\\xa0\\n\\nWe are going to inform them of the Merlion page on the corporate site\\n\\nand they need to apply for the use of the Merlion.\\n\\n\\xa0\\n\\nThank you\\n\\nInterview, invite or\\nsponsorship (Internal)Sample  - Interview,  Invite  or\\nsponsorship  request  (to line unit).docxIncomplete information\\n(RO)Sample\\n(RO).docx\\nSponsorship request for\\nschoolsRequest  for Sponsorship.docxEmail\\nSign- Off\\xa0Sample\\nMay2022.2.docx\\nJob opportunities in STBJob Opportunity.docxCall Back RequestSample\\nemail  - \\nResponses to the writer\\n(Enquiry cases)DOC  1.docx Request for Flag /\\nSouvenirsSample\\nMay2022.docx\\nResponses to the line units\\n(Enquiry cases)Doc 2.docx\\nPromo/ Collaborations/ Listings/ Collaterals/ STB Assets Attractions, Sightseeing \\nRequest to list event on STB\\nwebsiteSample  Event  Listing  on STB\\nweb.docxMaintenance of\\nAttractionsSample  -Attractions\\nMaintenance.docx\\nRequest to be featured on STB\\nwebsiteSample  - Interest  to be feature  in Visit\\nSingapore.docxSightseeingSample  - Enquiry\\nSingapore.docx\\nListing on STB websiteSample  - Enquiry  on Listing  on STB\\nweb.docxMuseumsSample  - Enquiry\\nListing on\\xa0VS.comListing  on the website.docx Food Festival - Store\\napplicationSample  - Enquiry\\nfood  stall  at Food\\nRequest for BrochuresSample  - Brochure  Enquiry.docx Photo- taking at\\nlandmarksSample  - Enquiry\\nSingapore  landmark.docx\\nRequest for Brochures from\\nLocal (Ad- hoc request only)Request  for Brochures.docx Invitation to\\nconferenceSample  Conference\\nRequest for Maps Sample  - Map  Enquiry.docx\\nMerlion symbol and useSample  - Enquiry  On copy  right  of\\nIcon.docx\\nEvent collaboration Sample  - Collboration  for Event.docx\\nGeBIZ collaborationSample  - Collboration  Gebiz  -\\nMay2022.docx\\nMedical collaborationSample  - Collaboration  for\\nMedical.docx\\nSingapore Travel Guides\\nDownloadSample  - Suggest  destination  &\\ndownload  Singapore  Travel\\nGuide.docx\\n\\nJapanese Enquiry 1 – In this case, RO was unable to answer MoP’s enquiry, hence, CSO rep'"
      ]
     },
     "execution_count": 166,
     "metadata": {},
     "output_type": "execute_result"
    }
   ],
   "source": [
    "truncated_text"
   ]
  },
  {
   "cell_type": "code",
   "execution_count": null,
   "metadata": {},
   "outputs": [],
   "source": [
    "closest_relevant_info = truncated_text"
   ]
  },
  {
   "cell_type": "code",
   "execution_count": null,
   "metadata": {},
   "outputs": [],
   "source": [
    "formatted_reply_prompt = reply_prompt_template.substitute(email_content=email_content, closest_relevant_info=closest_relevant_info)"
   ]
  },
  {
   "cell_type": "code",
   "execution_count": null,
   "metadata": {},
   "outputs": [
    {
     "data": {
      "text/plain": [
       "'\\nBased on the email content provided below, and the closest relevant information retrieved from our data,\\nplease provide an appropriate response to the email.\\n\\nInstructions:\\n1. The tone of the response should be friendly and professional.\\n2. The response should be relevant to the email content.\\n3. The response should be concise and clear.\\n4. The response should be written in English.\\n\\nEmail: \\nNice to meet you.\\nI am illustrator Yasuhei Nagasaka (working name: Nagasaka).\\n\\nI have received a commission from a shop called \"toastyandtipsy\" that specializes in creating custom wedding paper items. They have requested a character design based on the Merlion and the production of paper items featuring this character.\\n\\nThe bride and groom, who have a strong affinity for Singapore, expressed a strong desire to have a wedding featuring the Merlion character.\\n\\nThe use of the paper items will be limited to sales to the bride and groom and for use at their wedding.\\n\\nUnder these conditions, would it be possible to grant permission for the use of the Merlion design? Thank you very much.\\n\\nClosest Relevant Information: \\nJapanese Enquiry 1 – In this case, RO was unable to answer MoP’s enquiry, hence, CSO replied MoP in English\\n\\nマーライオンをモチーフとしたオリジナルキャラクターの使用許可を頂きたいです。\\n\\nはじめまして。\\nイラストレーターの長坂康平(活動名ナガサカ)と申します。\\n\\ntoastyandtipsyという、オーダーメイドで結婚式のペーパーアイテムを制作しているショップ様から、マーライオンをモチーフとしたキャラクターデザイン、及びそのキャラクターを使用したペーパーアイテムの制作の業務委託を受けました。\\n\\nシンガポールのことが好きな新郎新婦様から、是非マーライオンのキャラクターで結婚式を行いたいという強いご要望がありました。\\n\\n新郎新婦様へのペーパーアイテムの販売、及び結婚式の使用のみの使用になります。\\n\\n以上の条件の元、マーライオンのデザイン使用を許諾いただけないでしょうか。よろしくお願いいたします。\\n\\nTranslated\\n\\nnice to meet you.\\nMy name is Kohei Nagasaka (active name: Nagasaka) and I am an illustrator.\\n\\nWe were commissioned by toastyandtipsy, a shop that produces custom-made paper items for weddings, to design a character with a Merlion motif and produce paper items using that character.\\n\\nWe received a strong request from a bride and groom who love Singapore to have their wedding ceremony featuring the Merlion character.\\n\\nPaper items will be sold to brides and grooms and will only be used at weddings.\\n\\nCould you please give me permission to use the Merlion design under the above conditions? Thank you.\\n\\n\\n\\nCSO forwarded the case to RO Japan\\n\\nTo RO Japan Colleagues,\\n\\nWe refer to our enquiry CASE ID: 04-2024-10-00490410 - Enquiry -\\xa0マーライオンをモチーフとしたオリジナルキャラクターの使用許可を頂きたいです\\n\\nWe have received an email which is in Japanese.\\n\\nWe need your assistance to translate the text so that we can address the feedback accurately.\\n\\nThank you.\\n\\n\\n\\nRO Japan’s reply to inform that they will assist to respond to MoP\\n\\nHi\\n\\n\\xa0\\n\\nThis sender’s e-mail said that they would like to develop a product with\\n\\nan original character based on the Merlion and they would like to have\\n\\na permission to use the Merlion.\\n\\n\\xa0\\n\\nWe are going to inform them of the Merlion page on the corporate site\\n\\nand they need to apply for the use of the Merlion.\\n\\n\\xa0\\n\\nThank you\\n\\nInterview, invite or\\nsponsorship (Internal)Sample  - Interview,  Invite  or\\nsponsorship  request  (to line unit).docxIncomplete information\\n(RO)Sample\\n(RO).docx\\nSponsorship request for\\nschoolsRequest  for Sponsorship.docxEmail\\nSign- Off\\xa0Sample\\nMay2022.2.docx\\nJob opportunities in STBJob Opportunity.docxCall Back RequestSample\\nemail  - \\nResponses to the writer\\n(Enquiry cases)DOC  1.docx Request for Flag /\\nSouvenirsSample\\nMay2022.docx\\nResponses to the line units\\n(Enquiry cases)Doc 2.docx\\nPromo/ Collaborations/ Listings/ Collaterals/ STB Assets Attractions, Sightseeing \\nRequest to list event on STB\\nwebsiteSample  Event  Listing  on STB\\nweb.docxMaintenance of\\nAttractionsSample  -Attractions\\nMaintenance.docx\\nRequest to be featured on STB\\nwebsiteSample  - Interest  to be feature  in Visit\\nSingapore.docxSightseeingSample  - Enquiry\\nSingapore.docx\\nListing on STB websiteSample  - Enquiry  on Listing  on STB\\nweb.docxMuseumsSample  - Enquiry\\nListing on\\xa0VS.comListing  on the website.docx Food Festival - Store\\napplicationSample  - Enquiry\\nfood  stall  at Food\\nRequest for BrochuresSample  - Brochure  Enquiry.docx Photo- taking at\\nlandmarksSample  - Enquiry\\nSingapore  landmark.docx\\nRequest for Brochures from\\nLocal (Ad- hoc request only)Request  for Brochures.docx Invitation to\\nconferenceSample  Conference\\nRequest for Maps Sample  - Map  Enquiry.docx\\nMerlion symbol and useSample  - Enquiry  On copy  right  of\\nIcon.docx\\nEvent collaboration Sample  - Collboration  for Event.docx\\nGeBIZ collaborationSample  - Collboration  Gebiz  -\\nMay2022.docx\\nMedical collaborationSample  - Collaboration  for\\nMedical.docx\\nSingapore Travel Guides\\nDownloadSample  - Suggest  destination  &\\ndownload  Singapore  Travel\\nGuide.docx\\n\\nJapanese Enquiry 1 – In this case, RO was unable to answer MoP’s enquiry, hence, CSO replied MoP in English\\n\\nマーライオンをモチーフとしたオリジナルキャラクターの使用許可を頂きたいです。\\n\\nはじめまして。\\nイラストレーターの長坂康平(活動名ナガサカ)と申します。\\n\\ntoastyandtipsyという、オーダーメイドで結婚式のペーパーアイテムを制作しているショップ様から、マーライオンをモチーフとしたキャラクターデザイン、及びそのキャラクターを使用したペーパーアイテムの制作の業務委託を受けました。\\n\\nシンガポールのことが好きな新郎新婦様から、是非マーライオンのキャラクターで結婚式を行いたいという強いご要望がありました。\\n\\n新郎新婦様へのペーパーアイテムの販売、及び結婚式の使用のみの使用になります。\\n\\n以上の条件の元、マーライオンのデザイン使用を許諾いただけないでしょうか。よろしくお願いいたします。\\n\\nTranslated\\n\\nnice to meet you.\\nMy name is Kohei Nagasaka (active name: Nagasaka) and I am an illustrator.\\n\\nWe were commissioned by toastyandtipsy, a shop that produces custom-made paper items for weddings, to design a character with a Merlion motif and produce paper items using that character.\\n\\nWe received a strong request from a bride and groom who love Singapore to have their wedding ceremony featuring the Merlion character.\\n\\nPaper items will be sold to brides and grooms and will only be used at weddings.\\n\\nCould you please give me permission to use the Merlion design under the above conditions? Thank you.\\n\\n\\n\\nCSO forwarded the case to RO Japan\\n\\nTo RO Japan Colleagues,\\n\\nWe refer to our enquiry CASE ID: 04-2024-10-00490410 - Enquiry -\\xa0マーライオンをモチーフとしたオリジナルキャラクターの使用許可を頂きたいです\\n\\nWe have received an email which is in Japanese.\\n\\nWe need your assistance to translate the text so that we can address the feedback accurately.\\n\\nThank you.\\n\\n\\n\\nRO Japan’s reply to inform that they will assist to respond to MoP\\n\\nHi\\n\\n\\xa0\\n\\nThis sender’s e-mail said that they would like to develop a product with\\n\\nan original character based on the Merlion and they would like to have\\n\\na permission to use the Merlion.\\n\\n\\xa0\\n\\nWe are going to inform them of the Merlion page on the corporate site\\n\\nand they need to apply for the use of the Merlion.\\n\\n\\xa0\\n\\nThank you\\n\\nInterview, invite or\\nsponsorship (Internal)Sample  - Interview,  Invite  or\\nsponsorship  request  (to line unit).docxIncomplete information\\n(RO)Sample\\n(RO).docx\\nSponsorship request for\\nschoolsRequest  for Sponsorship.docxEmail\\nSign- Off\\xa0Sample\\nMay2022.2.docx\\nJob opportunities in STBJob Opportunity.docxCall Back RequestSample\\nemail  - \\nResponses to the writer\\n(Enquiry cases)DOC  1.docx Request for Flag /\\nSouvenirsSample\\nMay2022.docx\\nResponses to the line units\\n(Enquiry cases)Doc 2.docx\\nPromo/ Collaborations/ Listings/ Collaterals/ STB Assets Attractions, Sightseeing \\nRequest to list event on STB\\nwebsiteSample  Event  Listing  on STB\\nweb.docxMaintenance of\\nAttractionsSample  -Attractions\\nMaintenance.docx\\nRequest to be featured on STB\\nwebsiteSample  - Interest  to be feature  in Visit\\nSingapore.docxSightseeingSample  - Enquiry\\nSingapore.docx\\nListing on STB websiteSample  - Enquiry  on Listing  on STB\\nweb.docxMuseumsSample  - Enquiry\\nListing on\\xa0VS.comListing  on the website.docx Food Festival - Store\\napplicationSample  - Enquiry\\nfood  stall  at Food\\nRequest for BrochuresSample  - Brochure  Enquiry.docx Photo- taking at\\nlandmarksSample  - Enquiry\\nSingapore  landmark.docx\\nRequest for Brochures from\\nLocal (Ad- hoc request only)Request  for Brochures.docx Invitation to\\nconferenceSample  Conference\\nRequest for Maps Sample  - Map  Enquiry.docx\\nMerlion symbol and useSample  - Enquiry  On copy  right  of\\nIcon.docx\\nEvent collaboration Sample  - Collboration  for Event.docx\\nGeBIZ collaborationSample  - Collboration  Gebiz  -\\nMay2022.docx\\nMedical collaborationSample  - Collaboration  for\\nMedical.docx\\nSingapore Travel Guides\\nDownloadSample  - Suggest  destination  &\\ndownload  Singapore  Travel\\nGuide.docx\\n\\nJapanese Enquiry 1 – In this case, RO was unable to answer MoP’s enquiry, hence, CSO rep\\n'"
      ]
     },
     "execution_count": 169,
     "metadata": {},
     "output_type": "execute_result"
    }
   ],
   "source": [
    "# This is how the prompt going into the final instance of the LLM will look like\n",
    "formatted_reply_prompt"
   ]
  },
  {
   "cell_type": "code",
   "execution_count": null,
   "metadata": {},
   "outputs": [
    {
     "data": {
      "text/plain": [
       "2605"
      ]
     },
     "execution_count": 170,
     "metadata": {},
     "output_type": "execute_result"
    }
   ],
   "source": [
    "num_tokens_from_string(formatted_reply_prompt)"
   ]
  },
  {
   "cell_type": "code",
   "execution_count": null,
   "metadata": {},
   "outputs": [
    {
     "name": "stdout",
     "output_type": "stream",
     "text": [
      "\n",
      "Based on the email content provided below, and the closest relevant information retrieved from our data,\n",
      "please provide an appropriate response to the email.\n",
      "\n",
      "Instructions:\n",
      "1. The tone of the response should be friendly and professional.\n",
      "2. The response should be relevant to the email content.\n",
      "3. The response should be concise and clear.\n",
      "4. The response should be written in English.\n",
      "\n",
      "Email: \n",
      "Nice to meet you.\n",
      "I am illustrator Yasuhei Nagasaka (working name: Nagasaka).\n",
      "\n",
      "I have received a commission from a shop called \"toastyandtipsy\" that specializes in creating custom wedding paper items. They have requested a character design based on the Merlion and the production of paper items featuring this character.\n",
      "\n",
      "The bride and groom, who have a strong affinity for Singapore, expressed a strong desire to have a wedding featuring the Merlion character.\n",
      "\n",
      "The use of the paper items will be limited to sales to the bride and groom and for use at their wedding.\n",
      "\n",
      "Under these conditions, would it be possible to grant permission for the use of the Merlion design? Thank you very much.\n",
      "\n",
      "Closest Relevant Information: \n",
      "Japanese Enquiry 1 – In this case, RO was unable to answer MoP’s enquiry, hence, CSO replied MoP in English\n",
      "\n",
      "マーライオンをモチーフとしたオリジナルキャラクターの使用許可を頂きたいです。\n",
      "\n",
      "はじめまして。\n",
      "イラストレーターの長坂康平(活動名ナガサカ)と申します。\n",
      "\n",
      "toastyandtipsyという、オーダーメイドで結婚式のペーパーアイテムを制作しているショップ様から、マーライオンをモチーフとしたキャラクターデザイン、及びそのキャラクターを使用したペーパーアイテムの制作の業務委託を受けました。\n",
      "\n",
      "シンガポールのことが好きな新郎新婦様から、是非マーライオンのキャラクターで結婚式を行いたいという強いご要望がありました。\n",
      "\n",
      "新郎新婦様へのペーパーアイテムの販売、及び結婚式の使用のみの使用になります。\n",
      "\n",
      "以上の条件の元、マーライオンのデザイン使用を許諾いただけないでしょうか。よろしくお願いいたします。\n",
      "\n",
      "Translated\n",
      "\n",
      "nice to meet you.\n",
      "My name is Kohei Nagasaka (active name: Nagasaka) and I am an illustrator.\n",
      "\n",
      "We were commissioned by toastyandtipsy, a shop that produces custom-made paper items for weddings, to design a character with a Merlion motif and produce paper items using that character.\n",
      "\n",
      "We received a strong request from a bride and groom who love Singapore to have their wedding ceremony featuring the Merlion character.\n",
      "\n",
      "Paper items will be sold to brides and grooms and will only be used at weddings.\n",
      "\n",
      "Could you please give me permission to use the Merlion design under the above conditions? Thank you.\n",
      "\n",
      "\n",
      "\n",
      "CSO forwarded the case to RO Japan\n",
      "\n",
      "To RO Japan Colleagues,\n",
      "\n",
      "We refer to our enquiry CASE ID: 04-2024-10-00490410 - Enquiry - マーライオンをモチーフとしたオリジナルキャラクターの使用許可を頂きたいです\n",
      "\n",
      "We have received an email which is in Japanese.\n",
      "\n",
      "We need your assistance to translate the text so that we can address the feedback accurately.\n",
      "\n",
      "Thank you.\n",
      "\n",
      "\n",
      "\n",
      "RO Japan’s reply to inform that they will assist to respond to MoP\n",
      "\n",
      "Hi\n",
      "\n",
      " \n",
      "\n",
      "This sender’s e-mail said that they would like to develop a product with\n",
      "\n",
      "an original character based on the Merlion and they would like to have\n",
      "\n",
      "a permission to use the Merlion.\n",
      "\n",
      " \n",
      "\n",
      "We are going to inform them of the Merlion page on the corporate site\n",
      "\n",
      "and they need to apply for the use of the Merlion.\n",
      "\n",
      " \n",
      "\n",
      "Thank you\n",
      "\n",
      "Interview, invite or\n",
      "sponsorship (Internal)Sample  - Interview,  Invite  or\n",
      "sponsorship  request  (to line unit).docxIncomplete information\n",
      "(RO)Sample\n",
      "(RO).docx\n",
      "Sponsorship request for\n",
      "schoolsRequest  for Sponsorship.docxEmail\n",
      "Sign- Off Sample\n",
      "May2022.2.docx\n",
      "Job opportunities in STBJob Opportunity.docxCall Back RequestSample\n",
      "email  - \n",
      "Responses to the writer\n",
      "(Enquiry cases)DOC  1.docx Request for Flag /\n",
      "SouvenirsSample\n",
      "May2022.docx\n",
      "Responses to the line units\n",
      "(Enquiry cases)Doc 2.docx\n",
      "Promo/ Collaborations/ Listings/ Collaterals/ STB Assets Attractions, Sightseeing \n",
      "Request to list event on STB\n",
      "websiteSample  Event  Listing  on STB\n",
      "web.docxMaintenance of\n",
      "AttractionsSample  -Attractions\n",
      "Maintenance.docx\n",
      "Request to be featured on STB\n",
      "websiteSample  - Interest  to be feature  in Visit\n",
      "Singapore.docxSightseeingSample  - Enquiry\n",
      "Singapore.docx\n",
      "Listing on STB websiteSample  - Enquiry  on Listing  on STB\n",
      "web.docxMuseumsSample  - Enquiry\n",
      "Listing on VS.comListing  on the website.docx Food Festival - Store\n",
      "applicationSample  - Enquiry\n",
      "food  stall  at Food\n",
      "Request for BrochuresSample  - Brochure  Enquiry.docx Photo- taking at\n",
      "landmarksSample  - Enquiry\n",
      "Singapore  landmark.docx\n",
      "Request for Brochures from\n",
      "Local (Ad- hoc request only)Request  for Brochures.docx Invitation to\n",
      "conferenceSample  Conference\n",
      "Request for Maps Sample  - Map  Enquiry.docx\n",
      "Merlion symbol and useSample  - Enquiry  On copy  right  of\n",
      "Icon.docx\n",
      "Event collaboration Sample  - Collboration  for Event.docx\n",
      "GeBIZ collaborationSample  - Collboration  Gebiz  -\n",
      "May2022.docx\n",
      "Medical collaborationSample  - Collaboration  for\n",
      "Medical.docx\n",
      "Singapore Travel Guides\n",
      "DownloadSample  - Suggest  destination  &\n",
      "download  Singapore  Travel\n",
      "Guide.docx\n",
      "\n",
      "Japanese Enquiry 1 – In this case, RO was unable to answer MoP’s enquiry, hence, CSO replied MoP in English\n",
      "\n",
      "マーライオンをモチーフとしたオリジナルキャラクターの使用許可を頂きたいです。\n",
      "\n",
      "はじめまして。\n",
      "イラストレーターの長坂康平(活動名ナガサカ)と申します。\n",
      "\n",
      "toastyandtipsyという、オーダーメイドで結婚式のペーパーアイテムを制作しているショップ様から、マーライオンをモチーフとしたキャラクターデザイン、及びそのキャラクターを使用したペーパーアイテムの制作の業務委託を受けました。\n",
      "\n",
      "シンガポールのことが好きな新郎新婦様から、是非マーライオンのキャラクターで結婚式を行いたいという強いご要望がありました。\n",
      "\n",
      "新郎新婦様へのペーパーアイテムの販売、及び結婚式の使用のみの使用になります。\n",
      "\n",
      "以上の条件の元、マーライオンのデザイン使用を許諾いただけないでしょうか。よろしくお願いいたします。\n",
      "\n",
      "Translated\n",
      "\n",
      "nice to meet you.\n",
      "My name is Kohei Nagasaka (active name: Nagasaka) and I am an illustrator.\n",
      "\n",
      "We were commissioned by toastyandtipsy, a shop that produces custom-made paper items for weddings, to design a character with a Merlion motif and produce paper items using that character.\n",
      "\n",
      "We received a strong request from a bride and groom who love Singapore to have their wedding ceremony featuring the Merlion character.\n",
      "\n",
      "Paper items will be sold to brides and grooms and will only be used at weddings.\n",
      "\n",
      "Could you please give me permission to use the Merlion design under the above conditions? Thank you.\n",
      "\n",
      "\n",
      "\n",
      "CSO forwarded the case to RO Japan\n",
      "\n",
      "To RO Japan Colleagues,\n",
      "\n",
      "We refer to our enquiry CASE ID: 04-2024-10-00490410 - Enquiry - マーライオンをモチーフとしたオリジナルキャラクターの使用許可を頂きたいです\n",
      "\n",
      "We have received an email which is in Japanese.\n",
      "\n",
      "We need your assistance to translate the text so that we can address the feedback accurately.\n",
      "\n",
      "Thank you.\n",
      "\n",
      "\n",
      "\n",
      "RO Japan’s reply to inform that they will assist to respond to MoP\n",
      "\n",
      "Hi\n",
      "\n",
      " \n",
      "\n",
      "This sender’s e-mail said that they would like to develop a product with\n",
      "\n",
      "an original character based on the Merlion and they would like to have\n",
      "\n",
      "a permission to use the Merlion.\n",
      "\n",
      " \n",
      "\n",
      "We are going to inform them of the Merlion page on the corporate site\n",
      "\n",
      "and they need to apply for the use of the Merlion.\n",
      "\n",
      " \n",
      "\n",
      "Thank you\n",
      "\n",
      "Interview, invite or\n",
      "sponsorship (Internal)Sample  - Interview,  Invite  or\n",
      "sponsorship  request  (to line unit).docxIncomplete information\n",
      "(RO)Sample\n",
      "(RO).docx\n",
      "Sponsorship request for\n",
      "schoolsRequest  for Sponsorship.docxEmail\n",
      "Sign- Off Sample\n",
      "May2022.2.docx\n",
      "Job opportunities in STBJob Opportunity.docxCall Back RequestSample\n",
      "email  - \n",
      "Responses to the writer\n",
      "(Enquiry cases)DOC  1.docx Request for Flag /\n",
      "SouvenirsSample\n",
      "May2022.docx\n",
      "Responses to the line units\n",
      "(Enquiry cases)Doc 2.docx\n",
      "Promo/ Collaborations/ Listings/ Collaterals/ STB Assets Attractions, Sightseeing \n",
      "Request to list event on STB\n",
      "websiteSample  Event  Listing  on STB\n",
      "web.docxMaintenance of\n",
      "AttractionsSample  -Attractions\n",
      "Maintenance.docx\n",
      "Request to be featured on STB\n",
      "websiteSample  - Interest  to be feature  in Visit\n",
      "Singapore.docxSightseeingSample  - Enquiry\n",
      "Singapore.docx\n",
      "Listing on STB websiteSample  - Enquiry  on Listing  on STB\n",
      "web.docxMuseumsSample  - Enquiry\n",
      "Listing on VS.comListing  on the website.docx Food Festival - Store\n",
      "applicationSample  - Enquiry\n",
      "food  stall  at Food\n",
      "Request for BrochuresSample  - Brochure  Enquiry.docx Photo- taking at\n",
      "landmarksSample  - Enquiry\n",
      "Singapore  landmark.docx\n",
      "Request for Brochures from\n",
      "Local (Ad- hoc request only)Request  for Brochures.docx Invitation to\n",
      "conferenceSample  Conference\n",
      "Request for Maps Sample  - Map  Enquiry.docx\n",
      "Merlion symbol and useSample  - Enquiry  On copy  right  of\n",
      "Icon.docx\n",
      "Event collaboration Sample  - Collboration  for Event.docx\n",
      "GeBIZ collaborationSample  - Collboration  Gebiz  -\n",
      "May2022.docx\n",
      "Medical collaborationSample  - Collaboration  for\n",
      "Medical.docx\n",
      "Singapore Travel Guides\n",
      "DownloadSample  - Suggest  destination  &\n",
      "download  Singapore  Travel\n",
      "Guide.docx\n",
      "\n",
      "Japanese Enquiry 1 – In this case, RO was unable to answer MoP’s enquiry, hence, CSO rep\n",
      "\n"
     ]
    }
   ],
   "source": [
    "print(formatted_reply_prompt)"
   ]
  },
  {
   "cell_type": "code",
   "execution_count": null,
   "metadata": {},
   "outputs": [],
   "source": [
    "final_email = reply_chat_engine.chat(message=formatted_reply_prompt)"
   ]
  },
  {
   "cell_type": "code",
   "execution_count": null,
   "metadata": {},
   "outputs": [
    {
     "name": "stdout",
     "output_type": "stream",
     "text": [
      "Dear Yasuhei Nagasaka,\n",
      "\n",
      "Thank you for reaching out to us. My name is [Your Name] and I am a customer service officer representing the Singapore Tourism Board. It's a pleasure to meet you.\n",
      "\n",
      "I understand that you have received a commission from toastyandtipsy, a shop specializing in custom wedding paper items, to create a character design based on the Merlion and produce paper items featuring this character. We also understand that the bride and groom have a strong affinity for Singapore and would like to have a wedding featuring the Merlion character.\n",
      "\n",
      "In order to use the Merlion design, I would like to inform you that you need to apply for permission through our corporate site. I will provide you with the link to the Merlion page where you can find more information on how to apply for the use of the Merlion design.\n",
      "\n",
      "[Insert link to the Merlion page on the corporate site]\n",
      "\n",
      "Please follow the instructions on the page to submit your application. Once your application is received, it will be reviewed by our team and we will get back to you with a response.\n",
      "\n",
      "Thank you for your understanding and cooperation. If you have any further questions or need assistance, please feel free to reach out to us.\n",
      "\n",
      "Best regards,\n",
      "[Your Name]\n",
      "Customer Service Officer\n",
      "Singapore Tourism Board\n"
     ]
    }
   ],
   "source": [
    "print(final_email.response)"
   ]
  },
  {
   "cell_type": "code",
   "execution_count": null,
   "metadata": {},
   "outputs": [],
   "source": []
  }
 ],
 "metadata": {
  "kernelspec": {
   "display_name": "prismenv",
   "language": "python",
   "name": "python3"
  },
  "language_info": {
   "codemirror_mode": {
    "name": "ipython",
    "version": 3
   },
   "file_extension": ".py",
   "mimetype": "text/x-python",
   "name": "python",
   "nbconvert_exporter": "python",
   "pygments_lexer": "ipython3",
   "version": "3.11.3"
  }
 },
 "nbformat": 4,
 "nbformat_minor": 2
}
