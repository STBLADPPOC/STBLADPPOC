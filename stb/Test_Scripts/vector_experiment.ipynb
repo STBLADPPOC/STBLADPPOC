{
 "cells": [
  {
   "cell_type": "code",
   "execution_count": 1,
   "metadata": {},
   "outputs": [
    {
     "name": "stderr",
     "output_type": "stream",
     "text": [
      "c:\\VSCode\\stb\\.venv\\Lib\\site-packages\\tqdm\\auto.py:21: TqdmWarning: IProgress not found. Please update jupyter and ipywidgets. See https://ipywidgets.readthedocs.io/en/stable/user_install.html\n",
      "  from .autonotebook import tqdm as notebook_tqdm\n"
     ]
    }
   ],
   "source": [
    "# Using a simple vector store\n",
    "import os\n",
    "from dotenv import load_dotenv\n",
    "from llama_index.core.chat_engine import SimpleChatEngine\n",
    "from llama_index.llms.azure_openai import AzureOpenAI\n",
    "from llama_index.llms.openai import OpenAI\n",
    "from llama_index.core import (\n",
    "    VectorStoreIndex,\n",
    "    SimpleDirectoryReader,\n",
    "    load_index_from_storage,\n",
    "    StorageContext,\n",
    ")\n",
    "from llama_index.embeddings.azure_openai import AzureOpenAIEmbedding"
   ]
  },
  {
   "cell_type": "code",
   "execution_count": 2,
   "metadata": {},
   "outputs": [],
   "source": [
    "load_dotenv()\n",
    "os.environ[\"OPENAI_API_KEY\"] = os.getenv('API_KEY')\n",
    "os.environ[\"AZURE_OPENAI_ENDPOINT\"] = os.getenv('OPENAI_API_BASE')\n",
    "os.environ[\"OPENAI_API_VERSION\"] = \"2023-07-01-preview\""
   ]
  },
  {
   "cell_type": "markdown",
   "metadata": {},
   "source": []
  },
  {
   "cell_type": "code",
   "execution_count": null,
   "metadata": {},
   "outputs": [],
   "source": [
    "llm = AzureOpenAI(\n",
    "    engine=\"stb-gpt-35-turbo\", model=\"gpt-35-turbo\", temperature=0.0\n",
    ")\n",
    "response = llm.complete(\"The sky is a beautiful blue and it suddenly rains\")\n",
    "print(response)"
   ]
  },
  {
   "cell_type": "code",
   "execution_count": 5,
   "metadata": {},
   "outputs": [],
   "source": [
    "embed_model = AzureOpenAIEmbedding(\n",
    "    model=\"text-embedding-ada-002\",\n",
    "    api_key=os.environ[\"OPENAI_API_KEY\"],\n",
    "    azure_endpoint=os.environ[\"AZURE_OPENAI_ENDPOINT\"],\n",
    "    api_version=os.environ[\"OPENAI_API_VERSION\"],\n",
    ")"
   ]
  },
  {
   "cell_type": "markdown",
   "metadata": {},
   "source": [
    "### Load local files only"
   ]
  },
  {
   "cell_type": "code",
   "execution_count": null,
   "metadata": {},
   "outputs": [],
   "source": [
    "# load documents\n",
    "local_documents = SimpleDirectoryReader(\"data/docs\").load_data()"
   ]
  },
  {
   "cell_type": "code",
   "execution_count": 8,
   "metadata": {},
   "outputs": [
    {
     "data": {
      "text/plain": [
       "53"
      ]
     },
     "execution_count": 8,
     "metadata": {},
     "output_type": "execute_result"
    }
   ],
   "source": [
    "len(local_documents)"
   ]
  },
  {
   "cell_type": "markdown",
   "metadata": {},
   "source": [
    "### Load web pages only"
   ]
  },
  {
   "cell_type": "code",
   "execution_count": 9,
   "metadata": {},
   "outputs": [],
   "source": [
    "from llama_index.core import download_loader\n",
    "from llama_index.readers.web import SimpleWebPageReader"
   ]
  },
  {
   "cell_type": "code",
   "execution_count": 10,
   "metadata": {},
   "outputs": [],
   "source": [
    "web_documents = SimpleWebPageReader(html_to_text=True).load_data([\"https://www.stb.gov.sg/content/stb/en/careers/students-and-fresh-graduates.html\"])"
   ]
  },
  {
   "cell_type": "code",
   "execution_count": null,
   "metadata": {},
   "outputs": [],
   "source": [
    "print(web_documents[0])"
   ]
  },
  {
   "cell_type": "code",
   "execution_count": null,
   "metadata": {},
   "outputs": [],
   "source": [
    "print(web_documents[0].text)"
   ]
  },
  {
   "cell_type": "code",
   "execution_count": 13,
   "metadata": {},
   "outputs": [
    {
     "data": {
      "text/plain": [
       "1"
      ]
     },
     "execution_count": 13,
     "metadata": {},
     "output_type": "execute_result"
    }
   ],
   "source": [
    "len(web_documents)"
   ]
  },
  {
   "cell_type": "code",
   "execution_count": 14,
   "metadata": {},
   "outputs": [],
   "source": [
    "from llama_index.core import Settings\n",
    "\n",
    "Settings.llm = llm\n",
    "Settings.embed_model = embed_model"
   ]
  },
  {
   "cell_type": "code",
   "execution_count": 15,
   "metadata": {},
   "outputs": [
    {
     "name": "stdout",
     "output_type": "stream",
     "text": [
      "The programmes for students or fresh graduates at STB include the Scholarship Programme (Full-Term and Mid-Term) and the Internship Programme. These programmes provide opportunities for young talents to enter the workforce and gain valuable experiences in the tourism industry.\n"
     ]
    }
   ],
   "source": [
    "index = VectorStoreIndex.from_documents(web_documents, embed_model=embed_model)\n",
    "query_engine = index.as_query_engine()\n",
    "response = query_engine.query(\"What are the programmes for students or fresh graduates at stb?\")\n",
    "print(response.response)"
   ]
  },
  {
   "cell_type": "markdown",
   "metadata": {},
   "source": [
    "### Combine documents"
   ]
  },
  {
   "cell_type": "code",
   "execution_count": 16,
   "metadata": {},
   "outputs": [
    {
     "data": {
      "text/plain": [
       "[Document(id_='https://www.stb.gov.sg/content/stb/en/careers/students-and-fresh-graduates.html', embedding=None, metadata={}, excluded_embed_metadata_keys=[], excluded_llm_metadata_keys=[], relationships={}, text=\"  * [ ](javascript:void\\\\(0\\\\);)\\n\\n    * __\\n    * __\\n\\n[ TOP  ](javascript:void\\\\(0\\\\);)\\n\\n![](/content/dam/stb/images/bg-image/bg5.jpg)\\n\\n  * [Homepage](/content/stb/en.html)\\n  * I am a...\\n    * [Attractions Operator](/content/stb/en/i-am-a/attractions-operator.html)\\n    * [Business/Leisure Event Organiser](/content/stb/en/i-am-a/business-leisure-event-organiser.html)\\n    * [Hotelier](/content/stb/en/i-am-a/hotelier.html)\\n    * [Media Professional](/content/stb/en/i-am-a/media-professional.html)\\n    * [Tourist Guide](/content/stb/en/i-am-a/tourist-guide.html)\\n    * [Travel Agent](/content/stb/en/i-am-a/travel-agent.html)\\n  * [About STB](/content/stb/en/about-stb.html)\\n    * [Overview](/content/stb/en/about-stb/overview.html)\\n    * [Board Of Directors](/content/stb/en/about-stb/board-of-directors.html)\\n    * [Organisation Chart](/content/stb/en/about-stb/organisation-chart.html)\\n    * [What We Do](/content/stb/en/about-stb/what-we-do.html)\\n    * [Achieving Quality Tourism](/content/stb/en/about-stb/achieving-quality-tourism.html)\\n    * [Legislation](/content/stb/en/about-stb/legislation.html)\\n    * [Corporate Governance](/content/stb/en/about-stb/corporate-governance.html)\\n    * [Invest in Tourism](/content/stb/en/about-stb/invest-in-tourism.html)\\n    * [ASEAN Economic Community](/content/stb/en/about-stb/asean-economic-community.html)\\n  * [Media Centre](/content/stb/en/media-centre.html)\\n    * [Media Releases](/content/stb/en/media-centre/media-releases.html)\\n    * [Speeches](/content/stb/en/media-centre/speeches.html)\\n    * [Corporate Publications](/content/stb/en/media-centre/corporate-publications.html)\\n    * [Newsletters](/content/stb/en/media-centre/newsletters.html)\\n  * [Statistics & Market Insights](/content/stb/en/statistics-and-market-insights.html)\\n    * [Statistics & Market Insights Overview](/content/stb/en/statistics-and-market-insights/statistics-and-market-insights-overview.html)\\n    * [Tourism Statistics](/content/stb/en/statistics-and-market-insights/tourism-statistics.html)\\n  * [Industries](/content/stb/en/industries.html)\\n    * [Industries Overview](/content/stb/en/industries/industries-overview.html)\\n    * [Arts & Entertainment](/content/stb/en/industries/arts-and-entertainment.html)\\n    * [Attractions](/content/stb/en/industries/attractions.html)\\n    * [Cruise](/content/stb/en/industries/Cruise.html)\\n    * [Dining & Retail](/content/stb/en/industries/dining-and-retail.html)\\n    * [Hotels](/content/stb/en/industries/hotels.html)\\n    * [Integrated Resorts](/content/stb/en/industries/integrated-resorts.html)\\n    * [Meetings, Incentives, Conventions & Exhibitions](/content/stb/en/industries/meetings-incentives-conventions-exhibitions.html)\\n    * [Sports](/content/stb/en/industries/sports.html)\\n    * [Tourist Guides](/content/stb/en/industries/tourist-guides.html)\\n    * [Travel Agents](/content/stb/en/industries/travel-agents.html)\\n  * [Assistance & Licensing ](/content/stb/en/assistance-and-licensing.html)\\n    * [Assistance and Licensing Overview](/content/stb/en/assistance-and-licensing/assistance-and-licensing.html)\\n    * [Tourism Sustainability Programme (TSP)](/content/stb/en/assistance-and-licensing/tsp.html)\\n    * [Singapore Visitor Centre (SVC) Network Partnership](/content/stb/en/assistance-and-licensing/singapore-visitor-centre-SVC-network-partnership.html)\\n    * [Grants Overview](/content/stb/en/assistance-and-licensing/grants-overview.html)\\n    * [Licensing Overview](/content/stb/en/assistance-and-licensing/licensing-overview.html)\\n    * [Tax Incentives Overview](/content/stb/en/assistance-and-licensing/tax-incentives-overview.html)\\n    * [Other Assistance & Resources Overview](/content/stb/en/assistance-and-licensing/other-assistance-resources-overview.html)\\n    * [SG Stories Content Fund Season 2](/content/stb/en/assistance-and-licensing/sg-stories-content-fund.html)\\n    * [Marketing Partnership Programme](/content/stb/en/assistance-and-licensing/MPP.html)\\n    * [SingapoReimagine Marketing Programme](/content/stb/en/assistance-and-licensing/SMP.html)\\n    * [Singapore On-screen Fund](/content/stb/en/assistance-and-licensing/singapore-on-screen-fund.html)\\n    * [Hotel Act](/content/stb/en/assistance-and-licensing/Hotel-Act.html)\\n    * [Hotel Licensing Regulations](/content/stb/en/assistance-and-licensing/Hotel-Licensing-Regulations.html)\\n  * [Trade Events & Resources](/content/stb/en/trade-events-and-resources.html)\\n    * [Tcube](/content/stb/en/trade-events-and-resources/Tcube.html)\\n    * [Data College](/content/stb/en/trade-events-and-resources/data-college.html)\\n    * [Trade Events and Activities](/content/stb/en/trade-events-and-resources/trade-events-and-activities.html)\\n    * [Trade Events Overview](/content/stb/en/trade-events-and-resources/trade-events-overview.html)\\n    * [SingapoReimagine Global Conversations](/content/stb/en/trade-events-and-resources/global-conversations.html)\\n    * [SingapoRediscovers Vouchers](/content/stb/en/trade-events-and-resources/SingapoRediscovers-Vouchers.html)\\n    * [Made With Passion](/content/stb/en/trade-events-and-resources/Made-With-Passion.html)\\n    * [Joint Promotion Opportunities](/content/stb/en/trade-events-and-resources/JointPromotionOpps.html)\\n    * [Procurement Opportunities for STB's Overseas Regional Offices ](/content/stb/en/trade-events-and-resources/procurement-opportunities.html)\\n    * [Product And Industry Updates](/content/stb/en/trade-events-and-resources/product-and-industry-updates.html)\\n    * [Rental of F1 Pit Building](/content/stb/en/trade-events-and-resources/Rental-of-F1-Pit-Building.html)\\n    * [Singapore Tourism Accelerator](/content/stb/en/trade-events-and-resources/Singapore-Tourism-Accelerator.html)\\n    * [Sponsorship Opportunities](/content/stb/en/trade-events-and-resources/sponsorship-opportunities.html)\\n    * [STB Marketing College](/content/stb/en/trade-events-and-resources/stb-marketing-college.html)\\n    * [Tourism Innovation Challenge](/content/stb/en/trade-events-and-resources/tourism-innovation-challenge.html)\\n    * [Harnessing Technology to Emerge Stronger Post COVID-19](/content/stb/en/trade-events-and-resources/harnessing-technology-to-emerge-stronger-post-covid-.html)\\n    * [Tourism Transformation Index (TXI)](/content/stb/en/trade-events-and-resources/Tourism-Transformation-Index.html)\\n    * [New Tourism Development in Jurong Lake District](/content/stb/en/trade-events-and-resources/jld-tourism-development.html)\\n    * [International Trade Events](/content/stb/en/trade-events-and-resources/international-trade-events.html)\\n    * [Singapore Familiarization Trips](/content/stb/en/trade-events-and-resources/singapore-familiarization-trips.html)\\n    * [EVA-Ready Programme](/content/stb/en/trade-events-and-resources/EVA-Ready-Programme.html)\\n    * [Tourism Industry Conference](/content/stb/en/trade-events-and-resources/TourismIndustryConference.html)\\n    * [Expo 2025 Sponsorship and Partnership Opportunities](/content/stb/en/trade-events-and-resources/expo_2025_sponsorship_and_partnership_opportunities.html)\\n    * [Virtual Influencer Open Call for Collaboration](/content/stb/en/trade-events-and-resources/virtual-influencer-open-call-for-collaboration.html)\\n  * [Careers](/content/stb/en/careers.html)\\n    * [Overview](/content/stb/en/careers/overview.html)\\n    * [Students & Fresh Graduates](/content/stb/en/careers/students-and-fresh-graduates.html)\\n    * [Professionals](/content/stb/en/careers/professionals.html)\\n\\n* [TIH communications feedback survey](/content/stb/en/tihsurvey.html)\\n\\n  * [Survey Success](/content/stb/en/tihsurvey/survey_success.html)\\n\\n[ ![Singapore Tourism Board](/etc/designs/stb/static/images/stb-logo.svg)\\n](/content/stb/en.html)\\n\\n  * About STB __\\n\\n    * [Overview](/content/stb/en/about-stb/overview.html)\\n    * [Board Of Directors](/content/stb/en/about-stb/board-of-directors.html)\\n    * [Organisation Chart](/content/stb/en/about-stb/organisation-chart.html)\\n    * [What We Do](/content/stb/en/about-stb/what-we-do.html)\\n    * [Achieving Quality Tourism](/content/stb/en/about-stb/achieving-quality-tourism.html)\\n    * [Legislation](/content/stb/en/about-stb/legislation.html)\\n    * [Corporate Governance](/content/stb/en/about-stb/corporate-governance.html)\\n    * [Invest in Tourism](/content/stb/en/about-stb/invest-in-tourism.html)\\n    * [ASEAN Economic Community](/content/stb/en/about-stb/asean-economic-community.html)\\n\\n  * Media Centre __\\n\\n    * [Media Releases](/content/stb/en/media-centre/media-releases.html)\\n    * [Speeches](/content/stb/en/media-centre/speeches.html)\\n    * [Corporate Publications](/content/stb/en/media-centre/corporate-publications.html)\\n    * [Newsletters](/content/stb/en/media-centre/newsletters.html)\\n\\n  * Statistics & Market Insights __\\n\\n    * [Statistics & Market Insights Overview](/content/stb/en/statistics-and-market-insights/statistics-and-market-insights-overview.html)\\n    * [Tourism Statistics](/content/stb/en/statistics-and-market-insights/tourism-statistics.html)\\n\\n  * Industries __\\n\\n    * [Industries Overview](/content/stb/en/industries/industries-overview.html)\\n    * [Arts & Entertainment](/content/stb/en/industries/arts-and-entertainment.html)\\n    * [Attractions](/content/stb/en/industries/attractions.html)\\n    * [Cruise](/content/stb/en/industries/Cruise.html)\\n    * [Dining & Retail](/content/stb/en/industries/dining-and-retail.html)\\n    * [Hotels](/content/stb/en/industries/hotels.html)\\n    * [Integrated Resorts](/content/stb/en/industries/integrated-resorts.html)\\n    * [Meetings, Incentives, Conventions & Exhibitions](/content/stb/en/industries/meetings-incentives-conventions-exhibitions.html)\\n    * [Sports](/content/stb/en/industries/sports.html)\\n    * [Tourist Guides](/content/stb/en/industries/tourist-guides.html)\\n    * [Travel Agents](/content/stb/en/industries/travel-agents.html)\\n\\n  * Assistance & Licensing __\\n\\n    * [Assistance and Licensing Overview](/content/stb/en/assistance-and-licensing/assistance-and-licensing.html)\\n    * [Tourism Sustainability Programme (TSP)](/content/stb/en/assistance-and-licensing/tsp.html)\\n    * [Singapore Visitor Centre (SVC) Network Partnership](/content/stb/en/assistance-and-licensing/singapore-visitor-centre-SVC-network-partnership.html)\\n    * [Grants Overview](/content/stb/en/assistance-and-licensing/grants-overview.html)\\n    * [Licensing Overview](/content/stb/en/assistance-and-licensing/licensing-overview.html)\\n    * [Tax Incentives Overview](/content/stb/en/assistance-and-licensing/tax-incentives-overview.html)\\n    * [Other Assistance & Resources Overview](/content/stb/en/assistance-and-licensing/other-assistance-resources-overview.html)\\n    * [SG Stories Content Fund Season 2](/content/stb/en/assistance-and-licensing/sg-stories-content-fund.html)\\n    * [Marketing Partnership Programme](/content/stb/en/assistance-and-licensing/MPP.html)\\n    * [SingapoReimagine Marketing Programme](/content/stb/en/assistance-and-licensing/SMP.html)\\n    * [Singapore On-screen Fund](/content/stb/en/assistance-and-licensing/singapore-on-screen-fund.html)\\n    * [Hotel Act](/content/stb/en/assistance-and-licensing/Hotel-Act.html)\\n    * [Hotel Licensing Regulations](/content/stb/en/assistance-and-licensing/Hotel-Licensing-Regulations.html)\\n\\n  * Trade Events & Resources __\\n\\n    * [Tcube](/content/stb/en/trade-events-and-resources/Tcube.html)\\n    * [Data College](/content/stb/en/trade-events-and-resources/data-college.html)\\n    * [Trade Events and Activities](/content/stb/en/trade-events-and-resources/trade-events-and-activities.html)\\n    * [Trade Events Overview](/content/stb/en/trade-events-and-resources/trade-events-overview.html)\\n    * [SingapoReimagine Global Conversations](/content/stb/en/trade-events-and-resources/global-conversations.html)\\n    * [SingapoRediscovers Vouchers](/content/stb/en/trade-events-and-resources/SingapoRediscovers-Vouchers.html)\\n    * [Made With Passion](/content/stb/en/trade-events-and-resources/Made-With-Passion.html)\\n    * [Joint Promotion Opportunities](/content/stb/en/trade-events-and-resources/JointPromotionOpps.html)\\n    * [Procurement Opportunities for STB's Overseas Regional Offices ](/content/stb/en/trade-events-and-resources/procurement-opportunities.html)\\n    * [Product And Industry Updates](/content/stb/en/trade-events-and-resources/product-and-industry-updates.html)\\n    * [Rental of F1 Pit Building](/content/stb/en/trade-events-and-resources/Rental-of-F1-Pit-Building.html)\\n    * [Singapore Tourism Accelerator](/content/stb/en/trade-events-and-resources/Singapore-Tourism-Accelerator.html)\\n    * [Sponsorship Opportunities](/content/stb/en/trade-events-and-resources/sponsorship-opportunities.html)\\n    * [STB Marketing College](/content/stb/en/trade-events-and-resources/stb-marketing-college.html)\\n    * [Tourism Innovation Challenge](/content/stb/en/trade-events-and-resources/tourism-innovation-challenge.html)\\n    * [Harnessing Technology to Emerge Stronger Post COVID-19](/content/stb/en/trade-events-and-resources/harnessing-technology-to-emerge-stronger-post-covid-.html)\\n    * [Tourism Transformation Index (TXI)](/content/stb/en/trade-events-and-resources/Tourism-Transformation-Index.html)\\n    * [New Tourism Development in Jurong Lake District](/content/stb/en/trade-events-and-resources/jld-tourism-development.html)\\n    * [International Trade Events](/content/stb/en/trade-events-and-resources/international-trade-events.html)\\n    * [Singapore Familiarization Trips](/content/stb/en/trade-events-and-resources/singapore-familiarization-trips.html)\\n    * [EVA-Ready Programme](/content/stb/en/trade-events-and-resources/EVA-Ready-Programme.html)\\n    * [Tourism Industry Conference](/content/stb/en/trade-events-and-resources/TourismIndustryConference.html)\\n    * [Expo 2025 Sponsorship and Partnership Opportunities](/content/stb/en/trade-events-and-resources/expo_2025_sponsorship_and_partnership_opportunities.html)\\n    * [Virtual Influencer Open Call for Collaboration](/content/stb/en/trade-events-and-resources/virtual-influencer-open-call-for-collaboration.html)\\n\\n  * Careers __\\n\\n    * [Overview](/content/stb/en/careers/overview.html)\\n    * [Students & Fresh Graduates](/content/stb/en/careers/students-and-fresh-graduates.html)\\n    * [Professionals](/content/stb/en/careers/professionals.html)\\n\\nI am a...\\n\\n[Attractions Operator](/content/stb/en/i-am-a/attractions-operator.html)\\n[Business/Leisure Event Organiser](/content/stb/en/i-am-a/business-leisure-\\nevent-organiser.html) [Hotelier](/content/stb/en/i-am-a/hotelier.html) [Media\\nProfessional](/content/stb/en/i-am-a/media-professional.html) [Tourist\\nGuide](/content/stb/en/i-am-a/tourist-guide.html) [Travel\\nAgent](/content/stb/en/i-am-a/travel-agent.html)\\n\\n[ ![Singapore Tourism Board](/etc/designs/stb/static/images/stb-logo.svg)\\n](/content/stb/en.html)\\n\\n**Search**\\n\\nI am a... __\\n\\n  * [ Attractions Operator ](/content/stb/en/i-am-a/attractions-operator.html)\\n  * [ Business/Leisure Event Organiser ](/content/stb/en/i-am-a/business-leisure-event-organiser.html)\\n  * [ Hotelier ](/content/stb/en/i-am-a/hotelier.html)\\n  * [ Media Professional ](/content/stb/en/i-am-a/media-professional.html)\\n  * [ Tourist Guide ](/content/stb/en/i-am-a/tourist-guide.html)\\n  * [ Travel Agent ](/content/stb/en/i-am-a/travel-agent.html)\\n\\nAbout STB  __\\n\\n  * [Overview](/content/stb/en/about-stb/overview.html)\\n  * [Board Of Directors](/content/stb/en/about-stb/board-of-directors.html)\\n  * [Organisation Chart](/content/stb/en/about-stb/organisation-chart.html)\\n  * [What We Do](/content/stb/en/about-stb/what-we-do.html)\\n  * [Achieving Quality Tourism](/content/stb/en/about-stb/achieving-quality-tourism.html)\\n  * [Legislation](/content/stb/en/about-stb/legislation.html)\\n  * [Corporate Governance](/content/stb/en/about-stb/corporate-governance.html)\\n  * [Invest in Tourism](/content/stb/en/about-stb/invest-in-tourism.html)\\n  * [ASEAN Economic Community](/content/stb/en/about-stb/asean-economic-community.html)\\n\\nMedia Centre  __\\n\\n  * [Media Releases](/content/stb/en/media-centre/media-releases.html)\\n  * [Speeches](/content/stb/en/media-centre/speeches.html)\\n  * [Corporate Publications](/content/stb/en/media-centre/corporate-publications.html)\\n  * [Newsletters](/content/stb/en/media-centre/newsletters.html)\\n\\nStatistics & Market Insights  __\\n\\n  * [Statistics & Market Insights Overview](/content/stb/en/statistics-and-market-insights/statistics-and-market-insights-overview.html)\\n  * [Tourism Statistics](/content/stb/en/statistics-and-market-insights/tourism-statistics.html)\\n\\nIndustries  __\\n\\n  * [Industries Overview](/content/stb/en/industries/industries-overview.html)\\n  * [Arts & Entertainment](/content/stb/en/industries/arts-and-entertainment.html)\\n  * [Attractions](/content/stb/en/industries/attractions.html)\\n  * [Cruise](/content/stb/en/industries/Cruise.html)\\n  * [Dining & Retail](/content/stb/en/industries/dining-and-retail.html)\\n  * [Hotels](/content/stb/en/industries/hotels.html)\\n  * [Integrated Resorts](/content/stb/en/industries/integrated-resorts.html)\\n  * [Meetings, Incentives, Conventions & Exhibitions](/content/stb/en/industries/meetings-incentives-conventions-exhibitions.html)\\n  * [Sports](/content/stb/en/industries/sports.html)\\n  * [Tourist Guides](/content/stb/en/industries/tourist-guides.html)\\n  * [Travel Agents](/content/stb/en/industries/travel-agents.html)\\n\\nAssistance & Licensing  __\\n\\n  * [Assistance and Licensing Overview](/content/stb/en/assistance-and-licensing/assistance-and-licensing.html)\\n  * [Tourism Sustainability Programme (TSP)](/content/stb/en/assistance-and-licensing/tsp.html)\\n  * [Singapore Visitor Centre (SVC) Network Partnership](/content/stb/en/assistance-and-licensing/singapore-visitor-centre-SVC-network-partnership.html)\\n  * [Grants Overview](/content/stb/en/assistance-and-licensing/grants-overview.html)\\n  * [Licensing Overview](/content/stb/en/assistance-and-licensing/licensing-overview.html)\\n  * [Tax Incentives Overview](/content/stb/en/assistance-and-licensing/tax-incentives-overview.html)\\n  * [Other Assistance & Resources Overview](/content/stb/en/assistance-and-licensing/other-assistance-resources-overview.html)\\n  * [SG Stories Content Fund Season 2](/content/stb/en/assistance-and-licensing/sg-stories-content-fund.html)\\n  * [Marketing Partnership Programme](/content/stb/en/assistance-and-licensing/MPP.html)\\n  * [SingapoReimagine Marketing Programme](/content/stb/en/assistance-and-licensing/SMP.html)\\n  * [Singapore On-screen Fund](/content/stb/en/assistance-and-licensing/singapore-on-screen-fund.html)\\n  * [Hotel Act](/content/stb/en/assistance-and-licensing/Hotel-Act.html)\\n  * [Hotel Licensing Regulations](/content/stb/en/assistance-and-licensing/Hotel-Licensing-Regulations.html)\\n\\nTrade Events & Resources  __\\n\\n  * [Tcube](/content/stb/en/trade-events-and-resources/Tcube.html)\\n  * [Data College](/content/stb/en/trade-events-and-resources/data-college.html)\\n  * [Trade Events and Activities](/content/stb/en/trade-events-and-resources/trade-events-and-activities.html)\\n  * [Trade Events Overview](/content/stb/en/trade-events-and-resources/trade-events-overview.html)\\n  * [SingapoReimagine Global Conversations](/content/stb/en/trade-events-and-resources/global-conversations.html)\\n  * [SingapoRediscovers Vouchers](/content/stb/en/trade-events-and-resources/SingapoRediscovers-Vouchers.html)\\n  * [Made With Passion](/content/stb/en/trade-events-and-resources/Made-With-Passion.html)\\n  * [Joint Promotion Opportunities](/content/stb/en/trade-events-and-resources/JointPromotionOpps.html)\\n  * [Procurement Opportunities for STB's Overseas Regional Offices ](/content/stb/en/trade-events-and-resources/procurement-opportunities.html)\\n  * [Product And Industry Updates](/content/stb/en/trade-events-and-resources/product-and-industry-updates.html)\\n  * [Rental of F1 Pit Building](/content/stb/en/trade-events-and-resources/Rental-of-F1-Pit-Building.html)\\n  * [Singapore Tourism Accelerator](/content/stb/en/trade-events-and-resources/Singapore-Tourism-Accelerator.html)\\n  * [Sponsorship Opportunities](/content/stb/en/trade-events-and-resources/sponsorship-opportunities.html)\\n  * [STB Marketing College](/content/stb/en/trade-events-and-resources/stb-marketing-college.html)\\n  * [Tourism Innovation Challenge](/content/stb/en/trade-events-and-resources/tourism-innovation-challenge.html)\\n  * [Harnessing Technology to Emerge Stronger Post COVID-19](/content/stb/en/trade-events-and-resources/harnessing-technology-to-emerge-stronger-post-covid-.html)\\n  * [Tourism Transformation Index (TXI)](/content/stb/en/trade-events-and-resources/Tourism-Transformation-Index.html)\\n  * [New Tourism Development in Jurong Lake District](/content/stb/en/trade-events-and-resources/jld-tourism-development.html)\\n  * [International Trade Events](/content/stb/en/trade-events-and-resources/international-trade-events.html)\\n  * [Singapore Familiarization Trips](/content/stb/en/trade-events-and-resources/singapore-familiarization-trips.html)\\n  * [EVA-Ready Programme](/content/stb/en/trade-events-and-resources/EVA-Ready-Programme.html)\\n  * [Tourism Industry Conference](/content/stb/en/trade-events-and-resources/TourismIndustryConference.html)\\n  * [Expo 2025 Sponsorship and Partnership Opportunities](/content/stb/en/trade-events-and-resources/expo_2025_sponsorship_and_partnership_opportunities.html)\\n  * [Virtual Influencer Open Call for Collaboration](/content/stb/en/trade-events-and-resources/virtual-influencer-open-call-for-collaboration.html)\\n\\nCareers  __\\n\\n  * [Overview](/content/stb/en/careers/overview.html)\\n  * [Students & Fresh Graduates](/content/stb/en/careers/students-and-fresh-graduates.html)\\n  * [Professionals](/content/stb/en/careers/professionals.html)\\n\\n**Search**\\n\\n  1. [Home](/content/stb/en.html)\\n  2. [Careers](/content/stb/en/careers.html)\\n\\n# Students & Fresh Graduates\\n\\n###  Our Work\\n\\nThe nature of our work demands a culture and environment that is progressive,\\ndriven, energetic and fun.\\n\\nAt STB, you will be surrounded by people who share a passion for tourism and a\\ndesire to shape and steer Singapore on the global stage. You will be inspired\\nto dream, experiment and execute innovative ideas that will transform the\\ntourism sector.\\n\\nWith values that foster respect, care, collaboration and compassion, you will\\nbuild lasting networks and enjoy enduring relationships both at and outside\\nwork.\\n\\n![STB-backdrop-rev](/content/stb/en/careers/students-and-fresh-\\ngraduates/_jcr_content/mainpar/image/image.img.jpg/1593874325037.jpg)\\n\\n\\u200bFrom driving mega events such as the Formula One Singapore Grand Prix and\\nreimagining and rejuvenating heritage precincts like Chinatown, to redefining\\nour cityscape with world class attractions like Gardens by the Bay, our work\\nis meaningful in many ways.  \\n\\nThrough our multi-faceted work, you will gain exposure to the diverse\\nindustries that tourism champions – from hotels and attractions to travel\\nagencies, and from entertainment and cruises to MICE (Meetings, Incentive\\nTravel, Conventions and Exhibitions). You will develop a macro and socio-\\neconomic perspective and an appreciation of how tourism contributes to\\nSingapore's growth. You will also hone your business acumen in the process.\\n\\nIn forging strong and collaborative partnerships with industry partners and\\nvarious government agencies, a career with STB also allows you to experience\\nand play a part in the planning, development, regulatory and policy-making\\naspects of the tourism business.\\u200b  \\n\\nThrough conceptualising, shaping and developing our tourism landscape – from\\nits products and experiences, to its infrastructure and capabilities – you\\nwill gain exposure to disciplines and competencies such as marketing, brand\\nmanagement, business development, investment promotion, product development,\\nplanning, research and resource and capability development.\\n\\nLast, but not least, in creating and showcasing the best of Singapore\\ninternationally, you will also develop global perspectives and gain valuable\\nexperiences.\\n\\n###  Our Programmes\\n\\n\\u200bAs a student or fresh graduate, entering the workforce can be daunting. With\\nour undergraduates and graduate opportunities, STB offers various ways to help\\nease young talents into the organisation:\\n\\nProgramme\\n\\n|\\n\\nApplication Period\\n\\n|\\n\\nSelection Period\\n\\n|\\n\\nApplication  \\n  \\n---|---|---|---  \\n[Scholarship Programme  \\n(Full-Term](/content/stb/en/careers/students-and-fresh-graduates/scholarship-\\nprogramme.html)[)](/content/stb/en/careers/students-and-fresh-\\ngraduates/scholarship-programme.html) | February (after A level results) |\\nMarch to May |\\n\\nPlease submit your application via Brightsparks:\\n[https://brightsparks.com.sg/profile/stb/stb-scholarship-\\nprogram.php?schid=9154](https://apac01.safelinks.protection.outlook.com/?url=https%3A%2F%2Fbrightsparks.com.sg%2Fprofile%2Fstb%2Fstb-\\nscholarship-\\nprogram.php%3Fschid%3D9154&data=05%7C01%7C%7Cf6229a0d5f90407c621b08db157fc365%7C84df9e7fe9f640afb435aaaaaaaaaaaa%7C1%7C0%7C638127410745726685%7CUnknown%7CTWFpbGZsb3d8eyJWIjoiMC4wLjAwMDAiLCJQIjoiV2luMzIiLCJBTiI6Ik1haWwiLCJXVCI6Mn0%3D%7C3000%7C%7C%7C&sdata=pTPRkC8%2Fe1eisR%2FYO5kgSmyj2S0GMZ7i8asr%2F7QR0f0%3D&reserved=0)  \\n  \\n[Scholarship Programme  \\n(Mid-Term)](/content/stb/en/careers/students-and-fresh-graduates/scholarship-\\nprogramme.html) | October | November to January |\\n\\nPlease submit your application via Brightsparks:\\n[https://brightsparks.com.sg/profile/stb/stb-scholarship-\\nprogram.php?schid=9154](https://apac01.safelinks.protection.outlook.com/?url=https%3A%2F%2Fbrightsparks.com.sg%2Fprofile%2Fstb%2Fstb-\\nscholarship-\\nprogram.php%3Fschid%3D9154&data=05%7C01%7C%7Cf6229a0d5f90407c621b08db157fc365%7C84df9e7fe9f640afb435aaaaaaaaaaaa%7C1%7C0%7C638127410745726685%7CUnknown%7CTWFpbGZsb3d8eyJWIjoiMC4wLjAwMDAiLCJQIjoiV2luMzIiLCJBTiI6Ik1haWwiLCJXVCI6Mn0%3D%7C3000%7C%7C%7C&sdata=pTPRkC8%2Fe1eisR%2FYO5kgSmyj2S0GMZ7i8asr%2F7QR0f0%3D&reserved=0)  \\n  \\n[Internship Programme](/content/stb/en/careers/students-and-fresh-\\ngraduates/internship-programme.html) | January to 9 February 2024 | February\\nto March |\\n\\nApplication is now closed.  \\n  \\nTTG Internship Programme | August to September | September to November |\\nApplications are now open.  \\n[Management Associate Programme](/content/stb/en/careers/students-and-fresh-\\ngraduates/management-associate-programme.html) | September to November |\\nOctober to April | Application is now closed.  \\n  \\n###  Award-winning Workplace\\n\\n![gtimedia-singapores100-logo](/content/stb/en/careers/students-and-fresh-\\ngraduates/_jcr_content/mainpar/column_two/grid-left-\\npar/image/image.img.jpg/1593874324113.jpg)\\n\\n**Singapore's Top 100 Leading Graduate Employers**\\n\\n  * Winner - Hospitality, Leisure, and Tourism Sector (2021)\\n  * 3rd Most Attractive - Hospitality, Leisure, and Travel Sector (2017).\\n\\n![file](/content/stb/en/careers/students-and-fresh-\\ngraduates/_jcr_content/mainpar/column_two/grid-right-\\npar/image/image.img.png/1590640473467.png)\\n\\n**Attractive Employer**\\n\\n**_2021_**\\n\\n  * 11th Most Attractive - Humanities / Liberal Arts / Education Students \\n  * 28th Most Attractive - Business Students \\n  * 71th Most Attractive - Engineering Students \\n  * 75th Most Attractive - IT Students\\n\\n**_2020_**\\n\\n  * 13th Most Attractive - Humanities / Liberal Arts / Education Students\\n  * 22nd Most Attractive - Business Students \\n  * 79th Most Attractive - Engineering / Natural Sciences Students\\n  * 83rd Most Attractive - IT Students \\n\\n#### **Singapore Tourism Board**\\n\\n**Site Index**\\n\\n  * [Home Page](/content/stb/en.html)\\n  * [About STB](/content/stb/en/about-stb.html)\\n  * [Media Centre](/content/stb/en/media-centre.html)\\n  * [Statistics & Market Insights](/content/stb/en/statistics-and-market-insights.html)\\n  * [Industries](/content/stb/en/industries.html)\\n\\n  * [Assistance & Licensing ](/content/stb/en/assistance-and-licensing.html)\\n  * [Trade Events & Resources](/content/stb/en/trade-events-and-resources.html)\\n  * [Careers](/content/stb/en/careers.html)\\n  * [TIH communications feedback survey](/content/stb/en/tihsurvey.html)\\n\\n  \\n\\n**Other STB Websites**\\n\\n  * [Visit Singapore - Tourist Information __](http://www.visitsingapore.com)\\n  * [Singapore Exhibition & Convention Bureau (SECB) __](http://www.visitsingapore.com/mice/en.html)\\n  * [Singapore Tourism Awards __](https://www.singaporetourismawards.com/)\\n  * [Singapore Tourism Information and Services Hub (TIH) __](https://tih.stb.gov.sg/)\\n  * [Travel Agents and Tourist Guides Licensing System (TRUST) __](https://trust.stb.gov.sg/site/content/tagaem/landing-page.html)\\n  * [Singapore Tourism Analytics Network (Stan) __](https://stan.stb.gov.sg/portal/)\\n\\n  * [Contact Us](/content/stb/en/footer/contact-us.html)\\n  * [Feedback](/content/stb/en/footer/feedback.html)\\n  * [FAQs](/content/stb/en/footer/FAQs.html)\\n  * [Sitemap](/content/stb/en/footer/sitemap.html)\\n\\n* * *\\n\\n  * [Report Vulnerability](/content/stb/en/footer/report-vulnerability.html)\\n  * [Privacy Statement](/content/stb/en/footer/privacy-statement.html)\\n  * [Terms of Use](/content/stb/en/footer/terms-of-use.html)\\n\\n  \\n\\n@2019 Government of Singapore.  \\nLast Updated 05 March 2024\\n\\n#####  About the Organisation\\n\\n###### What Industry does your organization fall within?\\n\\nArts Attractions Cruise Dining Entertainment Event Organisers Hotels Meetings,\\nIncentive Travel, Conferences & Exhibitions (MICE) Retail Sports Technology /\\nIT-related Tourist Guides Travel Agents\\n\\n###### What best describes the **_key_ ** intent of the project that your\\norganisation is seeking funding for?\\n\\nOrganise an event in Singapore. Deploying cruise ships in Singapore and/or\\ndeveloping initiatives that will grow the cruise industry. Enhance tourists'\\nexperience and satisfaction through development of tourism products (such as\\nsouvenirs and tours) and experiences (including virtual experiences leveraging\\non technology such as AR/VR). Create or rejuvenate a tourism product (such as\\nstandalone infrastructure development or major attraction) to heighten\\ninterest in Singapore as a tourist destination. Improve our organisation's\\nand/or staff's capability and/or productivity. Conduct market feasibility\\nstudy relating to the tourism sector. None of the above.\\n\\n###### Is your organisation a Singapore-registered legal entity?\\n\\nYes No\\n\\n###### Is your organisation an association?\\n\\nYes, we are a precinct association. Yes, we are an industry association in the\\ncore/key tourism industry. Yes, we are an industry association but not in the\\ncore/key tourism industry. No  \\nNote: Core/key industry includes Attractions, Cruise, Hotels, MICE, Tourist\\nGuides, Travel Agents, Arts, Dining, Entertainment, Retail\\n\\n###### Is the project able to achieve one or more of the following outcome?\\n\\n  1. Increase no. of sailings to/from Singapore\\n  2. Increase no. of foreign cruise passengers to Singapore through sailings to/from Singapore \\n  3. Increase no. of pre/post nights for cruise passengers sailing to/from Singapore\\n  4. Increase capability of industry players via cruise-specific industry training programmes\\n  5. Strengthen the potential/ attractiveness of cruising in Singapore and/or Southeast Asia\\n\\nYes. No.\\n\\n###### Is the project able to achieve one or more of the following?\\n\\n  1. Improve visitor satisfaction (especially foreign visitors)\\n  2. Increase footfall\\n  3. Increase revenue \\n  4. Significant branding and PR value\\n\\nYes. No.\\n\\n###### Is the project able to attract foreign visitors and contribute to\\nforeign visitors' spend?\\n\\nYes. No.\\n\\n###### Who will be the main target audience of your project?\\n\\nLocals (i.e. Singapore citizens, permanent residents or foreigners residing in\\nSingapore). Non-local (i.e. foreign visitors to Singapore) business delegates.\\nNon-local (i.e. foreign visitors to Singapore) leisure consumers.\\n\\n###### Is your project innovative and/or a new event in Singapore with tourism\\npotential?\\n\\nYes. No.\\n\\n###### What best describes your project?\\n\\nWe want to organise and/or bid to organise an association convention in\\nSingapore. We want to organise a trade conference in Singapore. We want to\\norganise an exhibition in Singapore. We want to hold our corporate activity\\n(e.g. board meeting, incentive trip, etc) in Singapore. None of the above.\\n\\n###### What best describes your project?\\n\\nWe want to organise an innovative and/or new event in Singapore. We want to\\norganise an existing event in Singapore.  None of the above.\\n\\n###### What best describes your project?\\n\\nWe want to organize a new event with some tourism potential in Singapore. We\\nwant to organize a new event with high tourism potential in Singapore.\\n\\n###### Does the event have proven track records in Singapore or overseas,\\nand/or growth in tourism value such as growing foreign visitorship, and/or\\nenhancement of precinct vibrancy etc?\\n\\nYes. No.\\n\\n###### Does the project have a clear _tourism focus_ (e.g. tourism-related\\ntrainings, tourism companies taking on capability development initiatives or\\ntechnology companies creating technology products and services for the tourism\\nbusinesses)?\\n\\nYes. No.\\n\\n###### What best describes your project?\\n\\nWe want to upgrade our employees' and/or members' skill sets, and/or build\\ntalent(s) for the industry through training. We want to improve our\\nproductivity and competitiveness through capability development initiatives.\\nWe want to develop a technology product and/or service to improve the\\nproductivity of businesses in the tourism sector.\\n\\n###### What Industry does your organization fall within?\\n\\nCore tourism industries: Attractions, Cruise, Hotels, MICE, Tourist Guides,\\nTravel Agents. Key tourism Industries: Arts, Dining, Entertainment, Retail.\\nOthers: e.g. Event Organisers, Sports, Technology/IT-related.\\n\\n###### What Industry does your organization fall within?\\n\\nCore tourism industries: Attractions, Cruise, Hotels, MICE, Tourist Guides,\\nTravel Agents. Key tourism Industries: Arts, Dining, Entertainment, Retail.\\nOthers: e.g. Event Organisers*, Sports, Technology/IT-related.  \\n*For EOs organizing MICE, pls select option (a). \\n\\n###### What best describes your project?\\n\\nWe want to upgrade our employees' and/or members' skill sets, and/or build\\ntalent(s) for the industry through training. We want to improve our\\nproductivity and competitiveness through capability development initiatives.\\nWe want to develop a technology product and/or service to improve the\\nproductivity of businesses in the tourism sector.\\n\\n###### What best describes your market feasibility study project?\\n\\nWe want to conduct a market study related to cruising from Singapore.  We want\\nto conduct a market study on the potential to create / rejuvenate a tourism\\nproduct (such as standalone infrastructure development) in Singapore.  We want\\nto conduct a market study on the potential of holding our business event in\\nSingapore.\\n\\nBased on your selection, the following STB grant/s may be applicable for your\\nproject:\\n\\n####\\n\\nView Page for more details on the Fund  \\n  \\n\\nPlease note that projects that have commenced prior to Singapore Tourism\\nBoard's offer may not be eligible for grant support. Examples where projects\\nare deemed as having commenced include:\\n\\n  * Applicant has started work on the project e.g. tender has been called.\\n  * Applicant has made payment(s) to any supplier, vendor or third party.\\n  * Applicant has signed a contractual agreement with any supplier, vendor or third party.\\n\\nBased on your selection, STB grants may not be applicable for your project.\\nPlease click\\n[here](https://eadviser.gobusiness.gov.sg/govassist/?src=home_quicklinks) for\\nan overview of the various government assistance.\\n\\nBack Next\\n\\n![](https://px.ads.linkedin.com/collect/?pid=151643&fmt=gif)\\n\\n\", start_char_idx=None, end_char_idx=None, text_template='{metadata_str}\\n\\n{content}', metadata_template='{key}: {value}', metadata_seperator='\\n')]"
      ]
     },
     "execution_count": 16,
     "metadata": {},
     "output_type": "execute_result"
    }
   ],
   "source": [
    "web_documents"
   ]
  },
  {
   "cell_type": "code",
   "execution_count": null,
   "metadata": {},
   "outputs": [],
   "source": [
    "local_documents"
   ]
  },
  {
   "cell_type": "code",
   "execution_count": 19,
   "metadata": {},
   "outputs": [],
   "source": [
    "combined_documents = local_documents + web_documents"
   ]
  },
  {
   "cell_type": "code",
   "execution_count": 20,
   "metadata": {},
   "outputs": [
    {
     "data": {
      "text/plain": [
       "54"
      ]
     },
     "execution_count": 20,
     "metadata": {},
     "output_type": "execute_result"
    }
   ],
   "source": [
    "len(combined_documents)"
   ]
  },
  {
   "cell_type": "code",
   "execution_count": null,
   "metadata": {},
   "outputs": [],
   "source": [
    "# Web documents are appended to the end of the document object\n",
    "combined_documents"
   ]
  },
  {
   "cell_type": "code",
   "execution_count": 26,
   "metadata": {},
   "outputs": [],
   "source": [
    "# Test query over combined documents\n",
    "combined_index = VectorStoreIndex.from_documents(combined_documents, embed_model=embed_model)\n",
    "new_query_engine = combined_index.as_query_engine()"
   ]
  },
  {
   "cell_type": "code",
   "execution_count": 31,
   "metadata": {},
   "outputs": [
    {
     "name": "stdout",
     "output_type": "stream",
     "text": [
      "The programmes for students or fresh graduates at STB include the Scholarship Programme (Full-Term and Mid-Term) and the Internship Programme. These programmes provide opportunities for young talents to enter the workforce and gain valuable experiences in the tourism industry.\n"
     ]
    }
   ],
   "source": [
    "response_1 = new_query_engine.query(\"What are the programmes for students or fresh graduates at stb?\")\n",
    "print(response.response)"
   ]
  },
  {
   "cell_type": "code",
   "execution_count": 30,
   "metadata": {},
   "outputs": [
    {
     "name": "stdout",
     "output_type": "stream",
     "text": [
      "The links for TA complaints are:\n",
      "1. [https://orchid.stb.gov.sg/display/INDUSTRY/General+SOP+-+CC](https://orchid.stb.gov.sg/display/INDUSTRY/General+SOP+-+CC)\n",
      "2. [https://orchid.stb.gov.sg/display/INDUSTRY/General+SOP+-+CC](https://orchid.stb.gov.sg/display/INDUSTRY/General+SOP+-+CC)\n"
     ]
    }
   ],
   "source": [
    "response_2 = new_query_engine.query(\"Where is hotel v lavender\")\n",
    "print(response_2.response)"
   ]
  }
 ],
 "metadata": {
  "kernelspec": {
   "display_name": "stbladp",
   "language": "python",
   "name": "python3"
  },
  "language_info": {
   "codemirror_mode": {
    "name": "ipython",
    "version": 3
   },
   "file_extension": ".py",
   "mimetype": "text/x-python",
   "name": "python",
   "nbconvert_exporter": "python",
   "pygments_lexer": "ipython3",
   "version": "3.11.3"
  }
 },
 "nbformat": 4,
 "nbformat_minor": 2
}
