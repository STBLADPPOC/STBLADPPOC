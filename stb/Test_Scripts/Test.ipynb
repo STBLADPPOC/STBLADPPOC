{
 "cells": [
  {
   "cell_type": "code",
   "execution_count": 8,
   "metadata": {},
   "outputs": [],
   "source": [
    "from dotenv import load_dotenv\n",
    "import os\n",
    "import utils\n",
    "import pandas as pd\n",
    "from llama_index.llms.azure_openai import AzureOpenAI\n",
    "from llama_index.embeddings.azure_openai import AzureOpenAIEmbedding\n",
    "from llama_index.core import VectorStoreIndex,Settings\n",
    "from llama_index.readers.web import SimpleWebPageReader"
   ]
  },
  {
   "cell_type": "code",
   "execution_count": 2,
   "metadata": {},
   "outputs": [],
   "source": [
    "load_dotenv()\n",
    "os.environ[\"OPENAI_API_KEY\"] = os.getenv('API_KEY')\n",
    "os.environ[\"AZURE_OPENAI_ENDPOINT\"] = os.getenv('OPENAI_API_BASE')\n",
    "os.environ[\"OPENAI_API_VERSION\"] = \"2023-07-01-preview\""
   ]
  },
  {
   "cell_type": "code",
   "execution_count": 3,
   "metadata": {},
   "outputs": [
    {
     "name": "stdout",
     "output_type": "stream",
     "text": [
      "the sun is shining brightly, casting a warm glow on everything below. The clouds are fluffy and white, scattered across the sky like cotton candy. Birds are chirping melodiously, adding a sweet symphony to the serene atmosphere. The trees sway gently with the breeze, their leaves rustling softly. The air is fresh and crisp, carrying the scent of blooming flowers and freshly cut grass. It's a perfect day, filled with peace and tranquility.\n"
     ]
    }
   ],
   "source": [
    "llm = AzureOpenAI(\n",
    "    engine=\"STB-POC-JUNE\", model=\"gpt-4\", temperature=0.0\n",
    ")\n",
    "response = llm.complete(\"The sky is a beautiful blue and\")\n",
    "print(response)"
   ]
  },
  {
   "cell_type": "code",
   "execution_count": 10,
   "metadata": {},
   "outputs": [],
   "source": [
    "openai_embed_model = AzureOpenAIEmbedding(\n",
    "    model=\"text-embedding-ada-002\",\n",
    "    api_key=os.environ[\"OPENAI_API_KEY\"],\n",
    "    azure_endpoint=os.environ[\"AZURE_OPENAI_ENDPOINT\"],\n",
    "    api_version=os.environ[\"OPENAI_API_VERSION\"],\n",
    "    deployment_name='STB-POC-Embed'\n",
    ")"
   ]
  },
  {
   "cell_type": "code",
   "execution_count": 11,
   "metadata": {},
   "outputs": [],
   "source": [
    "Settings.llm = llm\n",
    "#Settings.node_parser = text_splitter\n",
    "Settings.embed_model = openai_embed_model"
   ]
  },
  {
   "cell_type": "code",
   "execution_count": 13,
   "metadata": {},
   "outputs": [
    {
     "name": "stdout",
     "output_type": "stream",
     "text": [
      "SOURCE +++++++>>>>>> > Source (Doc id: 0ee61fe9-8e7d-4619-8399-d0e38242804c): You will also hone your business acumen in the process.\n",
      "\n",
      "In forging strong and collaborative part...\n",
      "\n",
      "> Source (Doc id: 3bcea703-c48a-48c7-8272-c4957421e126): html)\n",
      "  * [Harnessing Technology to Emerge Stronger Post COVID-19](/content/stb/en/trade-events-a...\n"
     ]
    }
   ],
   "source": [
    "url_list = utils.read_excel_to_list(pd,'data/urls.xlsx')\n",
    "urls = utils.get_values(url_list)\n",
    "#print(urls)\n",
    "\n",
    "documents = SimpleWebPageReader(html_to_text=True).load_data(urls)\n",
    "#print(documents)\n",
    "\n",
    "index = VectorStoreIndex.from_documents(documents)\n",
    "query_engine = index.as_query_engine()\n",
    "response = query_engine.query(\"Graduate and Fresh Graduate opportunities at STB\")\n",
    "# print(response)\n",
    "print(\"SOURCE +++++++>>>>>>\",response.get_formatted_sources())"
   ]
  }
 ],
 "metadata": {
  "kernelspec": {
   "display_name": ".venv",
   "language": "python",
   "name": "python3"
  },
  "language_info": {
   "codemirror_mode": {
    "name": "ipython",
    "version": 3
   },
   "file_extension": ".py",
   "mimetype": "text/x-python",
   "name": "python",
   "nbconvert_exporter": "python",
   "pygments_lexer": "ipython3",
   "version": "3.11.3"
  }
 },
 "nbformat": 4,
 "nbformat_minor": 2
}
